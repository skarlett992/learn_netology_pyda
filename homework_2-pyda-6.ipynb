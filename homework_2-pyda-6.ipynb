{
 "cells": [
  {
   "cell_type": "code",
   "execution_count": 1,
   "metadata": {},
   "outputs": [
    {
     "data": {
      "text/plain": [
       "[{'visit1': ['Москва', 'Россия']},\n",
       " {'visit3': ['Владимир', 'Россия']},\n",
       " {'visit7': ['Тула', 'Россия']},\n",
       " {'visit8': ['Тула', 'Россия']},\n",
       " {'visit9': ['Курск', 'Россия']},\n",
       " {'visit10': ['Архангельск', 'Россия']}]"
      ]
     },
     "execution_count": 1,
     "metadata": {},
     "output_type": "execute_result"
    }
   ],
   "source": [
    "'''Задание 1\n",
    "\n",
    "Дан список с визитами по городам и странам. Напишите код, который возвращает отфильтрованный список geo_logs, содержащий только визиты из России. \n",
    "Считайте, что список geo_logs легко помещается в оперативной памяти.'''\n",
    "geo_logs = [\n",
    "{'visit1': ['Москва', 'Россия']},\n",
    "{'visit2': ['Дели', 'Индия']},\n",
    "{'visit3': ['Владимир', 'Россия']},\n",
    "{'visit4': ['Лиссабон', 'Португалия']},\n",
    "{'visit5': ['Париж', 'Франция']},\n",
    "{'visit6': ['Лиссабон', 'Португалия']},\n",
    "{'visit7': ['Тула', 'Россия']},\n",
    "{'visit8': ['Тула', 'Россия']},\n",
    "{'visit9': ['Курск', 'Россия']},\n",
    "{'visit10': ['Архангельск', 'Россия']},\n",
    "]\n",
    "list(filter(lambda visit: 'Россия' in list(visit.values())[0], geo_logs))"
   ]
  },
  {
   "cell_type": "code",
   "execution_count": 5,
   "metadata": {},
   "outputs": [
    {
     "data": {
      "text/plain": [
       "[98, 35, 15, 213, 54, 119]"
      ]
     },
     "execution_count": 5,
     "metadata": {},
     "output_type": "execute_result"
    }
   ],
   "source": [
    "\"\"\"Задание 2\n",
    "\n",
    "Выведите на экран все уникальные гео-ID из списка координат ids. \n",
    "Т. е. список вида [213, 15, 54, 119, 98, 35]\"\"\"\n",
    "\n",
    "ids = {'user1': [213, 213, 213, 15, 213], \n",
    "       'user2': [54, 54, 119, 119, 119], \n",
    "       'user3': [213, 98, 98, 35]}\n",
    "result = []\n",
    "for v in list(ids.values()):\n",
    "    result += v\n",
    "list(set(result))"
   ]
  },
  {
   "cell_type": "code",
   "execution_count": 4,
   "metadata": {},
   "outputs": [
    {
     "name": "stdout",
     "output_type": "stream",
     "text": [
      "3-словных запросов: 57.1%\n",
      "2-словных запросов: 42.9%\n"
     ]
    }
   ],
   "source": [
    "'''Задание 3\n",
    "\n",
    "Список поисковых запросов. Получить распределение количества слов в них. \n",
    "Т. е. поисковых запросов из одного слова 5%, из двух - 7%, из трех - 3% итд.'''\n",
    "queries = [\n",
    "    'смотреть сериалы онлайн',\n",
    "    'новости спорта',\n",
    "    'афиша кино',\n",
    "    'курс доллара',\n",
    "    'сериалы этим летом',\n",
    "    'курс по питону',\n",
    "    'сериалы про спорт',\n",
    "]\n",
    "frequency = {}\n",
    "\n",
    "for i in queries:\n",
    "    if len(i.split(' ')) not in frequency:\n",
    "        frequency[len(i.split(' '))] = 1\n",
    "    else:\n",
    "        frequency[len(i.split(' '))] += 1\n",
    "\n",
    "for key, value in frequency.items():\n",
    "    print(f\"{key}-словных запросов: {round(value / len(queries) * 100, 1)}%\")"
   ]
  },
  {
   "cell_type": "code",
   "execution_count": 7,
   "metadata": {},
   "outputs": [
    {
     "name": "stdout",
     "output_type": "stream",
     "text": [
      "Среднее кол-во просмотров на пользователя: 23.25\n"
     ]
    }
   ],
   "source": [
    "'''Дополнительное задание- по желанию\n",
    "\n",
    "Задание 4 (бонусное)\n",
    "Дан поток логов по количеству просмотренных страниц для каждого пользователя. \n",
    "Список отсортирован по ID пользователя. Вам необходимо написать алгоритм, \n",
    "который считает среднее значение просмотров на пользователя.\n",
    "Т. е. надо посчитать отношение суммы всех просмотров к количеству уникальных пользователей. \n",
    "Учтите, что весь список stream не помещается в оперативную память, т. е. \n",
    "его нужно обрабатывать поэлементно в цикле.'''\n",
    "\n",
    "stream = [\n",
    "    '2018-01-01,user1,3',\n",
    "    '2018-01-07,user1,4',\n",
    "    '2018-03-29,user1,1',\n",
    "    '2018-04-04,user1,13',\n",
    "    '2018-01-05,user2,7',\n",
    "    '2018-06-14,user3,4',\n",
    "    '2018-07-02,user3,10',\n",
    "    '2018-03-21,user4,19',\n",
    "    '2018-03-22,user4,4',\n",
    "    '2018-04-22,user4,8',\n",
    "    '2018-05-03,user4,9',\n",
    "    '2018-05-11,user4,11',\n",
    "]\n",
    "user_list = set()\n",
    "value_list = [] \n",
    "for visit in stream:\n",
    "    user_list.add(visit.split(',')[1]) \n",
    "    value_list.append(int(visit.split(',')[2]))\n",
    "print(\"Среднее кол-во просмотров на пользователя: \", sum(value_list) / len(user_list), sep=\"\")\n"
   ]
  },
  {
   "cell_type": "code",
   "execution_count": null,
   "metadata": {},
   "outputs": [],
   "source": []
  }
 ],
 "metadata": {
  "kernelspec": {
   "display_name": "Python 3",
   "language": "python",
   "name": "python3"
  },
  "language_info": {
   "codemirror_mode": {
    "name": "ipython",
    "version": 3
   },
   "file_extension": ".py",
   "mimetype": "text/x-python",
   "name": "python",
   "nbconvert_exporter": "python",
   "pygments_lexer": "ipython3",
   "version": "3.7.3"
  }
 },
 "nbformat": 4,
 "nbformat_minor": 2
}

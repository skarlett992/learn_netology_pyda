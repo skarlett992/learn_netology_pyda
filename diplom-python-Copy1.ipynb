{
 "cells": [
  {
   "cell_type": "markdown",
   "metadata": {
    "colab_type": "text",
    "id": "9wqpiQR2AbtX"
   },
   "source": [
    "# Диплом"
   ]
  },
  {
   "cell_type": "markdown",
   "metadata": {},
   "source": [
    "Доработка: выводы по п.3-4,  6-9:\n",
    "        3-4: Поскольку коэффициенты корреляции очень малы , к тому же они не всегда означают безусловную зависимость, на графиках видно, что ее практически и нет.\n",
    "6-9: Больше всего работников в продажах, IT и тех департаментах, меньше всего в менеджменте и у них самый высокий заработок, также неплохой у тех поддержки. Текучка довольно большая (3,5 тыс против 11,5- это около четверти)\n",
    "5:\n",
    "P-value везде <0.05, следовательно,  ни одна зависимость из представленных не описывается теоремой Гаусса и распределение не является нормальным.\n",
    "Поскольку коэффициенты корреляции очень малы , к тому же они не всегда означают безусловную зависимость, гипотезы о вышеперечисленных зависимостях не верны. \n",
    "10: \n",
    "почему сотрудники покидают компанию: \n",
    "\n",
    "Ни линейные, ни полиномиальные регрессии от одного рода данных согласно корреляции, ни дерево решений, (которое даже не стала оставлять для сравнения), не дали объективных показателей во-первых, из-за того, что зависимая переменная y является вероятностью 0 или 1. Следовательно, подходит логистическая регрессия и от всех параметров(за исключением департаментов, так как они ни на что не влияют. Все остальное важно, в том числе зп, и так как она распределена в виде строковых данных, ее необходимо перевести во float и включить в выборку x как 1,2 3 либо 100,200,300 соответственно (малая, средняя, большая зп - 3 вида). \n",
    "В результате наконец удалось построить модель со средними показателями. Следовательно, все данные, участвовавшие в выборке (все с небольшими корреляциями) влияют на решение работника покинуть компанию - это и уровень зп, и время, затраченное на проекты, их количество, время работы в компании, повышение и тд .\n",
    "Качество модели не особо высокое - не более 80%, но это все, что можно «выжать» из имеющихся данных.\n",
    "#accuracy - сколько % модель верно распознала на тестовых\n",
    "#precision - сколько % из тех, кого мы назвали 1(уволившимися/уволенными), на самом деле уволившиеся/уволенные\n",
    "#recall- наоборот от precision\n",
    "\n",
    "Нельзя сказать, что больше всего на решение покинуть компанию влияют корреляционные по Пирсону переменные, потому что accuracy на 2% меньше, чем при использовании всех признаков. Следовательно - все они важны в некоторых долях.\n"
   ]
  },
  {
   "cell_type": "markdown",
   "metadata": {
    "colab_type": "text",
    "id": "V3N8qycM-xP9"
   },
   "source": [
    "Проектная работа по модулю “Математика и статистика в Python”\n"
   ]
  },
  {
   "cell_type": "markdown",
   "metadata": {},
   "source": [
    "1.Загрузить файл hr.csv.\n"
   ]
  },
  {
   "cell_type": "code",
   "execution_count": 24,
   "metadata": {},
   "outputs": [
    {
     "data": {
      "text/html": [
       "<div>\n",
       "<style scoped>\n",
       "    .dataframe tbody tr th:only-of-type {\n",
       "        vertical-align: middle;\n",
       "    }\n",
       "\n",
       "    .dataframe tbody tr th {\n",
       "        vertical-align: top;\n",
       "    }\n",
       "\n",
       "    .dataframe thead th {\n",
       "        text-align: right;\n",
       "    }\n",
       "</style>\n",
       "<table border=\"1\" class=\"dataframe\">\n",
       "  <thead>\n",
       "    <tr style=\"text-align: right;\">\n",
       "      <th></th>\n",
       "      <th>satisfaction_level</th>\n",
       "      <th>last_evaluation</th>\n",
       "      <th>number_project</th>\n",
       "      <th>average_montly_hours</th>\n",
       "      <th>time_spend_company</th>\n",
       "      <th>Work_accident</th>\n",
       "      <th>left</th>\n",
       "      <th>promotion_last_5years</th>\n",
       "      <th>sales</th>\n",
       "      <th>salary</th>\n",
       "    </tr>\n",
       "  </thead>\n",
       "  <tbody>\n",
       "    <tr>\n",
       "      <th>0</th>\n",
       "      <td>0.38</td>\n",
       "      <td>0.53</td>\n",
       "      <td>2</td>\n",
       "      <td>157</td>\n",
       "      <td>3</td>\n",
       "      <td>0</td>\n",
       "      <td>1</td>\n",
       "      <td>0</td>\n",
       "      <td>sales</td>\n",
       "      <td>low</td>\n",
       "    </tr>\n",
       "    <tr>\n",
       "      <th>1</th>\n",
       "      <td>0.80</td>\n",
       "      <td>0.86</td>\n",
       "      <td>5</td>\n",
       "      <td>262</td>\n",
       "      <td>6</td>\n",
       "      <td>0</td>\n",
       "      <td>1</td>\n",
       "      <td>0</td>\n",
       "      <td>sales</td>\n",
       "      <td>medium</td>\n",
       "    </tr>\n",
       "    <tr>\n",
       "      <th>2</th>\n",
       "      <td>0.11</td>\n",
       "      <td>0.88</td>\n",
       "      <td>7</td>\n",
       "      <td>272</td>\n",
       "      <td>4</td>\n",
       "      <td>0</td>\n",
       "      <td>1</td>\n",
       "      <td>0</td>\n",
       "      <td>sales</td>\n",
       "      <td>medium</td>\n",
       "    </tr>\n",
       "    <tr>\n",
       "      <th>3</th>\n",
       "      <td>0.72</td>\n",
       "      <td>0.87</td>\n",
       "      <td>5</td>\n",
       "      <td>223</td>\n",
       "      <td>5</td>\n",
       "      <td>0</td>\n",
       "      <td>1</td>\n",
       "      <td>0</td>\n",
       "      <td>sales</td>\n",
       "      <td>low</td>\n",
       "    </tr>\n",
       "    <tr>\n",
       "      <th>4</th>\n",
       "      <td>0.37</td>\n",
       "      <td>0.52</td>\n",
       "      <td>2</td>\n",
       "      <td>159</td>\n",
       "      <td>3</td>\n",
       "      <td>0</td>\n",
       "      <td>1</td>\n",
       "      <td>0</td>\n",
       "      <td>sales</td>\n",
       "      <td>low</td>\n",
       "    </tr>\n",
       "  </tbody>\n",
       "</table>\n",
       "</div>"
      ],
      "text/plain": [
       "   satisfaction_level  last_evaluation  number_project  average_montly_hours  \\\n",
       "0                0.38             0.53               2                   157   \n",
       "1                0.80             0.86               5                   262   \n",
       "2                0.11             0.88               7                   272   \n",
       "3                0.72             0.87               5                   223   \n",
       "4                0.37             0.52               2                   159   \n",
       "\n",
       "   time_spend_company  Work_accident  left  promotion_last_5years  sales  \\\n",
       "0                   3              0     1                      0  sales   \n",
       "1                   6              0     1                      0  sales   \n",
       "2                   4              0     1                      0  sales   \n",
       "3                   5              0     1                      0  sales   \n",
       "4                   3              0     1                      0  sales   \n",
       "\n",
       "   salary  \n",
       "0     low  \n",
       "1  medium  \n",
       "2  medium  \n",
       "3     low  \n",
       "4     low  "
      ]
     },
     "execution_count": 24,
     "metadata": {},
     "output_type": "execute_result"
    }
   ],
   "source": [
    "import numpy as np\n",
    "from scipy.stats import t\n",
    "from scipy.stats import norm\n",
    "import matplotlib.pyplot as plt\n",
    "from scipy import stats\n",
    "import pandas as pd\n",
    "import io\n",
    "import requests\n",
    "import seaborn as sns\n",
    "import statistics\n",
    "\n",
    "%matplotlib inline\n",
    "url=\"hr.csv\"\n",
    "df=pd.read_csv(url)\n",
    "df[:5]"
   ]
  },
  {
   "cell_type": "markdown",
   "metadata": {},
   "source": [
    "2. Рассчитать основные статистики для переменных (среднее,медиана,мода,мин/макс,сред.отклонение).\n"
   ]
  },
  {
   "cell_type": "markdown",
   "metadata": {},
   "source": [
    "среднее последней оценки"
   ]
  },
  {
   "cell_type": "code",
   "execution_count": 25,
   "metadata": {},
   "outputs": [
    {
     "data": {
      "text/plain": [
       "0.7161017401159978"
      ]
     },
     "execution_count": 25,
     "metadata": {},
     "output_type": "execute_result"
    }
   ],
   "source": [
    "statistics.mean(df['last_evaluation'])\n",
    "sum(df['last_evaluation'])/len(df['last_evaluation'])"
   ]
  },
  {
   "cell_type": "markdown",
   "metadata": {},
   "source": [
    "медиана последней оценки"
   ]
  },
  {
   "cell_type": "code",
   "execution_count": 26,
   "metadata": {},
   "outputs": [
    {
     "name": "stdout",
     "output_type": "stream",
     "text": [
      "Медиана:  0.72\n"
     ]
    }
   ],
   "source": [
    "print('Медиана: ', statistics.median(df['last_evaluation']))"
   ]
  },
  {
   "cell_type": "markdown",
   "metadata": {},
   "source": [
    "мода"
   ]
  },
  {
   "cell_type": "code",
   "execution_count": 27,
   "metadata": {},
   "outputs": [
    {
     "name": "stdout",
     "output_type": "stream",
     "text": [
      "Значение моды:  0.55\n"
     ]
    }
   ],
   "source": [
    "print('Значение моды: ', statistics.mode(df['last_evaluation']))"
   ]
  },
  {
   "cell_type": "markdown",
   "metadata": {},
   "source": [
    "мин"
   ]
  },
  {
   "cell_type": "code",
   "execution_count": 28,
   "metadata": {},
   "outputs": [
    {
     "data": {
      "text/plain": [
       "0.36"
      ]
     },
     "execution_count": 28,
     "metadata": {},
     "output_type": "execute_result"
    }
   ],
   "source": [
    "#df.min('last_evaluation')\n",
    "df['last_evaluation'].dtype\n",
    "min(df['last_evaluation'])"
   ]
  },
  {
   "cell_type": "markdown",
   "metadata": {},
   "source": [
    "макс"
   ]
  },
  {
   "cell_type": "code",
   "execution_count": 29,
   "metadata": {},
   "outputs": [
    {
     "data": {
      "text/plain": [
       "1.0"
      ]
     },
     "execution_count": 29,
     "metadata": {},
     "output_type": "execute_result"
    }
   ],
   "source": [
    "max(df['last_evaluation'])"
   ]
  },
  {
   "cell_type": "markdown",
   "metadata": {},
   "source": [
    "стандартное отклонение"
   ]
  },
  {
   "cell_type": "code",
   "execution_count": 30,
   "metadata": {},
   "outputs": [
    {
     "data": {
      "text/plain": [
       "0.17116911062327592"
      ]
     },
     "execution_count": 30,
     "metadata": {},
     "output_type": "execute_result"
    }
   ],
   "source": [
    "df['last_evaluation'].std()"
   ]
  },
  {
   "cell_type": "markdown",
   "metadata": {},
   "source": [
    "3.Рассчитать и визуализировать корреляционную матрицу для переменных.\n"
   ]
  },
  {
   "cell_type": "code",
   "execution_count": 31,
   "metadata": {
    "scrolled": false
   },
   "outputs": [
    {
     "data": {
      "image/png": "[encoded data removed]",
      "text/plain": [
       "<Figure size 864x720 with 2 Axes>"
      ]
     },
     "metadata": {
      "needs_background": "light"
     },
     "output_type": "display_data"
    }
   ],
   "source": [
    "import seaborn as sns\n",
    "sns.heatmap(df.corr(),annot=True,cmap='RdYlGn',linewidths=0.2) #data.corr()-->correlation matrix\n",
    "fig=plt.gcf()\n",
    "fig.set_size_inches(12,10)\n",
    "plt.show()\n"
   ]
  },
  {
   "cell_type": "code",
   "execution_count": 32,
   "metadata": {},
   "outputs": [
    {
     "data": {
      "text/html": [
       "<style  type=\"text/css\" >\n",
       "    #T_096630a0_3896_11ea_ac95_98460a8c63aerow0_col0 {\n",
       "            background-color:  #b40426;\n",
       "            color:  #f1f1f1;\n",
       "        }    #T_096630a0_3896_11ea_ac95_98460a8c63aerow0_col1 {\n",
       "            background-color:  #5f7fe8;\n",
       "            color:  #000000;\n",
       "        }    #T_096630a0_3896_11ea_ac95_98460a8c63aerow0_col2 {\n",
       "            background-color:  #3b4cc0;\n",
       "            color:  #f1f1f1;\n",
       "        }    #T_096630a0_3896_11ea_ac95_98460a8c63aerow0_col3 {\n",
       "            background-color:  #3b4cc0;\n",
       "            color:  #f1f1f1;\n",
       "        }    #T_096630a0_3896_11ea_ac95_98460a8c63aerow0_col4 {\n",
       "            background-color:  #3b4cc0;\n",
       "            color:  #f1f1f1;\n",
       "        }    #T_096630a0_3896_11ea_ac95_98460a8c63aerow0_col5 {\n",
       "            background-color:  #7597f6;\n",
       "            color:  #000000;\n",
       "        }    #T_096630a0_3896_11ea_ac95_98460a8c63aerow0_col6 {\n",
       "            background-color:  #3b4cc0;\n",
       "            color:  #f1f1f1;\n",
       "        }    #T_096630a0_3896_11ea_ac95_98460a8c63aerow0_col7 {\n",
       "            background-color:  #5470de;\n",
       "            color:  #000000;\n",
       "        }    #T_096630a0_3896_11ea_ac95_98460a8c63aerow1_col0 {\n",
       "            background-color:  #b3cdfb;\n",
       "            color:  #000000;\n",
       "        }    #T_096630a0_3896_11ea_ac95_98460a8c63aerow1_col1 {\n",
       "            background-color:  #b40426;\n",
       "            color:  #f1f1f1;\n",
       "        }    #T_096630a0_3896_11ea_ac95_98460a8c63aerow1_col2 {\n",
       "            background-color:  #cad8ef;\n",
       "            color:  #000000;\n",
       "        }    #T_096630a0_3896_11ea_ac95_98460a8c63aerow1_col3 {\n",
       "            background-color:  #b1cbfc;\n",
       "            color:  #000000;\n",
       "        }    #T_096630a0_3896_11ea_ac95_98460a8c63aerow1_col4 {\n",
       "            background-color:  #7ea1fa;\n",
       "            color:  #000000;\n",
       "        }    #T_096630a0_3896_11ea_ac95_98460a8c63aerow1_col5 {\n",
       "            background-color:  #6180e9;\n",
       "            color:  #000000;\n",
       "        }    #T_096630a0_3896_11ea_ac95_98460a8c63aerow1_col6 {\n",
       "            background-color:  #9abbff;\n",
       "            color:  #000000;\n",
       "        }    #T_096630a0_3896_11ea_ac95_98460a8c63aerow1_col7 {\n",
       "            background-color:  #4961d2;\n",
       "            color:  #f1f1f1;\n",
       "        }    #T_096630a0_3896_11ea_ac95_98460a8c63aerow2_col0 {\n",
       "            background-color:  #7597f6;\n",
       "            color:  #000000;\n",
       "        }    #T_096630a0_3896_11ea_ac95_98460a8c63aerow2_col1 {\n",
       "            background-color:  #b2ccfb;\n",
       "            color:  #000000;\n",
       "        }    #T_096630a0_3896_11ea_ac95_98460a8c63aerow2_col2 {\n",
       "            background-color:  #b40426;\n",
       "            color:  #f1f1f1;\n",
       "        }    #T_096630a0_3896_11ea_ac95_98460a8c63aerow2_col3 {\n",
       "            background-color:  #cad8ef;\n",
       "            color:  #000000;\n",
       "        }    #T_096630a0_3896_11ea_ac95_98460a8c63aerow2_col4 {\n",
       "            background-color:  #94b6ff;\n",
       "            color:  #000000;\n",
       "        }    #T_096630a0_3896_11ea_ac95_98460a8c63aerow2_col5 {\n",
       "            background-color:  #6384eb;\n",
       "            color:  #000000;\n",
       "        }    #T_096630a0_3896_11ea_ac95_98460a8c63aerow2_col6 {\n",
       "            background-color:  #9dbdff;\n",
       "            color:  #000000;\n",
       "        }    #T_096630a0_3896_11ea_ac95_98460a8c63aerow2_col7 {\n",
       "            background-color:  #4961d2;\n",
       "            color:  #f1f1f1;\n",
       "        }    #T_096630a0_3896_11ea_ac95_98460a8c63aerow3_col0 {\n",
       "            background-color:  #93b5fe;\n",
       "            color:  #000000;\n",
       "        }    #T_096630a0_3896_11ea_ac95_98460a8c63aerow3_col1 {\n",
       "            background-color:  #aec9fc;\n",
       "            color:  #000000;\n",
       "        }    #T_096630a0_3896_11ea_ac95_98460a8c63aerow3_col2 {\n",
       "            background-color:  #dadce0;\n",
       "            color:  #000000;\n",
       "        }    #T_096630a0_3896_11ea_ac95_98460a8c63aerow3_col3 {\n",
       "            background-color:  #b40426;\n",
       "            color:  #f1f1f1;\n",
       "        }    #T_096630a0_3896_11ea_ac95_98460a8c63aerow3_col4 {\n",
       "            background-color:  #7ea1fa;\n",
       "            color:  #000000;\n",
       "        }    #T_096630a0_3896_11ea_ac95_98460a8c63aerow3_col5 {\n",
       "            background-color:  #6180e9;\n",
       "            color:  #000000;\n",
       "        }    #T_096630a0_3896_11ea_ac95_98460a8c63aerow3_col6 {\n",
       "            background-color:  #a9c6fd;\n",
       "            color:  #000000;\n",
       "        }    #T_096630a0_3896_11ea_ac95_98460a8c63aerow3_col7 {\n",
       "            background-color:  #4b64d5;\n",
       "            color:  #f1f1f1;\n",
       "        }    #T_096630a0_3896_11ea_ac95_98460a8c63aerow4_col0 {\n",
       "            background-color:  #7ea1fa;\n",
       "            color:  #000000;\n",
       "        }    #T_096630a0_3896_11ea_ac95_98460a8c63aerow4_col1 {\n",
       "            background-color:  #6687ed;\n",
       "            color:  #000000;\n",
       "        }    #T_096630a0_3896_11ea_ac95_98460a8c63aerow4_col2 {\n",
       "            background-color:  #9ebeff;\n",
       "            color:  #000000;\n",
       "        }    #T_096630a0_3896_11ea_ac95_98460a8c63aerow4_col3 {\n",
       "            background-color:  #688aef;\n",
       "            color:  #000000;\n",
       "        }    #T_096630a0_3896_11ea_ac95_98460a8c63aerow4_col4 {\n",
       "            background-color:  #b40426;\n",
       "            color:  #f1f1f1;\n",
       "        }    #T_096630a0_3896_11ea_ac95_98460a8c63aerow4_col5 {\n",
       "            background-color:  #6384eb;\n",
       "            color:  #000000;\n",
       "        }    #T_096630a0_3896_11ea_ac95_98460a8c63aerow4_col6 {\n",
       "            background-color:  #bad0f8;\n",
       "            color:  #000000;\n",
       "        }    #T_096630a0_3896_11ea_ac95_98460a8c63aerow4_col7 {\n",
       "            background-color:  #6180e9;\n",
       "            color:  #000000;\n",
       "        }    #T_096630a0_3896_11ea_ac95_98460a8c63aerow5_col0 {\n",
       "            background-color:  #a6c4fe;\n",
       "            color:  #000000;\n",
       "        }    #T_096630a0_3896_11ea_ac95_98460a8c63aerow5_col1 {\n",
       "            background-color:  #3b4cc0;\n",
       "            color:  #f1f1f1;\n",
       "        }    #T_096630a0_3896_11ea_ac95_98460a8c63aerow5_col2 {\n",
       "            background-color:  #6180e9;\n",
       "            color:  #000000;\n",
       "        }    #T_096630a0_3896_11ea_ac95_98460a8c63aerow5_col3 {\n",
       "            background-color:  #3d50c3;\n",
       "            color:  #f1f1f1;\n",
       "        }    #T_096630a0_3896_11ea_ac95_98460a8c63aerow5_col4 {\n",
       "            background-color:  #5673e0;\n",
       "            color:  #000000;\n",
       "        }    #T_096630a0_3896_11ea_ac95_98460a8c63aerow5_col5 {\n",
       "            background-color:  #b40426;\n",
       "            color:  #f1f1f1;\n",
       "        }    #T_096630a0_3896_11ea_ac95_98460a8c63aerow5_col6 {\n",
       "            background-color:  #7295f4;\n",
       "            color:  #000000;\n",
       "        }    #T_096630a0_3896_11ea_ac95_98460a8c63aerow5_col7 {\n",
       "            background-color:  #5875e1;\n",
       "            color:  #000000;\n",
       "        }    #T_096630a0_3896_11ea_ac95_98460a8c63aerow6_col0 {\n",
       "            background-color:  #3b4cc0;\n",
       "            color:  #f1f1f1;\n",
       "        }    #T_096630a0_3896_11ea_ac95_98460a8c63aerow6_col1 {\n",
       "            background-color:  #4055c8;\n",
       "            color:  #f1f1f1;\n",
       "        }    #T_096630a0_3896_11ea_ac95_98460a8c63aerow6_col2 {\n",
       "            background-color:  #6687ed;\n",
       "            color:  #000000;\n",
       "        }    #T_096630a0_3896_11ea_ac95_98460a8c63aerow6_col3 {\n",
       "            background-color:  #5572df;\n",
       "            color:  #000000;\n",
       "        }    #T_096630a0_3896_11ea_ac95_98460a8c63aerow6_col4 {\n",
       "            background-color:  #81a4fb;\n",
       "            color:  #000000;\n",
       "        }    #T_096630a0_3896_11ea_ac95_98460a8c63aerow6_col5 {\n",
       "            background-color:  #3b4cc0;\n",
       "            color:  #f1f1f1;\n",
       "        }    #T_096630a0_3896_11ea_ac95_98460a8c63aerow6_col6 {\n",
       "            background-color:  #b40426;\n",
       "            color:  #f1f1f1;\n",
       "        }    #T_096630a0_3896_11ea_ac95_98460a8c63aerow6_col7 {\n",
       "            background-color:  #3b4cc0;\n",
       "            color:  #f1f1f1;\n",
       "        }    #T_096630a0_3896_11ea_ac95_98460a8c63aerow7_col0 {\n",
       "            background-color:  #9fbfff;\n",
       "            color:  #000000;\n",
       "        }    #T_096630a0_3896_11ea_ac95_98460a8c63aerow7_col1 {\n",
       "            background-color:  #3b4cc0;\n",
       "            color:  #f1f1f1;\n",
       "        }    #T_096630a0_3896_11ea_ac95_98460a8c63aerow7_col2 {\n",
       "            background-color:  #5e7de7;\n",
       "            color:  #000000;\n",
       "        }    #T_096630a0_3896_11ea_ac95_98460a8c63aerow7_col3 {\n",
       "            background-color:  #4055c8;\n",
       "            color:  #f1f1f1;\n",
       "        }    #T_096630a0_3896_11ea_ac95_98460a8c63aerow7_col4 {\n",
       "            background-color:  #6b8df0;\n",
       "            color:  #000000;\n",
       "        }    #T_096630a0_3896_11ea_ac95_98460a8c63aerow7_col5 {\n",
       "            background-color:  #6f92f3;\n",
       "            color:  #000000;\n",
       "        }    #T_096630a0_3896_11ea_ac95_98460a8c63aerow7_col6 {\n",
       "            background-color:  #88abfd;\n",
       "            color:  #000000;\n",
       "        }    #T_096630a0_3896_11ea_ac95_98460a8c63aerow7_col7 {\n",
       "            background-color:  #b40426;\n",
       "            color:  #f1f1f1;\n",
       "        }</style><table id=\"T_096630a0_3896_11ea_ac95_98460a8c63ae\" ><thead>    <tr>        <th class=\"blank level0\" ></th>        <th class=\"col_heading level0 col0\" >satisfaction_level</th>        <th class=\"col_heading level0 col1\" >last_evaluation</th>        <th class=\"col_heading level0 col2\" >number_project</th>        <th class=\"col_heading level0 col3\" >average_montly_hours</th>        <th class=\"col_heading level0 col4\" >time_spend_company</th>        <th class=\"col_heading level0 col5\" >Work_accident</th>        <th class=\"col_heading level0 col6\" >left</th>        <th class=\"col_heading level0 col7\" >promotion_last_5years</th>    </tr></thead><tbody>\n",
       "                <tr>\n",
       "                        <th id=\"T_096630a0_3896_11ea_ac95_98460a8c63aelevel0_row0\" class=\"row_heading level0 row0\" >satisfaction_level</th>\n",
       "                        <td id=\"T_096630a0_3896_11ea_ac95_98460a8c63aerow0_col0\" class=\"data row0 col0\" >1</td>\n",
       "                        <td id=\"T_096630a0_3896_11ea_ac95_98460a8c63aerow0_col1\" class=\"data row0 col1\" >0.11</td>\n",
       "                        <td id=\"T_096630a0_3896_11ea_ac95_98460a8c63aerow0_col2\" class=\"data row0 col2\" >-0.14</td>\n",
       "                        <td id=\"T_096630a0_3896_11ea_ac95_98460a8c63aerow0_col3\" class=\"data row0 col3\" >-0.02</td>\n",
       "                        <td id=\"T_096630a0_3896_11ea_ac95_98460a8c63aerow0_col4\" class=\"data row0 col4\" >-0.1</td>\n",
       "                        <td id=\"T_096630a0_3896_11ea_ac95_98460a8c63aerow0_col5\" class=\"data row0 col5\" >0.06</td>\n",
       "                        <td id=\"T_096630a0_3896_11ea_ac95_98460a8c63aerow0_col6\" class=\"data row0 col6\" >-0.39</td>\n",
       "                        <td id=\"T_096630a0_3896_11ea_ac95_98460a8c63aerow0_col7\" class=\"data row0 col7\" >0.03</td>\n",
       "            </tr>\n",
       "            <tr>\n",
       "                        <th id=\"T_096630a0_3896_11ea_ac95_98460a8c63aelevel0_row1\" class=\"row_heading level0 row1\" >last_evaluation</th>\n",
       "                        <td id=\"T_096630a0_3896_11ea_ac95_98460a8c63aerow1_col0\" class=\"data row1 col0\" >0.11</td>\n",
       "                        <td id=\"T_096630a0_3896_11ea_ac95_98460a8c63aerow1_col1\" class=\"data row1 col1\" >1</td>\n",
       "                        <td id=\"T_096630a0_3896_11ea_ac95_98460a8c63aerow1_col2\" class=\"data row1 col2\" >0.35</td>\n",
       "                        <td id=\"T_096630a0_3896_11ea_ac95_98460a8c63aerow1_col3\" class=\"data row1 col3\" >0.34</td>\n",
       "                        <td id=\"T_096630a0_3896_11ea_ac95_98460a8c63aerow1_col4\" class=\"data row1 col4\" >0.13</td>\n",
       "                        <td id=\"T_096630a0_3896_11ea_ac95_98460a8c63aerow1_col5\" class=\"data row1 col5\" >-0.01</td>\n",
       "                        <td id=\"T_096630a0_3896_11ea_ac95_98460a8c63aerow1_col6\" class=\"data row1 col6\" >0.01</td>\n",
       "                        <td id=\"T_096630a0_3896_11ea_ac95_98460a8c63aerow1_col7\" class=\"data row1 col7\" >-0.01</td>\n",
       "            </tr>\n",
       "            <tr>\n",
       "                        <th id=\"T_096630a0_3896_11ea_ac95_98460a8c63aelevel0_row2\" class=\"row_heading level0 row2\" >number_project</th>\n",
       "                        <td id=\"T_096630a0_3896_11ea_ac95_98460a8c63aerow2_col0\" class=\"data row2 col0\" >-0.14</td>\n",
       "                        <td id=\"T_096630a0_3896_11ea_ac95_98460a8c63aerow2_col1\" class=\"data row2 col1\" >0.35</td>\n",
       "                        <td id=\"T_096630a0_3896_11ea_ac95_98460a8c63aerow2_col2\" class=\"data row2 col2\" >1</td>\n",
       "                        <td id=\"T_096630a0_3896_11ea_ac95_98460a8c63aerow2_col3\" class=\"data row2 col3\" >0.42</td>\n",
       "                        <td id=\"T_096630a0_3896_11ea_ac95_98460a8c63aerow2_col4\" class=\"data row2 col4\" >0.2</td>\n",
       "                        <td id=\"T_096630a0_3896_11ea_ac95_98460a8c63aerow2_col5\" class=\"data row2 col5\" >-0</td>\n",
       "                        <td id=\"T_096630a0_3896_11ea_ac95_98460a8c63aerow2_col6\" class=\"data row2 col6\" >0.02</td>\n",
       "                        <td id=\"T_096630a0_3896_11ea_ac95_98460a8c63aerow2_col7\" class=\"data row2 col7\" >-0.01</td>\n",
       "            </tr>\n",
       "            <tr>\n",
       "                        <th id=\"T_096630a0_3896_11ea_ac95_98460a8c63aelevel0_row3\" class=\"row_heading level0 row3\" >average_montly_hours</th>\n",
       "                        <td id=\"T_096630a0_3896_11ea_ac95_98460a8c63aerow3_col0\" class=\"data row3 col0\" >-0.02</td>\n",
       "                        <td id=\"T_096630a0_3896_11ea_ac95_98460a8c63aerow3_col1\" class=\"data row3 col1\" >0.34</td>\n",
       "                        <td id=\"T_096630a0_3896_11ea_ac95_98460a8c63aerow3_col2\" class=\"data row3 col2\" >0.42</td>\n",
       "                        <td id=\"T_096630a0_3896_11ea_ac95_98460a8c63aerow3_col3\" class=\"data row3 col3\" >1</td>\n",
       "                        <td id=\"T_096630a0_3896_11ea_ac95_98460a8c63aerow3_col4\" class=\"data row3 col4\" >0.13</td>\n",
       "                        <td id=\"T_096630a0_3896_11ea_ac95_98460a8c63aerow3_col5\" class=\"data row3 col5\" >-0.01</td>\n",
       "                        <td id=\"T_096630a0_3896_11ea_ac95_98460a8c63aerow3_col6\" class=\"data row3 col6\" >0.07</td>\n",
       "                        <td id=\"T_096630a0_3896_11ea_ac95_98460a8c63aerow3_col7\" class=\"data row3 col7\" >-0</td>\n",
       "            </tr>\n",
       "            <tr>\n",
       "                        <th id=\"T_096630a0_3896_11ea_ac95_98460a8c63aelevel0_row4\" class=\"row_heading level0 row4\" >time_spend_company</th>\n",
       "                        <td id=\"T_096630a0_3896_11ea_ac95_98460a8c63aerow4_col0\" class=\"data row4 col0\" >-0.1</td>\n",
       "                        <td id=\"T_096630a0_3896_11ea_ac95_98460a8c63aerow4_col1\" class=\"data row4 col1\" >0.13</td>\n",
       "                        <td id=\"T_096630a0_3896_11ea_ac95_98460a8c63aerow4_col2\" class=\"data row4 col2\" >0.2</td>\n",
       "                        <td id=\"T_096630a0_3896_11ea_ac95_98460a8c63aerow4_col3\" class=\"data row4 col3\" >0.13</td>\n",
       "                        <td id=\"T_096630a0_3896_11ea_ac95_98460a8c63aerow4_col4\" class=\"data row4 col4\" >1</td>\n",
       "                        <td id=\"T_096630a0_3896_11ea_ac95_98460a8c63aerow4_col5\" class=\"data row4 col5\" >0</td>\n",
       "                        <td id=\"T_096630a0_3896_11ea_ac95_98460a8c63aerow4_col6\" class=\"data row4 col6\" >0.14</td>\n",
       "                        <td id=\"T_096630a0_3896_11ea_ac95_98460a8c63aerow4_col7\" class=\"data row4 col7\" >0.07</td>\n",
       "            </tr>\n",
       "            <tr>\n",
       "                        <th id=\"T_096630a0_3896_11ea_ac95_98460a8c63aelevel0_row5\" class=\"row_heading level0 row5\" >Work_accident</th>\n",
       "                        <td id=\"T_096630a0_3896_11ea_ac95_98460a8c63aerow5_col0\" class=\"data row5 col0\" >0.06</td>\n",
       "                        <td id=\"T_096630a0_3896_11ea_ac95_98460a8c63aerow5_col1\" class=\"data row5 col1\" >-0.01</td>\n",
       "                        <td id=\"T_096630a0_3896_11ea_ac95_98460a8c63aerow5_col2\" class=\"data row5 col2\" >-0</td>\n",
       "                        <td id=\"T_096630a0_3896_11ea_ac95_98460a8c63aerow5_col3\" class=\"data row5 col3\" >-0.01</td>\n",
       "                        <td id=\"T_096630a0_3896_11ea_ac95_98460a8c63aerow5_col4\" class=\"data row5 col4\" >0</td>\n",
       "                        <td id=\"T_096630a0_3896_11ea_ac95_98460a8c63aerow5_col5\" class=\"data row5 col5\" >1</td>\n",
       "                        <td id=\"T_096630a0_3896_11ea_ac95_98460a8c63aerow5_col6\" class=\"data row5 col6\" >-0.15</td>\n",
       "                        <td id=\"T_096630a0_3896_11ea_ac95_98460a8c63aerow5_col7\" class=\"data row5 col7\" >0.04</td>\n",
       "            </tr>\n",
       "            <tr>\n",
       "                        <th id=\"T_096630a0_3896_11ea_ac95_98460a8c63aelevel0_row6\" class=\"row_heading level0 row6\" >left</th>\n",
       "                        <td id=\"T_096630a0_3896_11ea_ac95_98460a8c63aerow6_col0\" class=\"data row6 col0\" >-0.39</td>\n",
       "                        <td id=\"T_096630a0_3896_11ea_ac95_98460a8c63aerow6_col1\" class=\"data row6 col1\" >0.01</td>\n",
       "                        <td id=\"T_096630a0_3896_11ea_ac95_98460a8c63aerow6_col2\" class=\"data row6 col2\" >0.02</td>\n",
       "                        <td id=\"T_096630a0_3896_11ea_ac95_98460a8c63aerow6_col3\" class=\"data row6 col3\" >0.07</td>\n",
       "                        <td id=\"T_096630a0_3896_11ea_ac95_98460a8c63aerow6_col4\" class=\"data row6 col4\" >0.14</td>\n",
       "                        <td id=\"T_096630a0_3896_11ea_ac95_98460a8c63aerow6_col5\" class=\"data row6 col5\" >-0.15</td>\n",
       "                        <td id=\"T_096630a0_3896_11ea_ac95_98460a8c63aerow6_col6\" class=\"data row6 col6\" >1</td>\n",
       "                        <td id=\"T_096630a0_3896_11ea_ac95_98460a8c63aerow6_col7\" class=\"data row6 col7\" >-0.06</td>\n",
       "            </tr>\n",
       "            <tr>\n",
       "                        <th id=\"T_096630a0_3896_11ea_ac95_98460a8c63aelevel0_row7\" class=\"row_heading level0 row7\" >promotion_last_5years</th>\n",
       "                        <td id=\"T_096630a0_3896_11ea_ac95_98460a8c63aerow7_col0\" class=\"data row7 col0\" >0.03</td>\n",
       "                        <td id=\"T_096630a0_3896_11ea_ac95_98460a8c63aerow7_col1\" class=\"data row7 col1\" >-0.01</td>\n",
       "                        <td id=\"T_096630a0_3896_11ea_ac95_98460a8c63aerow7_col2\" class=\"data row7 col2\" >-0.01</td>\n",
       "                        <td id=\"T_096630a0_3896_11ea_ac95_98460a8c63aerow7_col3\" class=\"data row7 col3\" >-0</td>\n",
       "                        <td id=\"T_096630a0_3896_11ea_ac95_98460a8c63aerow7_col4\" class=\"data row7 col4\" >0.07</td>\n",
       "                        <td id=\"T_096630a0_3896_11ea_ac95_98460a8c63aerow7_col5\" class=\"data row7 col5\" >0.04</td>\n",
       "                        <td id=\"T_096630a0_3896_11ea_ac95_98460a8c63aerow7_col6\" class=\"data row7 col6\" >-0.06</td>\n",
       "                        <td id=\"T_096630a0_3896_11ea_ac95_98460a8c63aerow7_col7\" class=\"data row7 col7\" >1</td>\n",
       "            </tr>\n",
       "    </tbody></table>"
      ],
      "text/plain": [
       "<pandas.io.formats.style.Styler at 0x1a20b5a6d8>"
      ]
     },
     "execution_count": 32,
     "metadata": {},
     "output_type": "execute_result"
    }
   ],
   "source": [
    "corr = df.corr()\n",
    "corr = corr.round(2)\n",
    "corr.style.background_gradient(cmap='coolwarm')"
   ]
  },
  {
   "cell_type": "markdown",
   "metadata": {},
   "source": [
    "4.Визуализировать несколько взаимосвязей между переменными.\n",
    "- наибольшая корреляция наблюдается у покинутых компанию и уровнем удовлетворенности, а также количества проектов и затраченных часах ежемесячно,  также у последней оценки по проектам и затраченных часах, количества проектов\n",
    "Однако при визуализации связь практически не улавливается"
   ]
  },
  {
   "cell_type": "code",
   "execution_count": 33,
   "metadata": {},
   "outputs": [
    {
     "data": {
      "image/png": "[encoded data removed]",
      "text/plain": [
       "<Figure size 432x288 with 1 Axes>"
      ]
     },
     "metadata": {
      "needs_background": "light"
     },
     "output_type": "display_data"
    }
   ],
   "source": [
    "satisfaction_level = df['satisfaction_level']\n",
    "left = df['left']\n",
    "sns.regplot(x= satisfaction_level, y=left,data=df, fit_reg=True)\n",
    "plt.xlabel('satisfaction_level')\n",
    "plt.ylabel('left')\n",
    "plt.title('Корреляционная зависимость двух выборок')\n",
    "plt.grid(False)\n",
    "plt.show()"
   ]
  },
  {
   "cell_type": "code",
   "execution_count": 34,
   "metadata": {},
   "outputs": [
    {
     "data": {
      "image/png": "[encoded data removed]",
      "text/plain": [
       "<Figure size 432x288 with 1 Axes>"
      ]
     },
     "metadata": {
      "needs_background": "light"
     },
     "output_type": "display_data"
    }
   ],
   "source": [
    "satisfaction_level = df['time_spend_company']\n",
    "left = df['left']\n",
    "sns.regplot(x= satisfaction_level, y=left,data=df, fit_reg=True)\n",
    "plt.xlabel('time_spend_company')\n",
    "plt.ylabel('left')\n",
    "plt.title('Корреляционная зависимость двух выборок')\n",
    "plt.grid(False)\n",
    "plt.show()"
   ]
  },
  {
   "cell_type": "code",
   "execution_count": 35,
   "metadata": {},
   "outputs": [
    {
     "data": {
      "image/png": "[encoded data removed]",
      "text/plain": [
       "<Figure size 432x288 with 1 Axes>"
      ]
     },
     "metadata": {
      "needs_background": "light"
     },
     "output_type": "display_data"
    }
   ],
   "source": [
    "satisfaction_level = df['number_project']\n",
    "left = df['average_montly_hours']\n",
    "sns.regplot(x= satisfaction_level, y=left,data=df, fit_reg=True)\n",
    "plt.xlabel('number_project')\n",
    "plt.ylabel('average_montly_hours')\n",
    "plt.title('Корреляционная зависимость двух выборок')\n",
    "plt.grid(False)\n",
    "plt.show()"
   ]
  },
  {
   "cell_type": "markdown",
   "metadata": {},
   "source": [
    "5.С использованием t-test статистики проверить взаимосвязи между несколькими переменными.\n"
   ]
  },
  {
   "cell_type": "code",
   "execution_count": 36,
   "metadata": {},
   "outputs": [
    {
     "data": {
      "text/plain": [
       "Ttest_1sampResult(statistic=26.577799941338373, pvalue=4.5259233104965264e-151)"
      ]
     },
     "execution_count": 36,
     "metadata": {},
     "output_type": "execute_result"
    }
   ],
   "source": [
    "female_bps = df[df['left']==0]['satisfaction_level']\n",
    "stats.ttest_1samp(female_bps, df['satisfaction_level'].mean())\n",
    "#df.head()\n"
   ]
  },
  {
   "cell_type": "code",
   "execution_count": 37,
   "metadata": {},
   "outputs": [
    {
     "data": {
      "text/plain": [
       "Ttest_1sampResult(statistic=9.174777863793503, pvalue=5.2991439353178945e-20)"
      ]
     },
     "execution_count": 37,
     "metadata": {},
     "output_type": "execute_result"
    }
   ],
   "source": [
    "df=df[['satisfaction_level', 'last_evaluation', 'number_project', 'average_montly_hours', \\\n",
    "       'time_spend_company', 'Work_accident', 'left', 'promotion_last_5years', 'salary']]\n",
    "df.loc[df['salary'] == 'low','salary'] = 100\n",
    "df.loc[df['salary'] == 'medium','salary'] = 200\n",
    "df.loc[df['salary'] == 'high','salary'] = 300\n",
    "female_bps = df[df['left']==0]['salary']\n",
    "stats.ttest_1samp(female_bps, df['salary'].mean())"
   ]
  },
  {
   "cell_type": "code",
   "execution_count": 38,
   "metadata": {},
   "outputs": [
    {
     "data": {
      "text/plain": [
       "Ttest_1sampResult(statistic=-0.41462217089718184, pvalue=0.6784262985443781)"
      ]
     },
     "execution_count": 38,
     "metadata": {},
     "output_type": "execute_result"
    }
   ],
   "source": [
    "female_bps = df[df['left']==0]['last_evaluation']\n",
    "stats.ttest_1samp(female_bps, df['last_evaluation'].mean())\n"
   ]
  },
  {
   "cell_type": "code",
   "execution_count": 39,
   "metadata": {},
   "outputs": [
    {
     "data": {
      "text/plain": [
       "Ttest_1sampResult(statistic=-1.7880036722437305, pvalue=0.07380190299817418)"
      ]
     },
     "execution_count": 39,
     "metadata": {},
     "output_type": "execute_result"
    }
   ],
   "source": [
    "female_bps = df[df['left']==0]['number_project']\n",
    "stats.ttest_1samp(female_bps, df['number_project'].mean())"
   ]
  },
  {
   "cell_type": "markdown",
   "metadata": {},
   "source": [
    "6.Рассчитать сколько работников работает в каждом департаменте.\n"
   ]
  },
  {
   "cell_type": "code",
   "execution_count": 40,
   "metadata": {},
   "outputs": [
    {
     "data": {
      "text/plain": [
       "sales\n",
       "IT             1227\n",
       "RandD           787\n",
       "accounting      767\n",
       "hr              739\n",
       "management      630\n",
       "marketing       858\n",
       "product_mng     902\n",
       "sales          4140\n",
       "support        2229\n",
       "technical      2720\n",
       "Name: sales, dtype: int64"
      ]
     },
     "execution_count": 40,
     "metadata": {},
     "output_type": "execute_result"
    }
   ],
   "source": [
    "df = pd.read_csv(\"hr.csv\")\n",
    "df.groupby(by='sales')['sales'].count()"
   ]
  },
  {
   "cell_type": "markdown",
   "metadata": {},
   "source": [
    "7.Показать распределение сотрудников по зарплатам.\n"
   ]
  },
  {
   "cell_type": "code",
   "execution_count": 41,
   "metadata": {},
   "outputs": [
    {
     "data": {
      "text/plain": [
       "salary\n",
       "high      1237\n",
       "low       7316\n",
       "medium    6446\n",
       "Name: salary, dtype: int64"
      ]
     },
     "execution_count": 41,
     "metadata": {},
     "output_type": "execute_result"
    }
   ],
   "source": [
    "df['salary'].value_counts()\n",
    "df.groupby(by=[ 'salary'])['salary'].count()"
   ]
  },
  {
   "cell_type": "markdown",
   "metadata": {},
   "source": [
    "8.Показать распределение сотрудников по зарплатам совместно с департаментами.\n"
   ]
  },
  {
   "cell_type": "code",
   "execution_count": 42,
   "metadata": {},
   "outputs": [
    {
     "data": {
      "text/plain": [
       "sales        salary\n",
       "IT           high        83\n",
       "             low        609\n",
       "             medium     535\n",
       "RandD        high        51\n",
       "             low        364\n",
       "             medium     372\n",
       "accounting   high        74\n",
       "             low        358\n",
       "             medium     335\n",
       "hr           high        45\n",
       "             low        335\n",
       "             medium     359\n",
       "management   high       225\n",
       "             low        180\n",
       "             medium     225\n",
       "marketing    high        80\n",
       "             low        402\n",
       "             medium     376\n",
       "product_mng  high        68\n",
       "             low        451\n",
       "             medium     383\n",
       "sales        high       269\n",
       "             low       2099\n",
       "             medium    1772\n",
       "support      high       141\n",
       "             low       1146\n",
       "             medium     942\n",
       "technical    high       201\n",
       "             low       1372\n",
       "             medium    1147\n",
       "Name: salary, dtype: int64"
      ]
     },
     "execution_count": 42,
     "metadata": {},
     "output_type": "execute_result"
    }
   ],
   "source": [
    "df['salary'].value_counts()\n",
    "df.groupby(by=['sales', 'salary'])['salary'].count()"
   ]
  },
  {
   "cell_type": "markdown",
   "metadata": {},
   "source": [
    "9.Сколько сотрудников покинули компанию.\n"
   ]
  },
  {
   "cell_type": "code",
   "execution_count": 43,
   "metadata": {},
   "outputs": [
    {
     "data": {
      "text/plain": [
       "3571"
      ]
     },
     "execution_count": 43,
     "metadata": {},
     "output_type": "execute_result"
    }
   ],
   "source": [
    "df[df['left'] == 1].shape[0]\n",
    "#df[df['left'] == 0].shape[0]"
   ]
  },
  {
   "cell_type": "markdown",
   "metadata": {},
   "source": [
    "10.Проверить несколько гипотез для данных, чтобы понять почему сотрудники покидают компанию.\n",
    "- наибольшая корреляция наблюдается у покинутых компанию и уровнем удовлетворенности, а также количества проектов и затраченных часах ежемесячно\n",
    "Однако построив линейную регрессию стало видно, что явной зависимости не наблюдается.\n",
    "Полиномиальная регрессия позволила построить модель c точностью около 50%"
   ]
  },
  {
   "cell_type": "code",
   "execution_count": 44,
   "metadata": {},
   "outputs": [
    {
     "data": {
      "text/html": [
       "<div>\n",
       "<style scoped>\n",
       "    .dataframe tbody tr th:only-of-type {\n",
       "        vertical-align: middle;\n",
       "    }\n",
       "\n",
       "    .dataframe tbody tr th {\n",
       "        vertical-align: top;\n",
       "    }\n",
       "\n",
       "    .dataframe thead th {\n",
       "        text-align: right;\n",
       "    }\n",
       "</style>\n",
       "<table border=\"1\" class=\"dataframe\">\n",
       "  <thead>\n",
       "    <tr style=\"text-align: right;\">\n",
       "      <th></th>\n",
       "      <th>satisfaction_level</th>\n",
       "      <th>last_evaluation</th>\n",
       "      <th>number_project</th>\n",
       "      <th>average_montly_hours</th>\n",
       "      <th>time_spend_company</th>\n",
       "      <th>Work_accident</th>\n",
       "      <th>left</th>\n",
       "      <th>promotion_last_5years</th>\n",
       "      <th>salary</th>\n",
       "    </tr>\n",
       "  </thead>\n",
       "  <tbody>\n",
       "    <tr>\n",
       "      <th>0</th>\n",
       "      <td>0.38</td>\n",
       "      <td>0.53</td>\n",
       "      <td>2</td>\n",
       "      <td>157</td>\n",
       "      <td>3</td>\n",
       "      <td>0</td>\n",
       "      <td>1</td>\n",
       "      <td>0</td>\n",
       "      <td>100</td>\n",
       "    </tr>\n",
       "    <tr>\n",
       "      <th>1</th>\n",
       "      <td>0.80</td>\n",
       "      <td>0.86</td>\n",
       "      <td>5</td>\n",
       "      <td>262</td>\n",
       "      <td>6</td>\n",
       "      <td>0</td>\n",
       "      <td>1</td>\n",
       "      <td>0</td>\n",
       "      <td>200</td>\n",
       "    </tr>\n",
       "    <tr>\n",
       "      <th>2</th>\n",
       "      <td>0.11</td>\n",
       "      <td>0.88</td>\n",
       "      <td>7</td>\n",
       "      <td>272</td>\n",
       "      <td>4</td>\n",
       "      <td>0</td>\n",
       "      <td>1</td>\n",
       "      <td>0</td>\n",
       "      <td>200</td>\n",
       "    </tr>\n",
       "    <tr>\n",
       "      <th>3</th>\n",
       "      <td>0.72</td>\n",
       "      <td>0.87</td>\n",
       "      <td>5</td>\n",
       "      <td>223</td>\n",
       "      <td>5</td>\n",
       "      <td>0</td>\n",
       "      <td>1</td>\n",
       "      <td>0</td>\n",
       "      <td>100</td>\n",
       "    </tr>\n",
       "    <tr>\n",
       "      <th>4</th>\n",
       "      <td>0.37</td>\n",
       "      <td>0.52</td>\n",
       "      <td>2</td>\n",
       "      <td>159</td>\n",
       "      <td>3</td>\n",
       "      <td>0</td>\n",
       "      <td>1</td>\n",
       "      <td>0</td>\n",
       "      <td>100</td>\n",
       "    </tr>\n",
       "  </tbody>\n",
       "</table>\n",
       "</div>"
      ],
      "text/plain": [
       "   satisfaction_level  last_evaluation  number_project  average_montly_hours  \\\n",
       "0                0.38             0.53               2                   157   \n",
       "1                0.80             0.86               5                   262   \n",
       "2                0.11             0.88               7                   272   \n",
       "3                0.72             0.87               5                   223   \n",
       "4                0.37             0.52               2                   159   \n",
       "\n",
       "   time_spend_company  Work_accident  left  promotion_last_5years  salary  \n",
       "0                   3              0     1                      0     100  \n",
       "1                   6              0     1                      0     200  \n",
       "2                   4              0     1                      0     200  \n",
       "3                   5              0     1                      0     100  \n",
       "4                   3              0     1                      0     100  "
      ]
     },
     "execution_count": 44,
     "metadata": {},
     "output_type": "execute_result"
    }
   ],
   "source": [
    "#Предже всего приведем к нормальной форме зп из строковых\n",
    "df=df[['satisfaction_level', 'last_evaluation', 'number_project', 'average_montly_hours', \\\n",
    "       'time_spend_company', 'Work_accident', 'left', 'promotion_last_5years', 'salary']]\n",
    "df.loc[df['salary'] == 'low','salary'] = 100\n",
    "df.loc[df['salary'] == 'medium','salary'] = 200\n",
    "df.loc[df['salary'] == 'high','salary'] = 300\n",
    "df.head()"
   ]
  },
  {
   "cell_type": "code",
   "execution_count": 45,
   "metadata": {},
   "outputs": [
    {
     "data": {
      "text/plain": [
       "0.15570107176134418"
      ]
     },
     "execution_count": 45,
     "metadata": {},
     "output_type": "execute_result"
    }
   ],
   "source": [
    "#1. зависимость между покинувшими компанию и уровнем удовлетворенности работой в компании (корреляция =-0.39)\n",
    "df.sort_values(by=['satisfaction_level'], inplace=True)\n",
    "X = df[['satisfaction_level']]\n",
    "y = df[['left']]\n",
    "\n",
    "from sklearn.model_selection import train_test_split\n",
    "\n",
    "X_train, X_test, y_train, y_test = train_test_split(\n",
    "    X,\n",
    "    y,\n",
    "    test_size = 0.2,\n",
    "    random_state = 42\n",
    ")\n",
    "X_train_lstat = X_train[['satisfaction_level']]\n",
    "X_test_lstat = X_test[['satisfaction_level']]\n",
    "X_train_lstat = np.array(X_train_lstat).reshape(-1, 1)\n",
    "X_test_lstat = np.array(X_test_lstat).reshape(-1, 1)\n",
    "y_train = np.array(y_train).reshape(-1, 1)\n",
    "y_test = np.array(y_test).reshape(-1, 1)\n",
    "from sklearn.linear_model import LinearRegression\n",
    "model = LinearRegression()\n",
    "model.fit(X_train_lstat, y_train)\n",
    "model.score(X_test_lstat, y_test)"
   ]
  },
  {
   "cell_type": "code",
   "execution_count": 46,
   "metadata": {},
   "outputs": [
    {
     "data": {
      "image/png": "[encoded data removed]",
      "text/plain": [
       "<Figure size 432x288 with 1 Axes>"
      ]
     },
     "metadata": {
      "needs_background": "light"
     },
     "output_type": "display_data"
    }
   ],
   "source": [
    "plt.xlabel('satisfaction_level')\n",
    "plt.ylabel('left')\n",
    "plt.title('Линейная регрессия')\n",
    "x = np.linspace(min(X_train_lstat), max(X_train_lstat), 100)\n",
    "y = (model.coef_*x + model.intercept_)\n",
    "plt.plot(x,y)\n",
    "plt.plot(X_train_lstat, y_train, 'r.')\n",
    "plt.plot(X_test_lstat, y_test, 'g.')\n",
    "plt.legend(['Линейная регрессия', 'Тренировочные данные', 'Тестовые данные'])\n",
    "plt.show()"
   ]
  },
  {
   "cell_type": "code",
   "execution_count": 47,
   "metadata": {},
   "outputs": [
    {
     "data": {
      "text/plain": [
       "0.4855532894671194"
      ]
     },
     "execution_count": 47,
     "metadata": {},
     "output_type": "execute_result"
    }
   ],
   "source": [
    "#возможно полиномиальная отразит лучше\n",
    "from sklearn.preprocessing import PolynomialFeatures\n",
    "\n",
    "poly_reg = PolynomialFeatures(degree=30)\n",
    "\n",
    "X_poly = poly_reg.fit_transform(X_train_lstat)\n",
    "\n",
    "pol_reg = LinearRegression()\n",
    "pol_reg.fit(X_poly, y_train)\n",
    "\n",
    "pol_reg.score(poly_reg.fit_transform(X_test_lstat), y_test)"
   ]
  },
  {
   "cell_type": "code",
   "execution_count": 48,
   "metadata": {},
   "outputs": [
    {
     "data": {
      "image/png": "[encoded data removed]",
      "text/plain": [
       "<Figure size 432x288 with 1 Axes>"
      ]
     },
     "metadata": {
      "needs_background": "light"
     },
     "output_type": "display_data"
    }
   ],
   "source": [
    "plt.scatter(X_train_lstat, y_train, c='red')\n",
    "plt.scatter(X_test_lstat, y_test, c='green')\n",
    "x = np.linspace(min(X_test_lstat), max(X_train_lstat), 100)\n",
    "y = pol_reg.predict(poly_reg.fit_transform(x))\n",
    "plt.plot(x, y, 'b')\n",
    "plt.title('Полиномиальная регрессия')\n",
    "plt.xlabel('satisfaction_level')\n",
    "plt.ylabel('left')\n",
    "plt.legend(['Полиномиальная регрессия', 'Тренировочные данные', 'Тестовые данные'])\n",
    "plt.show()"
   ]
  },
  {
   "cell_type": "markdown",
   "metadata": {},
   "source": [
    "2. зависимость между покинувшими компанию и времени работы в компании (корреляция =0.14)"
   ]
  },
  {
   "cell_type": "code",
   "execution_count": 49,
   "metadata": {},
   "outputs": [
    {
     "data": {
      "text/plain": [
       "0.01973583351977959"
      ]
     },
     "execution_count": 49,
     "metadata": {},
     "output_type": "execute_result"
    }
   ],
   "source": [
    "df.sort_values(by=['time_spend_company'], inplace=True)\n",
    "X = df[['time_spend_company']]\n",
    "y = df[['left']]\n",
    "\n",
    "from sklearn.model_selection import train_test_split\n",
    "\n",
    "X_train, X_test, y_train, y_test = train_test_split(\n",
    "    X,\n",
    "    y,\n",
    "    test_size = 0.2,\n",
    "    random_state = 42\n",
    ")\n",
    "X_train_lstat = X_train[['time_spend_company']]\n",
    "X_test_lstat = X_test[['time_spend_company']]\n",
    "X_train_lstat = np.array(X_train_lstat).reshape(-1, 1)\n",
    "X_test_lstat = np.array(X_test_lstat).reshape(-1, 1)\n",
    "y_train = np.array(y_train).reshape(-1, 1)\n",
    "y_test = np.array(y_test).reshape(-1, 1)\n",
    "from sklearn.linear_model import LinearRegression\n",
    "model = LinearRegression()\n",
    "model.fit(X_train_lstat, y_train)\n",
    "model.score(X_test_lstat, y_test)"
   ]
  },
  {
   "cell_type": "code",
   "execution_count": 50,
   "metadata": {},
   "outputs": [
    {
     "data": {
      "image/png": "[encoded data removed]",
      "text/plain": [
       "<Figure size 432x288 with 1 Axes>"
      ]
     },
     "metadata": {
      "needs_background": "light"
     },
     "output_type": "display_data"
    }
   ],
   "source": [
    "plt.xlabel('time_spend_company')\n",
    "plt.ylabel('left')\n",
    "plt.title('Линейная регрессия')\n",
    "x = np.linspace(min(X_train_lstat), max(X_train_lstat), 100)\n",
    "y = (model.coef_*x + model.intercept_)\n",
    "plt.plot(x,y)\n",
    "plt.plot(X_train_lstat, y_train, 'r.')\n",
    "plt.plot(X_test_lstat, y_test, 'g.')\n",
    "plt.legend(['Линейная регрессия', 'Тренировочные данные', 'Тестовые данные'])\n",
    "plt.show()"
   ]
  },
  {
   "cell_type": "code",
   "execution_count": 51,
   "metadata": {},
   "outputs": [
    {
     "data": {
      "text/plain": [
       "0.1386969689733829"
      ]
     },
     "execution_count": 51,
     "metadata": {},
     "output_type": "execute_result"
    }
   ],
   "source": [
    "from sklearn.preprocessing import PolynomialFeatures\n",
    "\n",
    "poly_reg = PolynomialFeatures(degree=9)\n",
    "\n",
    "X_poly = poly_reg.fit_transform(X_train_lstat)\n",
    "\n",
    "pol_reg = LinearRegression()\n",
    "pol_reg.fit(X_poly, y_train)\n",
    "\n",
    "pol_reg.score(poly_reg.fit_transform(X_test_lstat), y_test)"
   ]
  },
  {
   "cell_type": "code",
   "execution_count": 52,
   "metadata": {},
   "outputs": [
    {
     "data": {
      "image/png": "[encoded data removed]",
      "text/plain": [
       "<Figure size 432x288 with 1 Axes>"
      ]
     },
     "metadata": {
      "needs_background": "light"
     },
     "output_type": "display_data"
    }
   ],
   "source": [
    "plt.scatter(X_train_lstat, y_train, c='red')\n",
    "plt.scatter(X_test_lstat, y_test, c='green')\n",
    "x = np.linspace(min(X_test_lstat), max(X_train_lstat), 100)\n",
    "y = pol_reg.predict(poly_reg.fit_transform(x))\n",
    "plt.plot(x, y, 'b')\n",
    "plt.title('Полиномиальная регрессия')\n",
    "plt.xlabel('time_spend_company')\n",
    "plt.ylabel('left')\n",
    "plt.legend(['Полиномиальная регрессия', 'Тренировочные данные', 'Тестовые данные'])\n",
    "plt.show()"
   ]
  },
  {
   "cell_type": "code",
   "execution_count": 53,
   "metadata": {},
   "outputs": [
    {
     "data": {
      "text/plain": [
       "0.01847827328518803"
      ]
     },
     "execution_count": 53,
     "metadata": {},
     "output_type": "execute_result"
    }
   ],
   "source": [
    "#3. зависимость между покинувшими компанию и происшествиями на работе (корреляция =-0.15)\n",
    "df.sort_values(by=['Work_accident'], inplace=True)\n",
    "\n",
    "X = df[['Work_accident']]\n",
    "y = df[['left']]\n",
    "from sklearn.model_selection import train_test_split\n",
    "\n",
    "X_train, X_test, y_train, y_test = train_test_split(\n",
    "    X,\n",
    "    y,\n",
    "    test_size = 0.3,\n",
    "    random_state = 42\n",
    ")\n",
    "X_train_lstat = X_train[['Work_accident']]\n",
    "X_test_lstat = X_test[['Work_accident']]\n",
    "X_train_lstat = np.array(X_train_lstat).reshape(-1, 1)\n",
    "X_test_lstat = np.array(X_test_lstat).reshape(-1, 1)\n",
    "y_train = np.array(y_train).reshape(-1, 1)\n",
    "y_test = np.array(y_test).reshape(-1, 1)\n",
    "from sklearn.linear_model import LinearRegression\n",
    "model = LinearRegression()\n",
    "model.fit(X_train_lstat, y_train)\n",
    "model.score(X_test_lstat, y_test)"
   ]
  },
  {
   "cell_type": "code",
   "execution_count": 54,
   "metadata": {},
   "outputs": [
    {
     "data": {
      "image/png": "[encoded data removed]",
      "text/plain": [
       "<Figure size 432x288 with 1 Axes>"
      ]
     },
     "metadata": {
      "needs_background": "light"
     },
     "output_type": "display_data"
    }
   ],
   "source": [
    "plt.xlabel('Work_accident')\n",
    "plt.ylabel('left')\n",
    "plt.title('Линейная регрессия')\n",
    "x = np.linspace(min(X_train_lstat), max(X_train_lstat), 100)\n",
    "y = (model.coef_*x + model.intercept_)\n",
    "plt.plot(x,y)\n",
    "plt.plot(X_train_lstat, y_train, 'r.')\n",
    "plt.plot(X_test_lstat, y_test, 'g.')\n",
    "plt.legend(['Линейная регрессия', 'Тренировочные данные', 'Тестовые данные'])\n",
    "plt.show()"
   ]
  },
  {
   "cell_type": "code",
   "execution_count": 55,
   "metadata": {},
   "outputs": [
    {
     "data": {
      "text/plain": [
       "0.01847827328518814"
      ]
     },
     "execution_count": 55,
     "metadata": {},
     "output_type": "execute_result"
    }
   ],
   "source": [
    "from sklearn.preprocessing import PolynomialFeatures\n",
    "\n",
    "poly_reg = PolynomialFeatures(degree=5)\n",
    "\n",
    "X_poly = poly_reg.fit_transform(X_train_lstat)\n",
    "\n",
    "pol_reg = LinearRegression()\n",
    "pol_reg.fit(X_poly, y_train)\n",
    "\n",
    "pol_reg.score(poly_reg.fit_transform(X_test_lstat), y_test)"
   ]
  },
  {
   "cell_type": "code",
   "execution_count": 56,
   "metadata": {},
   "outputs": [
    {
     "data": {
      "image/png": "[encoded data removed]",
      "text/plain": [
       "<Figure size 432x288 with 1 Axes>"
      ]
     },
     "metadata": {
      "needs_background": "light"
     },
     "output_type": "display_data"
    }
   ],
   "source": [
    "plt.scatter(X_train_lstat, y_train, c='red')\n",
    "plt.scatter(X_test_lstat, y_test, c='green')\n",
    "x = np.linspace(min(X_test_lstat), max(X_train_lstat), 100)\n",
    "y = pol_reg.predict(poly_reg.fit_transform(x))\n",
    "plt.plot(x, y, 'b')\n",
    "plt.title('Полиномиальная регрессия')\n",
    "plt.xlabel('Work_accident')\n",
    "plt.ylabel('left')\n",
    "plt.legend(['Полиномиальная регрессия', 'Тренировочные данные', 'Тестовые данные'])\n",
    "plt.show()"
   ]
  },
  {
   "cell_type": "markdown",
   "metadata": {},
   "source": []
  },
  {
   "cell_type": "code",
   "execution_count": 57,
   "metadata": {},
   "outputs": [
    {
     "data": {
      "text/html": [
       "<div>\n",
       "<style scoped>\n",
       "    .dataframe tbody tr th:only-of-type {\n",
       "        vertical-align: middle;\n",
       "    }\n",
       "\n",
       "    .dataframe tbody tr th {\n",
       "        vertical-align: top;\n",
       "    }\n",
       "\n",
       "    .dataframe thead th {\n",
       "        text-align: right;\n",
       "    }\n",
       "</style>\n",
       "<table border=\"1\" class=\"dataframe\">\n",
       "  <thead>\n",
       "    <tr style=\"text-align: right;\">\n",
       "      <th></th>\n",
       "      <th>satisfaction_level</th>\n",
       "      <th>last_evaluation</th>\n",
       "      <th>number_project</th>\n",
       "      <th>average_montly_hours</th>\n",
       "      <th>time_spend_company</th>\n",
       "      <th>Work_accident</th>\n",
       "      <th>left</th>\n",
       "      <th>promotion_last_5years</th>\n",
       "      <th>salary</th>\n",
       "    </tr>\n",
       "  </thead>\n",
       "  <tbody>\n",
       "    <tr>\n",
       "      <th>12058</th>\n",
       "      <td>0.38</td>\n",
       "      <td>0.54</td>\n",
       "      <td>2</td>\n",
       "      <td>128</td>\n",
       "      <td>3</td>\n",
       "      <td>0</td>\n",
       "      <td>1</td>\n",
       "      <td>0</td>\n",
       "      <td>100</td>\n",
       "    </tr>\n",
       "    <tr>\n",
       "      <th>6110</th>\n",
       "      <td>0.86</td>\n",
       "      <td>0.56</td>\n",
       "      <td>5</td>\n",
       "      <td>237</td>\n",
       "      <td>3</td>\n",
       "      <td>0</td>\n",
       "      <td>0</td>\n",
       "      <td>0</td>\n",
       "      <td>100</td>\n",
       "    </tr>\n",
       "    <tr>\n",
       "      <th>9206</th>\n",
       "      <td>0.51</td>\n",
       "      <td>0.51</td>\n",
       "      <td>4</td>\n",
       "      <td>189</td>\n",
       "      <td>3</td>\n",
       "      <td>0</td>\n",
       "      <td>0</td>\n",
       "      <td>0</td>\n",
       "      <td>100</td>\n",
       "    </tr>\n",
       "    <tr>\n",
       "      <th>10035</th>\n",
       "      <td>0.51</td>\n",
       "      <td>0.72</td>\n",
       "      <td>3</td>\n",
       "      <td>242</td>\n",
       "      <td>3</td>\n",
       "      <td>0</td>\n",
       "      <td>0</td>\n",
       "      <td>0</td>\n",
       "      <td>100</td>\n",
       "    </tr>\n",
       "    <tr>\n",
       "      <th>2946</th>\n",
       "      <td>0.51</td>\n",
       "      <td>0.79</td>\n",
       "      <td>5</td>\n",
       "      <td>267</td>\n",
       "      <td>3</td>\n",
       "      <td>0</td>\n",
       "      <td>0</td>\n",
       "      <td>0</td>\n",
       "      <td>200</td>\n",
       "    </tr>\n",
       "  </tbody>\n",
       "</table>\n",
       "</div>"
      ],
      "text/plain": [
       "       satisfaction_level  last_evaluation  number_project  \\\n",
       "12058                0.38             0.54               2   \n",
       "6110                 0.86             0.56               5   \n",
       "9206                 0.51             0.51               4   \n",
       "10035                0.51             0.72               3   \n",
       "2946                 0.51             0.79               5   \n",
       "\n",
       "       average_montly_hours  time_spend_company  Work_accident  left  \\\n",
       "12058                   128                   3              0     1   \n",
       "6110                    237                   3              0     0   \n",
       "9206                    189                   3              0     0   \n",
       "10035                   242                   3              0     0   \n",
       "2946                    267                   3              0     0   \n",
       "\n",
       "       promotion_last_5years  salary  \n",
       "12058                      0     100  \n",
       "6110                       0     100  \n",
       "9206                       0     100  \n",
       "10035                      0     100  \n",
       "2946                       0     200  "
      ]
     },
     "execution_count": 57,
     "metadata": {},
     "output_type": "execute_result"
    }
   ],
   "source": [
    "df.head()"
   ]
  },
  {
   "cell_type": "code",
   "execution_count": 58,
   "metadata": {},
   "outputs": [
    {
     "name": "stdout",
     "output_type": "stream",
     "text": [
      "              precision    recall  f1-score   support\n",
      "\n",
      "           0       0.82      0.92      0.87      2305\n",
      "           1       0.57      0.33      0.42       695\n",
      "\n",
      "    accuracy                           0.79      3000\n",
      "   macro avg       0.69      0.63      0.64      3000\n",
      "weighted avg       0.76      0.79      0.76      3000\n",
      "\n"
     ]
    },
    {
     "name": "stderr",
     "output_type": "stream",
     "text": [
      "/Users/natalaurina/anaconda3/lib/python3.7/site-packages/sklearn/utils/validation.py:724: DataConversionWarning: A column-vector y was passed when a 1d array was expected. Please change the shape of y to (n_samples, ), for example using ravel().\n",
      "  y = column_or_1d(y, warn=True)\n"
     ]
    }
   ],
   "source": [
    "#попробуем через логистическую регрессию - точность увеличилась\n",
    "X = df[['Work_accident', 'satisfaction_level', 'last_evaluation', 'number_project',\\\n",
    "        'average_montly_hours', 'time_spend_company', 'promotion_last_5years', 'salary']]\n",
    "y = df[['left']]\n",
    "from sklearn.linear_model import LogisticRegression\n",
    "\n",
    "# разделим на тренировочные данные и на тестовые\n",
    "X_train, X_test, y_train, y_test = train_test_split(X, y, test_size=0.2, random_state=27)\n",
    "model = LogisticRegression(solver='liblinear').fit(X_train, y_train)\n",
    "from sklearn.metrics import classification_report\n",
    "\n",
    "model_pred = model.predict(X_test)\n",
    "\n",
    "print(classification_report(y_test, model_pred))"
   ]
  },
  {
   "cell_type": "code",
   "execution_count": 61,
   "metadata": {},
   "outputs": [
    {
     "name": "stdout",
     "output_type": "stream",
     "text": [
      "              precision    recall  f1-score   support\n",
      "\n",
      "           0       0.76      0.98      0.86      2305\n",
      "           1       0.00      0.00      0.00       695\n",
      "\n",
      "    accuracy                           0.75      3000\n",
      "   macro avg       0.38      0.49      0.43      3000\n",
      "weighted avg       0.59      0.75      0.66      3000\n",
      "\n"
     ]
    },
    {
     "name": "stderr",
     "output_type": "stream",
     "text": [
      "/Users/natalaurina/anaconda3/lib/python3.7/site-packages/sklearn/utils/validation.py:724: DataConversionWarning: A column-vector y was passed when a 1d array was expected. Please change the shape of y to (n_samples, ), for example using ravel().\n",
      "  y = column_or_1d(y, warn=True)\n"
     ]
    }
   ],
   "source": [
    "#попробуем через логистическую регрессию - точность увеличилась\n",
    "X = df[['average_montly_hours', 'time_spend_company', 'promotion_last_5years', 'salary']]\n",
    "y = df[['left']]\n",
    "from sklearn.linear_model import LogisticRegression\n",
    "\n",
    "# разделим на тренировочные данные и на тестовые\n",
    "X_train, X_test, y_train, y_test = train_test_split(X, y, test_size=0.2, random_state=27)\n",
    "model = LogisticRegression(solver='liblinear').fit(X_train, y_train)\n",
    "from sklearn.metrics import classification_report\n",
    "\n",
    "model_pred = model.predict(X_test)\n",
    "\n",
    "print(classification_report(y_test, model_pred))"
   ]
  },
  {
   "cell_type": "code",
   "execution_count": null,
   "metadata": {},
   "outputs": [],
   "source": [
    "'Work_accident', 'satisfaction_level', 'last_evaluation', 'number_project',\\"
   ]
  },
  {
   "cell_type": "code",
   "execution_count": 65,
   "metadata": {},
   "outputs": [
    {
     "name": "stdout",
     "output_type": "stream",
     "text": [
      "              precision    recall  f1-score   support\n",
      "\n",
      "           0       0.80      0.92      0.86      2305\n",
      "           1       0.49      0.25      0.33       695\n",
      "\n",
      "    accuracy                           0.77      3000\n",
      "   macro avg       0.65      0.59      0.59      3000\n",
      "weighted avg       0.73      0.77      0.74      3000\n",
      "\n"
     ]
    },
    {
     "name": "stderr",
     "output_type": "stream",
     "text": [
      "/Users/natalaurina/anaconda3/lib/python3.7/site-packages/sklearn/utils/validation.py:724: DataConversionWarning: A column-vector y was passed when a 1d array was expected. Please change the shape of y to (n_samples, ), for example using ravel().\n",
      "  y = column_or_1d(y, warn=True)\n"
     ]
    }
   ],
   "source": [
    "#попробуем через логистическую регрессию - точность увеличилась\n",
    "X = df[[ 'satisfaction_level', 'time_spend_company']]\n",
    "y = df[['left']]\n",
    "from sklearn.linear_model import LogisticRegression\n",
    "\n",
    "# разделим на тренировочные данные и на тестовые\n",
    "X_train, X_test, y_train, y_test = train_test_split(X, y, test_size=0.2, random_state=27)\n",
    "model = LogisticRegression(solver='liblinear').fit(X_train, y_train)\n",
    "from sklearn.metrics import classification_report\n",
    "\n",
    "model_pred = model.predict(X_test)\n",
    "\n",
    "print(classification_report(y_test, model_pred))"
   ]
  },
  {
   "cell_type": "markdown",
   "metadata": {
    "colab": {},
    "colab_type": "code",
    "id": "v0It8sBStGcI"
   },
   "source": [
    "11.Загрузить результат (в формате .ipynb ноутбука) в репозиторий. Разместить ссылку на репозиторий в Личном кабинете"
   ]
  },
  {
   "cell_type": "code",
   "execution_count": null,
   "metadata": {},
   "outputs": [],
   "source": []
  }
 ],
 "metadata": {
  "colab": {
   "name": "dz_2.ipynb",
   "provenance": [],
   "version": "0.3.2"
  },
  "kernelspec": {
   "display_name": "Python 3",
   "language": "python",
   "name": "python3"
  },
  "language_info": {
   "codemirror_mode": {
    "name": "ipython",
    "version": 3
   },
   "file_extension": ".py",
   "mimetype": "text/x-python",
   "name": "python",
   "nbconvert_exporter": "python",
   "pygments_lexer": "ipython3",
   "version": "3.7.3"
  }
 },
 "nbformat": 4,
 "nbformat_minor": 1
}

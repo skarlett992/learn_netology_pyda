{
 "cells": [
  {
   "cell_type": "markdown",
   "metadata": {},
   "source": [
    "# Домашнее задание к лекции \"Регулярные выражения\"\n",
    "Для зачета необходимо выполнить 4 задания.  \n",
    "Для зачета с отличием – все."
   ]
  },
  {
   "cell_type": "markdown",
   "metadata": {},
   "source": [
    "## Задание 1"
   ]
  },
  {
   "cell_type": "markdown",
   "metadata": {},
   "source": [
    "Напишите функцию, которая принимает на вход строку и проверяет является ли она валидным транспортным номером. Если да, то функция должна возвращать отдельно номер и регион."
   ]
  },
  {
   "cell_type": "code",
   "execution_count": 10,
   "metadata": {},
   "outputs": [
    {
     "name": "stdout",
     "output_type": "stream",
     "text": [
      "номер: 312, регион: 123\n"
     ]
    }
   ],
   "source": [
    "import re\n",
    "letters = 'ETUOPADHKXCBM'\n",
    "\n",
    "\n",
    "def get_number(s):\n",
    "    if re.fullmatch(r'[' + letters + ']\\d{3}[' + letters + ']{2}\\d{3}', s):\n",
    "        region = re.findall(r'\\d+$', s)[0]\n",
    "        number = re.findall(r'^[\\D]([\\d]{3})', s)[0]\n",
    "        return (f'номер: {number}, регион: {region}')\n",
    "    else:\n",
    "        return 'Номер не валиден'\n",
    "print(get_number('E312CX123'))"
   ]
  },
  {
   "cell_type": "markdown",
   "metadata": {},
   "source": [
    "## Задание 2"
   ]
  },
  {
   "cell_type": "markdown",
   "metadata": {},
   "source": [
    "Напишите функцию, которая проверяет e-mail адрес на валидность по стандарту RFC822: http://www.w3.org/Protocols/rfc822/. Для этого постарайтесь написать (в крайнем случае найти) самый полный шаблон для проверки e-mail адресов через регулярное выражение. Разберитесь и напишите примеры, какие ваш шаблон может не охватить."
   ]
  },
  {
   "cell_type": "code",
   "execution_count": 11,
   "metadata": {},
   "outputs": [
    {
     "name": "stdout",
     "output_type": "stream",
     "text": [
      "Email n.john.smith@gmail.com валиден\n",
      "Email 87victory@hotmail.com валиден\n",
      "Email !#mary-=@msca.net не валиден\n"
     ]
    }
   ],
   "source": [
    "emails = ['n.john.smith@gmail.com', '87victory@hotmail.com', '!#mary-=@msca.net']\n",
    "def is_e_mail_valid(email):\n",
    "    r_mails = r'^([a-z0-9_-]+\\.)*[a-z0-9_-]+@[a-z0-9_-]+(\\.[a-z0-9_-]+)*\\.[a-z]{2,6}$'\n",
    "    if re.match(r_mails, email):\n",
    "        return True\n",
    "    else:\n",
    "        return False\n",
    "for email in emails:\n",
    "    print(f'Email {email} валиден' if is_e_mail_valid(email) else f'Email {email} не валиден')"
   ]
  },
  {
   "cell_type": "markdown",
   "metadata": {},
   "source": [
    "## Задание 3\n",
    "При помощи регулярных выражений напишите функцию, которая будет возвращать акроним переданного в нее текста."
   ]
  },
  {
   "cell_type": "code",
   "execution_count": 12,
   "metadata": {},
   "outputs": [
    {
     "name": "stdout",
     "output_type": "stream",
     "text": [
      "['2', 'd', 'q', 'Q']\n"
     ]
    }
   ],
   "source": [
    "def acronym(s):\n",
    "    return [s[0]] + re.findall(r' ([\\S])', s)\n",
    "print(acronym('23e3 dfbd qwe QW3ef'))"
   ]
  },
  {
   "cell_type": "markdown",
   "metadata": {},
   "source": [
    "## Задание 4\n",
    "Напишите функцию, которая будет удалять все последовательные повторы слов из заданной строки."
   ]
  },
  {
   "cell_type": "code",
   "execution_count": 13,
   "metadata": {},
   "outputs": [
    {
     "data": {
      "text/plain": [
       "'я не повторяюсь'"
      ]
     },
     "execution_count": 13,
     "metadata": {},
     "output_type": "execute_result"
    }
   ],
   "source": [
    "import re\n",
    "def delete_iretations(a):\n",
    "    return re.sub(r'\\b(\\w+)( \\1\\b)+', r'\\1', a)\n",
    "delete_iretations('я не не не повторяюсь повторяюсь')"
   ]
  },
  {
   "cell_type": "markdown",
   "metadata": {},
   "source": [
    "### Задание 5\n",
    "Напишите функцию, которая будет проверять номер сотового телефона на валидность, если он валиден, то переводить его в формат:   \n",
    "+7(xxx)-xxx-xx-xx  \n",
    "Постарайтесь предусмотреть как можно больше адекватных форматов изначального ввода номера.\n",
    "Примеры правильных и неправильных форматов:\n",
    "- +1 555 555-55-55;\n",
    "- 5555555555;\n",
    "- 555555555;\n",
    "- 8(555)555-55-55;\n",
    "- +7 555 555 55 55;\n",
    "- 7(555) 555-55-55;\n",
    "- +7 555+555+55+55."
   ]
  },
  {
   "cell_type": "code",
   "execution_count": 25,
   "metadata": {},
   "outputs": [
    {
     "name": "stdout",
     "output_type": "stream",
     "text": [
      "Введите номер, 7-905------+++++..44.....79-763\n",
      "+7(905)-447-97-63\n"
     ]
    }
   ],
   "source": [
    "import re\n",
    "numbers = input('Введите номер, ')\n",
    "\n",
    "def right_number(e):\n",
    "    e = list(''.join(re.findall('\\d+', numbers)))[-10:]\n",
    "    e.insert(0, '+7')\n",
    "    if e[1]=='9' and len(e) ==11:\n",
    "        return f'{e[0]}({e[1]}{e[2]}{e[3]})-{e[4]}{e[5]}{e[6]}-{e[7]}{e[8]}-{e[9]}{e[10]}'\n",
    "    else:\n",
    "        return 'Номер не валиден'\n",
    "print(right_number(numbers))"
   ]
  },
  {
   "cell_type": "code",
   "execution_count": null,
   "metadata": {},
   "outputs": [],
   "source": []
  }
 ],
 "metadata": {
  "kernelspec": {
   "display_name": "Python 3",
   "language": "python",
   "name": "python3"
  },
  "language_info": {
   "codemirror_mode": {
    "name": "ipython",
    "version": 3
   },
   "file_extension": ".py",
   "mimetype": "text/x-python",
   "name": "python",
   "nbconvert_exporter": "python",
   "pygments_lexer": "ipython3",
   "version": "3.7.3"
  }
 },
 "nbformat": 4,
 "nbformat_minor": 2
}

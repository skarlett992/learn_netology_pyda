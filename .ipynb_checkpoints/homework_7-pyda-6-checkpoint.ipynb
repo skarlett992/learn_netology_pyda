{
 "cells": [
  {
   "cell_type": "code",
   "execution_count": 98,
   "metadata": {},
   "outputs": [
    {
     "name": "stdout",
     "output_type": "stream",
     "text": [
      " Введите дату начала 2019-08-05\n",
      " Введите конечную дату 2018-10-03\n"
     ]
    }
   ],
   "source": [
    "#Задание 1\n",
    "#Напишите функцию date_range, которая возвращает список дней между датами start_date и end_date. \n",
    "#Даты должны вводиться в формате YYYY-MM-DD.\n",
    "\n",
    "from datetime import datetime, timedelta\n",
    "date_start = input (' Введите дату начала ', )\n",
    "date_end = input (' Введите конечную дату ', )\n",
    "def list_dates_between(date_start, date_end):\n",
    "    date_start_list = [int(x) for x in date_start.split('-')]\n",
    "    date_end_list = [int(x) for x in date_end.split('-')]\n",
    "    date_start = datetime(date_start_list[0], date_start_list[1], date_start_list[2])\n",
    "    date_end = datetime(*date_end_list)\n",
    "    dates = []\n",
    "    i = date_start  \n",
    "    while i < date_end:\n",
    "        dates.append(i)\n",
    "        i+=timedelta(days=1)\n",
    "    return dates\n",
    "\n",
    "for x in list_dates_between(date_start, date_end):\n",
    "    print(x.strftime('%Y-%m-%d'))\n"
   ]
  },
  {
   "cell_type": "code",
   "execution_count": 99,
   "metadata": {},
   "outputs": [
    {
     "name": "stdout",
     "output_type": "stream",
     "text": [
      "[]\n"
     ]
    }
   ],
   "source": [
    "#Задание 2\n",
    "#Дополните функцию из первого задания проверкой на корректность дат. \n",
    "#В случае неверного формата или если start_date > end_date должен возвращаться пустой список.\n",
    "print(list_dates_between(date_start, date_end))"
   ]
  },
  {
   "cell_type": "code",
   "execution_count": 27,
   "metadata": {},
   "outputs": [],
   "source": [
    "#Задание 3\n",
    "#Дан поток дат в формате YYYY-MM-DD, в которых встречаются некорректные значения:\n",
    "stream = ['2018-04-02', '2018-02-29', '2018-19-02']\n",
    "\n",
    "#Напишите функцию, которая проверяет эти даты на корректность. \n",
    "#Т. е. для каждой даты возвращает True (дата корректна) или False (некорректная дата).\n",
    "\n",
    "def is_leap(year):\n",
    "    return ((year%4 == 0 and year%100 != 0) or (year%400 == 0))\n",
    "\n",
    "def days_in_month(y, m):\n",
    "    if m in (1, 3, 5, 7, 8, 10, 12):\n",
    "        return 31\n",
    "    elif m in (4, 6, 9, 11):\n",
    "        return 30\n",
    "    elif is_leap(y):\n",
    "        return 29\n",
    "    else:\n",
    "        return 28\n",
    "\n",
    "\n",
    "def is_date_correct(str_date: str):\n",
    "    tokens = str_date.split('-')\n",
    "    if len(tokens) == 3 and len(tokens[0]) == 4 and len(tokens[1]) == len(tokens[2]) == 2 \\\n",
    "       and tokens[0].isdigit() and tokens[1].isdigit() and tokens[2].isdigit():\n",
    "        y, m, d = int(tokens[0]), int(tokens[1]), int(tokens[2])\n",
    "        if 0 < m <= 12 and 0 < d <= days_in_month(y, m):\n",
    "            return True\n",
    "        else:\n",
    "            return False\n",
    "       "
   ]
  },
  {
   "cell_type": "code",
   "execution_count": 29,
   "metadata": {},
   "outputs": [
    {
     "data": {
      "text/plain": [
       "False"
      ]
     },
     "execution_count": 29,
     "metadata": {},
     "output_type": "execute_result"
    }
   ],
   "source": [
    "is_date_correct('2018-22-02')\n",
    "#через ошибки сделать\n",
    "#чтобы функция применялась к массиву (не к одному элементу код, а к массиву)"
   ]
  },
  {
   "cell_type": "code",
   "execution_count": 129,
   "metadata": {},
   "outputs": [
    {
     "ename": "SyntaxError",
     "evalue": "invalid syntax (<ipython-input-129-a7859faf8f47>, line 1)",
     "output_type": "error",
     "traceback": [
      "\u001b[0;36m  File \u001b[0;32m\"<ipython-input-129-a7859faf8f47>\"\u001b[0;36m, line \u001b[0;32m1\u001b[0m\n\u001b[0;31m    Задание 4 (бонусное)\u001b[0m\n\u001b[0m            ^\u001b[0m\n\u001b[0;31mSyntaxError\u001b[0m\u001b[0;31m:\u001b[0m invalid syntax\n"
     ]
    }
   ],
   "source": [
    "Задание 4 (бонусное)\n",
    "Ваш коллега прислал код функции:\n",
    "\n",
    "DEFAULT_USER_COUNT = 3\n",
    "\n",
    "def delete_and_return_last_user(region, default_list=[‘A100’, ‘A101’, ‘A102’]):\n",
    "\"\"“\n",
    "Удаляет из списка default_list последнего пользователя\n",
    "и возвращает ID нового последнего пользователя.\n",
    "”\"\"\n",
    "element_to_delete = default_list[-1]\n",
    "default_list.remove(element_to_delete)\n",
    "\n",
    "return default_list[DEFAULT_USER_COUNT-2]\n",
    "При однократном вызове этой функции все работает корректно:\n",
    "delete_and_return_last_user(1)\n",
    "‘A101’\n",
    "\n",
    "Однако, при повторном вызове получается ошибка IndexError: list index out of range.\n",
    "\n",
    "Задание:\n",
    "Что значит ошибка list index out of range?\n",
    "Почему при первом запуске функция работает корректно, а при втором - нет"
   ]
  },
  {
   "cell_type": "code",
   "execution_count": null,
   "metadata": {},
   "outputs": [],
   "source": []
  }
 ],
 "metadata": {
  "kernelspec": {
   "display_name": "Python 3",
   "language": "python",
   "name": "python3"
  },
  "language_info": {
   "codemirror_mode": {
    "name": "ipython",
    "version": 3
   },
   "file_extension": ".py",
   "mimetype": "text/x-python",
   "name": "python",
   "nbconvert_exporter": "python",
   "pygments_lexer": "ipython3",
   "version": "3.7.3"
  }
 },
 "nbformat": 4,
 "nbformat_minor": 2
}

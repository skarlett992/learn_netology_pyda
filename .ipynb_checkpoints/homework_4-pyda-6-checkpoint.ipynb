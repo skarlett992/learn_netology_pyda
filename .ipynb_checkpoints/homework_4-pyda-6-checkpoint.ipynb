{
 "cells": [
  {
   "cell_type": "markdown",
   "metadata": {},
   "source": [
    "# Задание к лекции \"Функции\".\n",
    "Для зачета необходимо правильно выполнить 4 заданий из 6.  \n",
    "Для зачета с отличием – все 6."
   ]
  },
  {
   "cell_type": "markdown",
   "metadata": {},
   "source": [
    "## Задание 1"
   ]
  },
  {
   "cell_type": "markdown",
   "metadata": {},
   "source": [
    "Дан список вида:"
   ]
  },
  {
   "cell_type": "code",
   "execution_count": 1,
   "metadata": {},
   "outputs": [
    {
     "data": {
      "text/plain": [
       "103"
      ]
     },
     "execution_count": 1,
     "metadata": {},
     "output_type": "execute_result"
    }
   ],
   "source": [
    "data = [\n",
    "    [13, 25, 23, 34],\n",
    "    [45, 32, 44, 47],\n",
    "    [12, 33, 23, 95],\n",
    "    [13, 53, 34, 35]\n",
    "]\n",
    "def diag(data):\n",
    "    a = 0\n",
    "    for i,values in enumerate(data):\n",
    "        a+=values[i]\n",
    "    return(a) \n",
    "diag(data)"
   ]
  },
  {
   "cell_type": "markdown",
   "metadata": {},
   "source": [
    "Напишите функцию, которая возвращает сумму элементов на диагонали. Т. е. 13+32+23+35.  \n",
    "Список может быть любой длины, но всегда является \"квадратным\" (количество элементов во вложенных списках равно их количеству)."
   ]
  },
  {
   "cell_type": "markdown",
   "metadata": {},
   "source": [
    "## Задание 2"
   ]
  },
  {
   "cell_type": "markdown",
   "metadata": {},
   "source": [
    "Напишите функцию, возвращающую сумму первых n чисел Фибоначчи (для этого вам может понадобится ознакомиться с рекурсией)."
   ]
  },
  {
   "cell_type": "code",
   "execution_count": 2,
   "metadata": {},
   "outputs": [
    {
     "name": "stdout",
     "output_type": "stream",
     "text": [
      "12\n"
     ]
    }
   ],
   "source": [
    "def fib(n):\n",
    "    seq = [0, 1]\n",
    "    for i in range(2, n + 1):\n",
    "        seq.append(seq[i-1] + seq[i-2])\n",
    "    print(sum(seq))\n",
    "    \n",
    "fib(5)"
   ]
  },
  {
   "cell_type": "markdown",
   "metadata": {},
   "source": [
    "## Задание 3"
   ]
  },
  {
   "cell_type": "code",
   "execution_count": 35,
   "metadata": {
    "scrolled": true
   },
   "outputs": [
    {
     "name": "stdout",
     "output_type": "stream",
     "text": [
      "Введите количество гостей: 3\n",
      "Введите блюда через пробел: \n",
      "салат пицца пицца лимонад\n",
      "Список покупок для гостей:\n",
      "\n",
      "сыр 270 гр\n",
      "томаты 180 гр\n",
      "огурцы 60 гр\n",
      "маслины 30 гр\n",
      "оливковое масло 60 мл\n",
      "салат 30 гр\n",
      "перец 60 гр\n",
      "колбаса 180 гр\n",
      "бекон 180 гр\n",
      "оливки 60 гр\n",
      "тесто 600 гр\n",
      "лимон 3 шт\n",
      "вода 600 мл\n",
      "сахар 30 гр\n",
      "лайм 60 гр\n"
     ]
    }
   ],
   "source": [
    "cook_book = {\n",
    "  'салат': [\n",
    "     {'ingridient_name': 'сыр', 'quantity': 50, 'measure': 'гр'},\n",
    "     {'ingridient_name': 'томаты', 'quantity': 20, 'measure': 'гр'},\n",
    "     {'ingridient_name': 'огурцы', 'quantity': 20, 'measure': 'гр'},\n",
    "     {'ingridient_name': 'маслины', 'quantity': 10, 'measure': 'гр'},\n",
    "     {'ingridient_name': 'оливковое масло', 'quantity': 20, 'measure': 'мл'},\n",
    "     {'ingridient_name': 'салат', 'quantity': 10, 'measure': 'гр'},\n",
    "     {'ingridient_name': 'перец', 'quantity': 20, 'measure': 'гр'}\n",
    "    ],\n",
    "  'пицца': [\n",
    "     {'ingridient_name': 'сыр', 'quantity': 20, 'measure': 'гр'},\n",
    "     {'ingridient_name': 'колбаса', 'quantity': 30, 'measure': 'гр'},\n",
    "     {'ingridient_name': 'бекон', 'quantity': 30, 'measure': 'гр'},\n",
    "     {'ingridient_name': 'оливки', 'quantity': 10, 'measure': 'гр'},\n",
    "     {'ingridient_name': 'томаты', 'quantity': 20, 'measure': 'гр'},\n",
    "     {'ingridient_name': 'тесто', 'quantity': 100, 'measure': 'гр'},   \n",
    "    ],\n",
    "  'лимонад': [\n",
    "     {'ingridient_name': 'лимон', 'quantity': 1, 'measure': 'шт'},\n",
    "     {'ingridient_name': 'вода', 'quantity': 200, 'measure': 'мл'},\n",
    "     {'ingridient_name': 'сахар', 'quantity': 10, 'measure': 'гр'},\n",
    "     {'ingridient_name': 'лайм', 'quantity': 20, 'measure': 'гр'},    \n",
    "    ]\n",
    "}\n",
    "\n",
    "#создаем новый словарь, куда сложим все ингридиенты\n",
    "final_ingrids = {}\n",
    "#будем умножать на гостей\n",
    "a = int(input('Введите количество гостей: '))\n",
    "#ключевые блюда через пробел в переменную\n",
    "dishes = input('Введите блюда через пробел: \\n', ).split()\n",
    "#-теперь работаю с исходным словарем.пробегаю по блюдам - ключам, складываю в список с ингридиентами\n",
    "for dish in dishes:\n",
    "    ings = cook_book[dish]\n",
    "#пробегаю по списку с ингридиентами\n",
    "    for ing in ings:\n",
    "#если по ключу ингридиента такой есть, складываю по количеству из исходного словаря в свой созданный словарь\n",
    "        if ing['ingridient_name'] in final_ingrids.keys():\n",
    "            final_ingrids[ing['ingridient_name']]['quantity'] += ing['quantity']\n",
    "#в противном случае, добавляю новый в свой словарь словарей\n",
    "        else:\n",
    "            final_ingrids[ing['ingridient_name']] = {'quantity': ing['quantity'], 'measure': ing['measure']}\n",
    "#print(final_ingrids)\n",
    "#получился мой словарь словарей\n",
    "#создаю итоговый список, где из своего своего нового словаря вытаскиваю через comprehantion:\n",
    "#ингридиент, значение по количеству и сразу умноаю на гостей, меру\n",
    "list_of_ingrids = [[ing, a*discr['quantity'], discr['measure']] for ing, discr in final_ingrids.items()]\n",
    "print('Список покупок для гостей:\\n')\n",
    "#print(list_of_ingrids)\n",
    "#построчный вывод моего конечного списка в столбец\n",
    "for i in list_of_ingrids:\n",
    "    print(*i)\n"
   ]
  },
  {
   "cell_type": "markdown",
   "metadata": {},
   "source": [
    "Напишите программу (она может состоять из нескольких функций), которая будет запрашивать у пользователя количество гостей и список блюд, которые будут подаваться каждому гостю. В результате программа должна выдавать список покупок, состоящий из ингредиентов, которые нужно купить в магазине (если ингредиенты повторяются, то их нужно записать одной строкой, а не отдельно).\n",
    "\n",
    "Пример:\n",
    "\n",
    "вызов\\_главной\\_функций()\n",
    "\n",
    "Введите количество гостей: 3  \n",
    "Введите блюда через пробел: пицца пицца лимонад\n",
    "\n",
    "Список покупок:  \n",
    "сыр 120 гр  \n",
    "колбаса 180 гр  \n",
    "бекон 180 гр  \n",
    "оливки 60 гр  \n",
    "томаты 120 гр  \n",
    "тесто 600 гр  \n",
    "лимон 3 шт  \n",
    "вода 600 мл  \n",
    "сахар 30 гр  \n",
    "лайм 60 гр  "
   ]
  },
  {
   "cell_type": "markdown",
   "metadata": {},
   "source": [
    "## Задание 4"
   ]
  },
  {
   "cell_type": "code",
   "execution_count": null,
   "metadata": {},
   "outputs": [],
   "source": []
  },
  {
   "cell_type": "markdown",
   "metadata": {},
   "source": [
    "Вы работаете секретарем и вам постоянно приходят различные документы. Вы должны быть очень внимательны, чтобы не потерять ни один документ. Каталог документов хранится в следующем виде:"
   ]
  },
  {
   "cell_type": "code",
   "execution_count": 2,
   "metadata": {},
   "outputs": [],
   "source": [
    "from itertools import chain\n",
    "documents = [\n",
    "    {'type': 'passport', 'number': '2207 876234', 'name': 'Василий Гупкин'},\n",
    "    {'type': 'invoice', 'number': '11-2', 'name': 'Геннадий Покемонов'},\n",
    "    {'type': 'insurance', 'number': '10006', 'name': 'Аристарх Павлов'}\n",
    "]"
   ]
  },
  {
   "cell_type": "markdown",
   "metadata": {},
   "source": [
    "Перечень полок, на которых находятся документы хранится в следующем виде:"
   ]
  },
  {
   "cell_type": "code",
   "execution_count": 3,
   "metadata": {},
   "outputs": [],
   "source": [
    "directories = {\n",
    "    '1': ['2207 876234', '11-2', '5455 028765'],\n",
    "    '2': ['10006', '5400 028765', '5455 002299'],\n",
    "    '3': []\n",
    "}"
   ]
  },
  {
   "cell_type": "code",
   "execution_count": 4,
   "metadata": {},
   "outputs": [
    {
     "name": "stdout",
     "output_type": "stream",
     "text": [
      "Введите команду d\n",
      "Введите номер документа\n",
      "11-2\n",
      "Successfully deleted from documents\n",
      "Successfully deleted from shelfs\n"
     ]
    }
   ],
   "source": [
    "#p – people – команда, которая спросит номер документа и выведет имя человека, которому он принадлежит\n",
    "\n",
    "a = input('Введите команду ', )\n",
    "if a == 'p':\n",
    "    p = input('Введите номер докумена: ', )\n",
    "    people = [x['name'] for x in documents if x['number']==p]\n",
    "    print(people)\n",
    "#s – shelf – команда, которая спросит номер документа и выведет номер полки, на которой он находится\n",
    "#Правильно обработайте ситуацию, когда пользователь будет вводить несуществующий документ\n",
    "\n",
    "elif a=='s':\n",
    "    s = input('Введите номер документа:', )\n",
    "    shelf = [x for x in directories.keys() if s in directories[x]]\n",
    "    if len(shelf)==0:\n",
    "        print('Несуществующий документ')\n",
    "    else:\n",
    "        print(shelf)\n",
    "#l – list – команда, которая выведет список всех документов в формате\n",
    "#passport \"2207 876234\" \"Василий Гупкин\"    \n",
    "\n",
    "elif a=='l':\n",
    "    list_l = '\\n'.join([f'''{x['type']} \"{x['number']}\" \"{x['name']}\"''' for x in documents])\n",
    "    print(list_l)\n",
    "#as – add shelf – команда, которая спросит номер новой полки и добавит ее в перечень'''\n",
    "elif a=='as_':\n",
    "    as_ = input('Введите номер полки\\n')\n",
    "    if as_ not in directories.keys():\n",
    "        directories[as_] = []\n",
    "        print(f' Добавлена новая полка {as_}')\n",
    "    else:\n",
    "        print('Полка существует')   \n",
    "        \n",
    "#d – delete – команда, которая спросит номер документа и удалит его из каталога и из перечня полок. \n",
    "#Предусмотрите сценарий, когда пользователь вводит несуществующий документ\n",
    "                        \n",
    "elif a=='d':\n",
    "    d = input('Введите номер документа\\n')\n",
    "    new_documents = [x for x in documents if x['number']!=d]\n",
    "    if len(documents) - len(new_documents)>0:\n",
    "        print(f'Successfully deleted from documents')\n",
    "    else:\n",
    "        print('This number does not exist in documents')\n",
    "    documents = new_documents\n",
    "    n_deleted = 0\n",
    "    for k in directories.keys():\n",
    "        new_shelf = [x for x in directories[k] if x!=d]\n",
    "        n_deleted += len(directories[k]) - len(new_shelf)\n",
    "        directories[k] = new_shelf\n",
    "    if n_deleted>0:\n",
    "        print(f'Successfully deleted from shelfs')\n",
    "    else:\n",
    "        print('This document does not exist on shelfs')\n",
    "\n",
    "#m – move – команда, которая спросит номер документа и целевую полку и переместит его с текущей полки на целевую. \n",
    "#Корректно обработайте кейсы, когда пользователь пытается переместить несуществующий документ или переместить \n",
    "#документ на несуществующую полку   \n",
    "                        \n",
    "elif a=='m':\n",
    "    document_number = input(f\"Введите номер документа \\n\")\n",
    "    shelf_name = input(f\"Введите номер целевой полки \\n\")\n",
    "    cur_dirs = [k for k in directories.keys() if document_number in directories[k]]\n",
    "    if len(cur_dirs) == 0:\n",
    "        print('This document does not exist in directories')\n",
    "    elif cur_dirs == [shelf_name]:\n",
    "        print('This document is already on specified shelf')\n",
    "    elif shelf_name not in directories.keys():\n",
    "        print('This shelf does not exist')    \n",
    "    else:\n",
    "        directories = {k: [x for x in v if x != document_number] for k, v in directories.items()}\n",
    "        directories[shelf_name].append(document_number)\n",
    "        print('Успешно')\n",
    "\n",
    "#a – add – команда, которая добавит новый документ в каталог и в перечень полок, \n",
    "#спросив его номер, тип, имя владельца и номер полки, на котором он будет храниться.\n",
    "elif a=='a':\n",
    "    doc_type = input(f\"Введите тип документа \\n\")\n",
    "    doc_num = input(f\"Введите номер документа \\n\")\n",
    "    doc_name = input(f\"Введите имя владельца документа \\n\")\n",
    "    shelf_name = input(f\"Введите номер целевой полки \\n\")\n",
    "    new_doc = {'type': doc_type, 'number': doc_num, 'name': doc_name}\n",
    "    if doc_num in [x['number'] for x in documents]:\n",
    "        if new_doc in documents:\n",
    "            if doc_num in chain.from_iterable(directories.values()):\n",
    "                print('This document already exists')\n",
    "            else:\n",
    "                if shelf_name in directories.keys():\n",
    "                    directories[shelf_name].append(doc_name)\n",
    "                else:\n",
    "                    print('This shelf does not exist')\n",
    "        else:\n",
    "            print('Document with this number already exists')\n",
    "    else:\n",
    "        documents.append(new_doc)\n",
    "        print('Document created')\n",
    "        if doc_num not in chain.from_iterable(directories.values()):\n",
    "            if shelf_name in directories.keys():\n",
    "                directories[shelf_name].append(doc_num)\n",
    "                print('Document added to shelf')\n",
    "            else:\n",
    "                print('This shelf does not exist')\n",
    "        else:\n",
    "            print('This document is already on shelfes')"
   ]
  },
  {
   "cell_type": "code",
   "execution_count": 5,
   "metadata": {},
   "outputs": [
    {
     "data": {
      "text/plain": [
       "([{'type': 'passport', 'number': '2207 876234', 'name': 'Василий Гупкин'},\n",
       "  {'type': 'insurance', 'number': '10006', 'name': 'Аристарх Павлов'}],\n",
       " {'1': ['2207 876234', '5455 028765'],\n",
       "  '2': ['10006', '5400 028765', '5455 002299'],\n",
       "  '3': []})"
      ]
     },
     "execution_count": 5,
     "metadata": {},
     "output_type": "execute_result"
    }
   ],
   "source": [
    "documents, directories"
   ]
  },
  {
   "cell_type": "markdown",
   "metadata": {},
   "source": [
    "## \n",
    "#d – delete – команда, которая спросит номер документа и удалит его из каталога и из перечня полок. \n",
    "#Предусмотрите сценарий, когда пользователь вводит несуществующий документ"
   ]
  },
  {
   "cell_type": "markdown",
   "metadata": {},
   "source": [
    "Необходимо реализовать пользовательские команды (внимание! это не название функций, которые должны быть выразительными, а команды, которые вводит пользователь, чтобы получить необходимый результат):\n",
    "  \n",
    "- p – people – команда, которая спросит номер документа и выведет имя человека, которому он принадлежит;  \n",
    "- s – shelf – команда, которая спросит номер документа и выведет номер полки, на которой он находится  \n",
    "Правильно обработайте ситуацию, когда пользователь будет вводить несуществующий документ."
   ]
  },
  {
   "cell_type": "code",
   "execution_count": 7,
   "metadata": {},
   "outputs": [],
   "source": [
    "def get_name_by_number(documents, number):\n",
    "    for document in documents:\n",
    "        if document['number'] == number:\n",
    "            return document['name']\n",
    "    return 'Not found'\n",
    "\n",
    "\n",
    "def get_shelf_by_number(directories, number):\n",
    "    for k, v in directories.items():\n",
    "        if number in v:\n",
    "            return k\n",
    "    return 'Not found'\n"
   ]
  },
  {
   "cell_type": "markdown",
   "metadata": {},
   "source": [
    "## Задание 5"
   ]
  },
  {
   "cell_type": "markdown",
   "metadata": {},
   "source": [
    "К условию из задания 5 реализуйте следующие команды:\n",
    "  \n",
    "- l – list – команда, которая выведет список всех документов в формате   \n",
    "**passport \"2207 876234\" \"Василий Гупкин\"**  \n",
    "- as – add shelf – команда, которая спросит номер новой полки и добавит ее в перечень"
   ]
  },
  {
   "cell_type": "code",
   "execution_count": null,
   "metadata": {},
   "outputs": [
    {
     "name": "stdout",
     "output_type": "stream",
     "text": [
      "p 10006\n",
      "Аристарх Павлов\n"
     ]
    }
   ],
   "source": [
    "def remove_number(documents, directories, number):\n",
    "    deleted_from_docs, deleted_from_dirs = False, False\n",
    "    for i in range(len(documents)):\n",
    "        if documents[i]['number'] == number:\n",
    "            documents.pop(i)\n",
    "            deleted_from_docs = True\n",
    "            break\n",
    "    for k in directories:\n",
    "        if number in directories[k]:\n",
    "            directories[k].remove(number)\n",
    "            deleted_from_dirs = True\n",
    "            break\n",
    "    if deleted_from_docs and deleted_from_dirs:\n",
    "        report = 'removed from documents and directories'\n",
    "    elif not deleted_from_docs and deleted_from_dirs:\n",
    "        report = 'removed only from directories'\n",
    "    elif deleted_from_docs and not deleted_from_dirs:\n",
    "        report = 'removed only from documents'\n",
    "    else:\n",
    "        report = 'number not found'\n",
    "    return report\n",
    "\n",
    "def add_shelf(directories, n):\n",
    "    if n in directories:\n",
    "        return 'already exists'\n",
    "    else:\n",
    "        directories[n] = []\n",
    "        return 'shelve created'\n",
    "\n",
    "\n",
    "def list_docs(documents):\n",
    "    result = ''\n",
    "    for document in documents:\n",
    "        result += f'{document[\"type\"]} \"{document[\"number\"]}\" \"{document[\"name\"]}\"\\n'\n",
    "    return result\n",
    "\n",
    "def move_shelf_by_number(directories, number, new_shelf):\n",
    "    move_shelf = ('Введите целевую полку:, ')\n",
    "    for k, v in directories.items():\n",
    "        if number in v:\n",
    "            return k\n",
    "    return move_shelf\n",
    "    # как теперь добавить на нужную полку???\n",
    "    \n",
    "\n",
    "#print(remove_number(documents, directories, '11-2'))\n",
    "while True:\n",
    "    inp = input()\n",
    "    tokens = inp.split(maxsplit=1)\n",
    "    if tokens[0] == 'p':\n",
    "        print(get_name_by_number(documents, tokens[1]))\n",
    "    elif tokens[0] == 's':\n",
    "        print(get_shelf_by_number(directories, tokens[1]))\n",
    "    elif tokens[0] == 'l':\n",
    "        print(list_docs(documents))\n",
    "    elif tokens[0] == 'as':\n",
    "        print(add_shelf(directories, tokens[1]))\n",
    "    elif tokens[0] == 'd':\n",
    "        print(remove_number(documents, directories, tokens[1]))\n",
    "        #на нужную полку:\n",
    "#    elif tokens[0] == 'm':\n",
    " #       print(move_shelf_by_number(documents, directories, tokens[1]))\n",
    "#как сделать, чтобы запрашивала: Введите и тд\n",
    "\n",
    "    else:\n",
    "        print('incorrect command')"
   ]
  },
  {
   "cell_type": "markdown",
   "metadata": {},
   "source": [
    "## Задание 6"
   ]
  },
  {
   "cell_type": "markdown",
   "metadata": {},
   "source": [
    "К условию из задания 5 реализуйте следующие команды:  \n",
    "  \n",
    "- d – delete – команда, которая спросит номер документа и удалит его из каталога и из перечня полок. Предусмотрите сценарий, когда пользователь вводит несуществующий документ;  \n",
    "- m – move – команда, которая спросит номер документа и целевую полку и переместит его с текущей полки на целевую. Корректно обработайте кейсы, когда пользователь пытается переместить несуществующий документ или переместить документ на несуществующую полку;  \n",
    "- a – add – команда, которая добавит новый документ в каталог и в перечень полок, спросив его номер, тип, имя владельца и номер полки, на котором он будет храниться."
   ]
  },
  {
   "cell_type": "code",
   "execution_count": null,
   "metadata": {},
   "outputs": [],
   "source": []
  }
 ],
 "metadata": {
  "kernelspec": {
   "display_name": "Python 3",
   "language": "python",
   "name": "python3"
  },
  "language_info": {
   "codemirror_mode": {
    "name": "ipython",
    "version": 3
   },
   "file_extension": ".py",
   "mimetype": "text/x-python",
   "name": "python",
   "nbconvert_exporter": "python",
   "pygments_lexer": "ipython3",
   "version": "3.7.3"
  }
 },
 "nbformat": 4,
 "nbformat_minor": 2
}

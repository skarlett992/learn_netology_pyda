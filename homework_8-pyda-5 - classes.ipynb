{
 "cells": [
  {
   "cell_type": "code",
   "execution_count": 17,
   "metadata": {},
   "outputs": [
    {
     "name": "stdout",
     "output_type": "stream",
     "text": [
      "{'ID': 'R01215', 'NumCode': '208', 'CharCode': 'DKK', 'Nominal': 10, 'Name': 'Датских крон', 'Value': 94.2219, 'Previous': 94.6145}\n",
      "Датских крон\n"
     ]
    }
   ],
   "source": [
    "#Задание 1\n",
    "#Напишите функцию, которая возвращает название валюты (поле ‘Name’) с максимальным значением курса \n",
    "#с помощью сервиса https://www.cbr-xml-daily.ru/daily_json.js\n",
    "import requests\n",
    "class Rate:\n",
    "    def __init__(self, format_='value', diff=False):\n",
    "        self.format = format_\n",
    "        self.diff = diff\n",
    "\n",
    "    def exchange_rates(self):\n",
    "        \"\"\"\n",
    "        Возвращает ответ сервиса с информацией о валютах в виде:\n",
    "\n",
    "        {\n",
    "            'AMD': {\n",
    "                'CharCode': 'AMD',\n",
    "                'ID': 'R01060',\n",
    "                'Name': 'Армянских драмов',\n",
    "                'Nominal': 100,\n",
    "                'NumCode': '051',\n",
    "                'Previous': 14.103,\n",
    "                'Value': 14.0879\n",
    "                },\n",
    "            ...\n",
    "        }\n",
    "        \"\"\"\n",
    "        r = requests.get('https://www.cbr-xml-daily.ru/daily_json.js')\n",
    "        return r.json()['Valute']\n",
    "\n",
    "    def formatize(self, response, currency):\n",
    "        if currency in response:\n",
    "            if self.format == 'full':\n",
    "                return response[currency]\n",
    "            if self.format == 'value':\n",
    "                if self.diff:\n",
    "                    return round(response[currency]['Value'] - response[currency]['Previous'], 4)\n",
    "                else:\n",
    "                    return response[currency]['Name']\n",
    "        return 'Error'\n",
    "\n",
    "    def make_format(self, currency):\n",
    "        \"\"\"\n",
    "        Возвращает информацию о валюте currency в двух вариантах:\n",
    "        - полная информация о валюте при self.format = 'full':\n",
    "        Rate('full').make_format('EUR')\n",
    "        {\n",
    "            'CharCode': 'EUR',\n",
    "            'ID': 'R01239',\n",
    "            'Name': 'Евро',\n",
    "            'Nominal': 1,\n",
    "            'NumCode': '978',\n",
    "            'Previous': 79.6765,\n",
    "            'Value': 79.4966\n",
    "        }\n",
    "\n",
    "        Rate('value').make_format('EUR')\n",
    "        79.4966\n",
    "        \"\"\"\n",
    "        response = self.exchange_rates()\n",
    "        return self.formatize(response, currency)\n",
    "\n",
    "    def get_largest_value(self):\n",
    "        response = self.exchange_rates()\n",
    "        cur_max_value = -float('inf')\n",
    "        cur_max_name = ''\n",
    "        for val_name in response.keys():\n",
    "            if response[val_name]['Value'] > cur_max_value:\n",
    "                cur_max_value = response[val_name]['Value']\n",
    "                cur_max_name = val_name\n",
    "        return self.formatize(response, cur_max_name)\n",
    "\n",
    "    def eur(self):\n",
    "        \"\"\"Возвращает курс евро на сегодня в формате self.format\"\"\"\n",
    "        return self.make_format('EUR')\n",
    "\n",
    "    def usd(self):\n",
    "        \"\"\"Возвращает курс доллара на сегодня в формате self.format\"\"\"\n",
    "        return self.make_format('USD')\n",
    "\n",
    "    def brl(self):\n",
    "        \"\"\"Возвращает курс бразильского реала на сегодня в формате self.format\"\"\"\n",
    "        return self.make_format('BRL')\n",
    "r = Rate(format_='full')\n",
    "print(r.get_largest_value())\n",
    "r.format='value'\n",
    "print(r.get_largest_value())"
   ]
  },
  {
   "cell_type": "code",
   "execution_count": 18,
   "metadata": {},
   "outputs": [
    {
     "name": "stdout",
     "output_type": "stream",
     "text": [
      "Бразильский реал\n"
     ]
    }
   ],
   "source": [
    "#Задание 2\n",
    "#Добавьте в класс Rate параметр diff (со значениями True или False), который в случае значения True \n",
    "#в методах eur и usd будет возвращать не курс валюты, а изменение по сравнению в прошлым значением. \n",
    "#Считайте, self.diff будет принимать значение True только при возврате значения курса. \n",
    "#При отображении всей информации о валюте он не используется.\n",
    "\n",
    "r = Rate(format_='value', diff=False)\n",
    "print(r.make_format('BRL'))"
   ]
  },
  {
   "cell_type": "code",
   "execution_count": 20,
   "metadata": {},
   "outputs": [],
   "source": [
    "#Задание 3\n",
    "#Напишите класс Designer, который учитывает количество международных премий. \n",
    "#Подсказки в коде занятия в разделе “Домашнее задание задача 3”.\n",
    "class Employer:\n",
    "    seniority_to_grade = 5\n",
    "\n",
    "    def __init__(self, name, seniority):\n",
    "        self.name = name\n",
    "        self.seniority = seniority\n",
    "\n",
    "    def grade_up(self):\n",
    "        self.seniority += 1\n",
    "\n",
    "    @property\n",
    "    def grade(self):\n",
    "        return self.seniority//self.seniority_to_grade\n",
    "\n",
    "\n",
    "class Designer(Employer):\n",
    "    seniority_to_grade = 7\n",
    "\n",
    "    def give_premiya(self):\n",
    "        self.seniority += 2\n",
    "\n",
    "#У нее 4 балла за 2 премии, у нее 2 премии\n",
    "elena = Designer('Елена', seniority=4)\n"
   ]
  },
  {
   "cell_type": "code",
   "execution_count": 21,
   "metadata": {},
   "outputs": [
    {
     "name": "stdout",
     "output_type": "stream",
     "text": [
      "4\n"
     ]
    }
   ],
   "source": [
    "print(elena.seniority)"
   ]
  },
  {
   "cell_type": "code",
   "execution_count": null,
   "metadata": {},
   "outputs": [],
   "source": []
  }
 ],
 "metadata": {
  "kernelspec": {
   "display_name": "Python 3",
   "language": "python",
   "name": "python3"
  },
  "language_info": {
   "codemirror_mode": {
    "name": "ipython",
    "version": 3
   },
   "file_extension": ".py",
   "mimetype": "text/x-python",
   "name": "python",
   "nbconvert_exporter": "python",
   "pygments_lexer": "ipython3",
   "version": "3.7.3"
  }
 },
 "nbformat": 4,
 "nbformat_minor": 2
}

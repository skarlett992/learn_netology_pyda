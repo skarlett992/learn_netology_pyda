{
 "cells": [
  {
   "cell_type": "code",
   "execution_count": 3,
   "metadata": {},
   "outputs": [
    {
     "data": {
      "text/plain": [
       "'yandex'"
      ]
     },
     "execution_count": 3,
     "metadata": {},
     "output_type": "execute_result"
    }
   ],
   "source": [
    "'''Задание 1\n",
    "Дана статистика рекламных каналов по объемам продаж. Напишите скрипт, который возвращает \n",
    "название канала с максимальным объемом.\n",
    "Т. е. в данном примере скрипт должен возвращать “yandex”.'''\n",
    "\n",
    "stats = {'facebook': 55, 'yandex': 120, 'vk': 115, 'google': 99, 'email': 42, 'ok': 98}\n",
    "max(stats, key=stats.get)"
   ]
  },
  {
   "cell_type": "code",
   "execution_count": 39,
   "metadata": {
    "scrolled": true
   },
   "outputs": [
    {
     "name": "stdout",
     "output_type": "stream",
     "text": [
      "descriptions = [\n",
      "['браслет', 'xiaomi', 'mi', 'band', '2.', 'умный', 'браслет', 'xiaomi', 'mi', 'лидер', 'в', 'линейке', 'xiaomi.', 'фитнес', 'браслет', 'для', 'android', '4.4,', 'ios', '7,', 'экран', 'oled.', 'лучший', 'выбор', 'xiaomi'],\n",
      "['браслет', 'huawei', 'honor', 'band', '3.', 'фитнес', 'браслет', 'влагозащищенный', 'сенсорный', 'экран', 'android,', 'ios', 'мониторинг', 'сна'],\n",
      "['браслет', 'samsung', 'gear', 'fit2', 'pro.', 'влагозащищенный', 'сенсорный', 'amoled-экран', 'мониторинг', 'сна,', 'калорий,', 'новинка', 'samsung'],\n",
      "]\n",
      "\n",
      "None\n"
     ]
    },
    {
     "ename": "TypeError",
     "evalue": "'NoneType' object is not iterable",
     "output_type": "error",
     "traceback": [
      "\u001b[0;31m---------------------------------------------------------------------------\u001b[0m",
      "\u001b[0;31mTypeError\u001b[0m                                 Traceback (most recent call last)",
      "\u001b[0;32m<ipython-input-39-f87ffe51878d>\u001b[0m in \u001b[0;36m<module>\u001b[0;34m\u001b[0m\n\u001b[1;32m     13\u001b[0m '''.replace('”', \"'\").replace('”', \"'\").replace('“', \"'\"))\n\u001b[1;32m     14\u001b[0m \u001b[0mprint\u001b[0m\u001b[0;34m(\u001b[0m\u001b[0ma\u001b[0m\u001b[0;34m)\u001b[0m\u001b[0;34m\u001b[0m\u001b[0;34m\u001b[0m\u001b[0m\n\u001b[0;32m---> 15\u001b[0;31m \u001b[0mn_dupl\u001b[0m \u001b[0;34m=\u001b[0m \u001b[0;34m[\u001b[0m\u001b[0mlen\u001b[0m\u001b[0;34m(\u001b[0m\u001b[0mdiscr\u001b[0m\u001b[0;34m)\u001b[0m \u001b[0;34m-\u001b[0m \u001b[0mlen\u001b[0m\u001b[0;34m(\u001b[0m\u001b[0mset\u001b[0m\u001b[0;34m(\u001b[0m\u001b[0mdiscr\u001b[0m\u001b[0;34m)\u001b[0m\u001b[0;34m)\u001b[0m\u001b[0;32mfor\u001b[0m \u001b[0mdiscr\u001b[0m \u001b[0;32min\u001b[0m \u001b[0ma\u001b[0m\u001b[0;34m]\u001b[0m\u001b[0;34m\u001b[0m\u001b[0;34m\u001b[0m\u001b[0m\n\u001b[0m\u001b[1;32m     16\u001b[0m \u001b[0mprint\u001b[0m\u001b[0;34m(\u001b[0m\u001b[0mn_dupl\u001b[0m\u001b[0;34m)\u001b[0m\u001b[0;34m\u001b[0m\u001b[0;34m\u001b[0m\u001b[0m\n",
      "\u001b[0;31mTypeError\u001b[0m: 'NoneType' object is not iterable"
     ]
    }
   ],
   "source": [
    "#Задание 2\n",
    "#Дан список описаний товаров descriptions\n",
    "#Есть подозрение, что некоторые описания содержат много дубликатов одних и тех же слов. \n",
    "#Т. е. могут быть переоптимизированными. \n",
    "#Для каждого описания товара выведите на экран разницу между количеством уникальных \n",
    "#слов и общим количеством слов в этом описании.\n",
    "\n",
    "a = print('''descriptions = [\n",
    "[“браслет”, “xiaomi”, “mi”, “band”, “2.”, “умный”, “браслет”, “xiaomi”, “mi”, “лидер”, “в”, “линейке”, “xiaomi.”, “фитнес”, “браслет”, “для”, “android”, “4.4,”, “ios”, “7,”, “экран”, “oled.”, “лучший”, “выбор”, “xiaomi”],\n",
    "[“браслет”, “huawei”, “honor”, “band”, “3.”, “фитнес”, “браслет”, “влагозащищенный”, “сенсорный”, “экран”, “android,”, “ios”, “мониторинг”, “сна”],\n",
    "[“браслет”, “samsung”, “gear”, “fit2”, “pro.”, “влагозащищенный”, “сенсорный”, “amoled-экран”, “мониторинг”, “сна,”, “калорий,”, “новинка”, “samsung”],\n",
    "]\n",
    "'''.replace('”', \"'\").replace('”', \"'\").replace('“', \"'\"))\n",
    "print(a)\n",
    "n_dupl = [len(discr) - len(set(discr))for discr in a]\n",
    "print(n_dupl)"
   ]
  },
  {
   "cell_type": "code",
   "execution_count": 11,
   "metadata": {},
   "outputs": [],
   "source": [
    "#Задание 3\n",
    "#В примере поиска с помощью кортежей мы использовали 3 столбца. \n",
    "#Напишите функцию, которая формирует словарь для поиска по n столбцам."
   ]
  },
  {
   "cell_type": "code",
   "execution_count": 31,
   "metadata": {},
   "outputs": [
    {
     "name": "stdout",
     "output_type": "stream",
     "text": [
      "39156\n"
     ]
    }
   ],
   "source": [
    "'''Пример из урока по 3м столбцам:\n",
    "Надо по заданному значению первых трех столбцов найти значение cost'''\n",
    "#line_to_find = [20, 20552, 3]\n",
    "def find(vals):\n",
    "    stats_list = []\n",
    "    with open('stats.csv') as f:\n",
    "        for line in f:\n",
    "            line = line.strip().split(',')\n",
    "            stats_list.append(line)\n",
    "    for line in stats_list:\n",
    "        if vals == line[:len(vals)]:\n",
    "            print(line[-1])\n",
    "\n",
    "\n",
    "find(['20', '20552', '3'])"
   ]
  },
  {
   "cell_type": "code",
   "execution_count": null,
   "metadata": {},
   "outputs": [],
   "source": []
  }
 ],
 "metadata": {
  "kernelspec": {
   "display_name": "Python 3",
   "language": "python",
   "name": "python3"
  },
  "language_info": {
   "codemirror_mode": {
    "name": "ipython",
    "version": 3
   },
   "file_extension": ".py",
   "mimetype": "text/x-python",
   "name": "python",
   "nbconvert_exporter": "python",
   "pygments_lexer": "ipython3",
   "version": "3.7.3"
  }
 },
 "nbformat": 4,
 "nbformat_minor": 2
}

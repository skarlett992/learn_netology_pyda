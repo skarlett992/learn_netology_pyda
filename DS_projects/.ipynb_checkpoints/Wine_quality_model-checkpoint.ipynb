{
 "cells": [
  {
   "cell_type": "markdown",
   "metadata": {
    "colab_type": "text",
    "id": "HEVr9uQUSLVq"
   },
   "source": [
    "## 3.4 Сборка финальных датасетов для моделирования"
   ]
  },
  {
   "cell_type": "markdown",
   "metadata": {
    "colab_type": "text",
    "id": "EiLobuu1GEwH"
   },
   "source": [
    "### 3.4.1 Создание датасетов\n",
    "\n",
    "Отделяем данные для обучения и для проверки"
   ]
  },
  {
   "cell_type": "code",
   "execution_count": 187,
   "metadata": {
    "colab": {},
    "colab_type": "code",
    "id": "YB_VhtPnSNAu"
   },
   "outputs": [
    {
     "data": {
      "text/plain": [
       "((4872, 12), (4872,), (1625, 12), (4872,))"
      ]
     },
     "execution_count": 187,
     "metadata": {},
     "output_type": "execute_result"
    }
   ],
   "source": [
    "%run split.py\n",
    "X_train.shape, y_train.shape, X_test.shape, y_train.shape"
   ]
  },
  {
   "cell_type": "markdown",
   "metadata": {
    "colab_type": "text",
    "id": "Hx6qnq8nTxLb"
   },
   "source": [
    "### 3.4.3 Важность признаков\n",
    "Отбор оптимальных признаков для модели имеет важное значение. Теперь мы попытаемся оценить, какие переменные являются наиболее важными, чтобы сделать прогноз."
   ]
  },
  {
   "cell_type": "markdown",
   "metadata": {
    "colab_type": "text",
    "id": "B7gDk1qQT6RO"
   },
   "source": [
    "# 4. Моделирование\n",
    "Теперь мы выберем модель, которую хотели бы попробовать. Используем обучающий набор данных для обучения модели и затем проверим ее с помощью тестового набора.\n",
    "\n",
    "## 4.1 Выбор модели\n",
    "Хорошей отправной точкой является Бустинг."
   ]
  },
  {
   "cell_type": "code",
   "execution_count": 179,
   "metadata": {},
   "outputs": [],
   "source": [
    "#first_model\n",
    "model_cat = CatBoostClassifier(n_estimators=1000, learning_rate=0.2, max_depth=4, silent=True)"
   ]
  },
  {
   "cell_type": "markdown",
   "metadata": {
    "colab_type": "text",
    "id": "9cbtqrOHawzI"
   },
   "source": [
    "## 4.2 Обучение модели"
   ]
  },
  {
   "cell_type": "code",
   "execution_count": 180,
   "metadata": {},
   "outputs": [
    {
     "data": {
      "text/plain": [
       "<catboost.core.CatBoostClassifier at 0x132d3e0f0>"
      ]
     },
     "execution_count": 180,
     "metadata": {},
     "output_type": "execute_result"
    }
   ],
   "source": [
    "model_cat.fit( X_train , y_train )"
   ]
  },
  {
   "cell_type": "markdown",
   "metadata": {
    "colab_type": "text",
    "id": "vu1l6Y__bA6w"
   },
   "source": [
    "# 5. Оценка\n",
    "Теперь мы собираемся оценить модель\n",
    "\n",
    "## 5.1 Модель\n",
    "Мы можем оценить точность модели, используя набор для валидации, где мы знаем фактический результат. Этот набор данных не использовался для обучения, поэтому он абсолютно новый для модели.\n",
    "\n",
    "Затем мы сравниваем точность с точностью при использовании модели на тренировочных данных. Если разница между ними значительна, это свидетельствует о переобучении. Мы стараемся избегать этого, потому что это означает, что модель не будет хорошо обобщаться на новые данные (будет работать плохо)"
   ]
  },
  {
   "cell_type": "code",
   "execution_count": 181,
   "metadata": {
    "colab": {
     "base_uri": "https://localhost:8080/",
     "height": 34
    },
    "colab_type": "code",
    "id": "s2d2C6aq6TC0",
    "outputId": "cb50ce51-d469-493e-fa99-10c73fbb7082"
   },
   "outputs": [
    {
     "name": "stdout",
     "output_type": "stream",
     "text": [
      "0.9066091954022989 0.6332307692307693\n"
     ]
    }
   ],
   "source": [
    "#print (score(model_cat, X_train, X_test, y_train, y_test))\n",
    "print (model_cat.score( X_train , y_train ) , model_cat.score( X_test , y_test ))"
   ]
  },
  {
   "cell_type": "markdown",
   "metadata": {},
   "source": [
    "## 62% - не очень высокий результат проверки точности на тестовой выборке.\n",
    "## посмотрим, как справятся другие модели"
   ]
  },
  {
   "cell_type": "code",
   "execution_count": 182,
   "metadata": {
    "colab": {
     "base_uri": "https://localhost:8080/",
     "height": 34
    },
    "colab_type": "code",
    "id": "L-s7TtTIbI22",
    "outputId": "cb409adf-f9a3-48b1-8867-cf39c84394e7"
   },
   "outputs": [
    {
     "name": "stdout",
     "output_type": "stream",
     "text": [
      "R2: \t 0.29764099578891134 0.29098590559643533\n"
     ]
    }
   ],
   "source": [
    "#Линейная регрессия\n",
    "model_lr = LinearRegression()\n",
    "\n",
    "model_lr.fit(X_train, y_train)\n",
    "y_pred_test = model_lr.predict(X_test)\n",
    "y_pred_train = model_lr.predict(X_train)\n",
    "print(\"R2: \\t\", r2_score(y_train, y_pred_train),r2_score(y_test, y_pred_test))"
   ]
  },
  {
   "cell_type": "code",
   "execution_count": 183,
   "metadata": {
    "colab": {
     "base_uri": "https://localhost:8080/",
     "height": 51
    },
    "colab_type": "code",
    "id": "p2ozZm1dbI25",
    "outputId": "404ee217-a8a4-4fee-8144-54d5006ea449"
   },
   "outputs": [
    {
     "name": "stdout",
     "output_type": "stream",
     "text": [
      "0.1342817980334773 0.3898835224051314\n",
      "0.8227769812148358 0.498038456679218\n"
     ]
    }
   ],
   "source": [
    "#Бустинг\n",
    "cat_model = CatBoostRegressor(n_estimators=1000, learning_rate=0.2, max_depth=4, silent=True)\n",
    "cat_model.fit(X_train, y_train)\n",
    "y_pred_test = cat_model.predict(X_test)\n",
    "y_pred_train = cat_model.predict(X_train)\n",
    "print(mean_squared_error(y_train, y_pred_train), mean_squared_error(y_test, y_pred_test))\n",
    "print(r2_score(y_train, y_pred_train), r2_score(y_test, y_pred_test)  )   "
   ]
  },
  {
   "cell_type": "markdown",
   "metadata": {
    "colab_type": "text",
    "id": "1wS2QJlSbI3T"
   },
   "source": [
    "# Качество модели по-прежнему не очень высокое. Попробуем стекинг"
   ]
  },
  {
   "cell_type": "code",
   "execution_count": 188,
   "metadata": {
    "colab": {
     "base_uri": "https://localhost:8080/",
     "height": 221
    },
    "colab_type": "code",
    "id": "P2bL6S85bI3T",
    "outputId": "6d29ac03-1b78-441c-e856-54d59a934997"
   },
   "outputs": [
    {
     "name": "stdout",
     "output_type": "stream",
     "text": [
      "0.73675341127255 0.7043128526585707\n",
      "0.7043128526585707 0.73675341127255\n"
     ]
    }
   ],
   "source": [
    "skf = KFold(n_splits=2, random_state=None, shuffle=False)\n",
    "train_metric, test_metric = [], []\n",
    "for train_index, test_index in skf.split(X, y):\n",
    "    X_train, X_test = X.loc[train_index], X.loc[test_index]\n",
    "    y_train, y_test = y.loc[train_index], y.loc[test_index]\n",
    "    clf_tree = RandomForestRegressor(n_estimators=1000, max_features=5)\n",
    "    clf_tree.fit(X_train, y_train)\n",
    "    y_pred_train_rf, y_pred_test_rf = model_cat.predict(X_train), model_cat.predict(X_test)\n",
    "#     mean_squared_error(y_train, y_pred_train_rf), mean_squared_error(y_test, y_pred_test_rf)\n",
    "#     train_metric.append(r2_score(y_train, y_pred_train_rf))\n",
    "#     test_metric.append(r2_score(y_test, y_pred_test_rf))\n",
    "    print(r2_score(y_train, y_pred_train_rf), r2_score(y_test, y_pred_test_rf))\n",
    "# print(sum(train_metric)/len(train_metric))\n",
    "# print(sum(test_metric)/len(test_metric))"
   ]
  },
  {
   "cell_type": "code",
   "execution_count": null,
   "metadata": {},
   "outputs": [],
   "source": []
  }
 ],
 "metadata": {
  "colab": {
   "collapsed_sections": [
    "Y1ZLsvd1hbsm",
    "ZqATdQfDkRqB",
    "M34UajuLovdU",
    "bzHAhX9SpXIB",
    "GyYZLEHrbI1w",
    "Zy1zAh_-bI2G",
    "ZPv-cILLbI2r",
    "OqifzMzubI2r",
    "KbRtg3KYbI2z",
    "ISJrpCuibI22",
    "1wS2QJlSbI3T",
    "6YHiMMRebI4C"
   ],
   "name": "Wine quality_AML_7_DS-4.ipynb",
   "provenance": [],
   "toc_visible": true
  },
  "kernelspec": {
   "display_name": "Python 3",
   "language": "python",
   "name": "python3"
  },
  "language_info": {
   "codemirror_mode": {
    "name": "ipython",
    "version": 3
   },
   "file_extension": ".py",
   "mimetype": "text/x-python",
   "name": "python",
   "nbconvert_exporter": "python",
   "pygments_lexer": "ipython3",
   "version": "3.7.3"
  }
 },
 "nbformat": 4,
 "nbformat_minor": 1
}

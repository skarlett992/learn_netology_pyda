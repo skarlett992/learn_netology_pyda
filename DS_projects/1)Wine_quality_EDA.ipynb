{
 "cells": [
  {
   "cell_type": "code",
   "execution_count": 11,
   "metadata": {
    "colab": {
     "base_uri": "https://localhost:8080/",
     "height": 309
    },
    "colab_type": "code",
    "id": "o_cMy7_bRfLT",
    "outputId": "dffd908b-6509-4ad8-9781-1eab53cb9af2"
   },
   "outputs": [
    {
     "name": "stdout",
     "output_type": "stream",
     "text": [
      "Requirement already satisfied: virtualenv in /Users/natalaurina/anaconda3/lib/python3.7/site-packages (20.0.30)\n",
      "Requirement already satisfied: appdirs<2,>=1.4.3 in /Users/natalaurina/anaconda3/lib/python3.7/site-packages (from virtualenv) (1.4.4)\n",
      "Requirement already satisfied: filelock<4,>=3.0.0 in /Users/natalaurina/anaconda3/lib/python3.7/site-packages (from virtualenv) (3.0.12)\n",
      "Requirement already satisfied: importlib-metadata<2,>=0.12; python_version < \"3.8\" in /Users/natalaurina/.local/lib/python3.7/site-packages (from virtualenv) (1.6.1)\n",
      "Requirement already satisfied: six<2,>=1.9.0 in /Users/natalaurina/.local/lib/python3.7/site-packages (from virtualenv) (1.15.0)\n",
      "Requirement already satisfied: distlib<1,>=0.3.1 in /Users/natalaurina/anaconda3/lib/python3.7/site-packages (from virtualenv) (0.3.1)\n",
      "Requirement already satisfied: zipp>=0.5 in /Users/natalaurina/.local/lib/python3.7/site-packages (from importlib-metadata<2,>=0.12; python_version < \"3.8\"->virtualenv) (3.1.0)\n",
      "Note: you may need to restart the kernel to use updated packages.\n"
     ]
    }
   ],
   "source": [
    "pip install virtualenv"
   ]
  },
  {
   "cell_type": "code",
   "execution_count": 12,
   "metadata": {
    "colab": {},
    "colab_type": "code",
    "id": "dp4_w7nbS1FB"
   },
   "outputs": [
    {
     "name": "stdout",
     "output_type": "stream",
     "text": [
      "\u001b[33mWARNING: Could not generate requirement for distribution -pt-einsum 3.2.0 (/Users/natalaurina/anaconda3/lib/python3.7/site-packages): Parse error at \"'-pt-eins'\": Expected W:(abcd...)\u001b[0m\n",
      "Note: you may need to restart the kernel to use updated packages.\n"
     ]
    }
   ],
   "source": [
    "pip freeze > requirements.txt"
   ]
  },
  {
   "cell_type": "code",
   "execution_count": 13,
   "metadata": {
    "colab": {
     "base_uri": "https://localhost:8080/",
     "height": 34
    },
    "colab_type": "code",
    "id": "xvg1ydudbyLh",
    "outputId": "94a396ec-2900-4463-9fa2-87c070c77076"
   },
   "outputs": [
    {
     "name": "stdout",
     "output_type": "stream",
     "text": [
      "/Users/natalaurina/Downloads/NETOLOGY-pyda-6/МАШИННОЕ ОБУЧЕНИЕ/DS_projects\r\n"
     ]
    }
   ],
   "source": [
    "!pwd"
   ]
  },
  {
   "cell_type": "code",
   "execution_count": 14,
   "metadata": {
    "colab": {
     "base_uri": "https://localhost:8080/",
     "height": 1000
    },
    "colab_type": "code",
    "id": "bJv7-ubFTmk6",
    "outputId": "033d992f-c578-4837-e037-148c9a34be5b"
   },
   "outputs": [
    {
     "name": "stdout",
     "output_type": "stream",
     "text": [
      "Requirement already satisfied: absl-py==0.9.0 in /Users/natalaurina/.local/lib/python3.7/site-packages (from -r requirements.txt (line 1)) (0.9.0)\n",
      "Requirement already satisfied: alabaster==0.7.12 in /Users/natalaurina/anaconda3/lib/python3.7/site-packages (from -r requirements.txt (line 2)) (0.7.12)\n",
      "Requirement already satisfied: anaconda-client==1.7.2 in /Users/natalaurina/anaconda3/lib/python3.7/site-packages (from -r requirements.txt (line 3)) (1.7.2)\n",
      "Requirement already satisfied: anaconda-navigator==1.9.12 in /Users/natalaurina/anaconda3/lib/python3.7/site-packages (from -r requirements.txt (line 4)) (1.9.12)\n",
      "Requirement already satisfied: anaconda-project==0.8.3 in /Users/natalaurina/anaconda3/lib/python3.7/site-packages (from -r requirements.txt (line 5)) (0.8.3)\n",
      "Requirement already satisfied: appdirs==1.4.4 in /Users/natalaurina/anaconda3/lib/python3.7/site-packages (from -r requirements.txt (line 6)) (1.4.4)\n",
      "Requirement already satisfied: appnope==0.1.0 in /Users/natalaurina/anaconda3/lib/python3.7/site-packages (from -r requirements.txt (line 7)) (0.1.0)\n",
      "Requirement already satisfied: appscript==1.0.1 in /Users/natalaurina/anaconda3/lib/python3.7/site-packages/aeosa (from -r requirements.txt (line 8)) (1.0.1)\n",
      "Requirement already satisfied: asn1crypto==0.24.0 in /Users/natalaurina/anaconda3/lib/python3.7/site-packages (from -r requirements.txt (line 9)) (0.24.0)\n",
      "Requirement already satisfied: astor==0.8.1 in /Users/natalaurina/.local/lib/python3.7/site-packages (from -r requirements.txt (line 10)) (0.8.1)\n",
      "Requirement already satisfied: astroid==2.2.5 in /Users/natalaurina/anaconda3/lib/python3.7/site-packages (from -r requirements.txt (line 11)) (2.2.5)\n",
      "Requirement already satisfied: astropy==4.0 in /Users/natalaurina/anaconda3/lib/python3.7/site-packages (from -r requirements.txt (line 12)) (4.0)\n",
      "Requirement already satisfied: astunparse==1.6.3 in /Users/natalaurina/anaconda3/lib/python3.7/site-packages (from -r requirements.txt (line 13)) (1.6.3)\n",
      "Requirement already satisfied: atomicwrites==1.3.0 in /Users/natalaurina/anaconda3/lib/python3.7/site-packages (from -r requirements.txt (line 14)) (1.3.0)\n",
      "Requirement already satisfied: attr==0.3.1 in /Users/natalaurina/anaconda3/lib/python3.7/site-packages (from -r requirements.txt (line 15)) (0.3.1)\n",
      "Requirement already satisfied: attrs==19.1.0 in /Users/natalaurina/anaconda3/lib/python3.7/site-packages (from -r requirements.txt (line 16)) (19.1.0)\n",
      "Requirement already satisfied: Babel==2.7.0 in /Users/natalaurina/anaconda3/lib/python3.7/site-packages (from -r requirements.txt (line 17)) (2.7.0)\n",
      "Requirement already satisfied: backcall==0.1.0 in /Users/natalaurina/anaconda3/lib/python3.7/site-packages (from -r requirements.txt (line 18)) (0.1.0)\n",
      "Requirement already satisfied: backports.functools-lru-cache==1.5 in /Users/natalaurina/anaconda3/lib/python3.7/site-packages (from -r requirements.txt (line 19)) (1.5)\n",
      "Requirement already satisfied: backports.os==0.1.1 in /Users/natalaurina/anaconda3/lib/python3.7/site-packages (from -r requirements.txt (line 20)) (0.1.1)\n",
      "Requirement already satisfied: backports.shutil-get-terminal-size==1.0.0 in /Users/natalaurina/anaconda3/lib/python3.7/site-packages (from -r requirements.txt (line 21)) (1.0.0)\n",
      "Requirement already satisfied: backports.tempfile==1.0 in /Users/natalaurina/anaconda3/lib/python3.7/site-packages (from -r requirements.txt (line 22)) (1.0)\n",
      "Requirement already satisfied: backports.weakref==1.0.post1 in /Users/natalaurina/anaconda3/lib/python3.7/site-packages (from -r requirements.txt (line 23)) (1.0.post1)\n",
      "Requirement already satisfied: beautifulsoup4==4.7.1 in /Users/natalaurina/anaconda3/lib/python3.7/site-packages (from -r requirements.txt (line 24)) (4.7.1)\n",
      "Requirement already satisfied: bitarray==0.9.3 in /Users/natalaurina/anaconda3/lib/python3.7/site-packages (from -r requirements.txt (line 25)) (0.9.3)\n",
      "Requirement already satisfied: bkcharts==0.2 in /Users/natalaurina/anaconda3/lib/python3.7/site-packages (from -r requirements.txt (line 26)) (0.2)\n",
      "Requirement already satisfied: bleach==3.1.0 in /Users/natalaurina/anaconda3/lib/python3.7/site-packages (from -r requirements.txt (line 27)) (3.1.0)\n",
      "Requirement already satisfied: bokeh==1.2.0 in /Users/natalaurina/anaconda3/lib/python3.7/site-packages (from -r requirements.txt (line 28)) (1.2.0)\n",
      "Requirement already satisfied: boto==2.49.0 in /Users/natalaurina/anaconda3/lib/python3.7/site-packages (from -r requirements.txt (line 29)) (2.49.0)\n",
      "Requirement already satisfied: Bottleneck==1.2.1 in /Users/natalaurina/anaconda3/lib/python3.7/site-packages (from -r requirements.txt (line 30)) (1.2.1)\n",
      "Requirement already satisfied: cachetools==4.1.1 in /Users/natalaurina/anaconda3/lib/python3.7/site-packages (from -r requirements.txt (line 31)) (4.1.1)\n",
      "Requirement already satisfied: catboost==0.22 in /Users/natalaurina/anaconda3/lib/python3.7/site-packages (from -r requirements.txt (line 32)) (0.22)\n",
      "Requirement already satisfied: certifi==2020.6.20 in /Users/natalaurina/anaconda3/lib/python3.7/site-packages (from -r requirements.txt (line 33)) (2020.6.20)\n",
      "Requirement already satisfied: cffi==1.12.3 in /Users/natalaurina/anaconda3/lib/python3.7/site-packages (from -r requirements.txt (line 34)) (1.12.3)\n",
      "Requirement already satisfied: chardet==3.0.4 in /Users/natalaurina/anaconda3/lib/python3.7/site-packages (from -r requirements.txt (line 35)) (3.0.4)\n",
      "Requirement already satisfied: Click==7.0 in /Users/natalaurina/anaconda3/lib/python3.7/site-packages (from -r requirements.txt (line 36)) (7.0)\n",
      "Requirement already satisfied: cloudpickle==1.2.1 in /Users/natalaurina/anaconda3/lib/python3.7/site-packages (from -r requirements.txt (line 37)) (1.2.1)\n",
      "Requirement already satisfied: clyent==1.2.2 in /Users/natalaurina/anaconda3/lib/python3.7/site-packages (from -r requirements.txt (line 38)) (1.2.2)\n",
      "Requirement already satisfied: colorama==0.4.1 in /Users/natalaurina/anaconda3/lib/python3.7/site-packages (from -r requirements.txt (line 39)) (0.4.1)\n",
      "Requirement already satisfied: conda==4.8.3 in /Users/natalaurina/anaconda3/lib/python3.7/site-packages (from -r requirements.txt (line 40)) (4.8.3)\n",
      "Requirement already satisfied: conda-build==3.18.8 in /Users/natalaurina/anaconda3/lib/python3.7/site-packages (from -r requirements.txt (line 41)) (3.18.8)\n",
      "Requirement already satisfied: conda-package-handling==1.3.11 in /Users/natalaurina/anaconda3/lib/python3.7/site-packages (from -r requirements.txt (line 42)) (1.3.11)\n",
      "Requirement already satisfied: conda-verify==3.4.2 in /Users/natalaurina/anaconda3/lib/python3.7/site-packages (from -r requirements.txt (line 43)) (3.4.2)\n",
      "Requirement already satisfied: confuse==1.0.0 in /Users/natalaurina/anaconda3/lib/python3.7/site-packages (from -r requirements.txt (line 44)) (1.0.0)\n",
      "Requirement already satisfied: contextlib2==0.5.5 in /Users/natalaurina/anaconda3/lib/python3.7/site-packages (from -r requirements.txt (line 45)) (0.5.5)\n",
      "Requirement already satisfied: convertdate==2.2.0 in /Users/natalaurina/anaconda3/lib/python3.7/site-packages (from -r requirements.txt (line 46)) (2.2.0)\n",
      "Requirement already satisfied: cryptography==2.7 in /Users/natalaurina/anaconda3/lib/python3.7/site-packages (from -r requirements.txt (line 47)) (2.7)\n",
      "Requirement already satisfied: cycler==0.10.0 in /Users/natalaurina/anaconda3/lib/python3.7/site-packages (from -r requirements.txt (line 48)) (0.10.0)\n",
      "Requirement already satisfied: Cython==0.29.12 in /Users/natalaurina/anaconda3/lib/python3.7/site-packages (from -r requirements.txt (line 49)) (0.29.12)\n",
      "Requirement already satisfied: cytoolz==0.10.0 in /Users/natalaurina/anaconda3/lib/python3.7/site-packages (from -r requirements.txt (line 50)) (0.10.0)\n",
      "Requirement already satisfied: dask==2.1.0 in /Users/natalaurina/anaconda3/lib/python3.7/site-packages (from -r requirements.txt (line 51)) (2.1.0)\n",
      "Requirement already satisfied: decorator==4.4.0 in /Users/natalaurina/anaconda3/lib/python3.7/site-packages (from -r requirements.txt (line 52)) (4.4.0)\n",
      "Requirement already satisfied: defusedxml==0.6.0 in /Users/natalaurina/anaconda3/lib/python3.7/site-packages (from -r requirements.txt (line 53)) (0.6.0)\n",
      "Requirement already satisfied: dill==0.3.2 in /Users/natalaurina/anaconda3/lib/python3.7/site-packages (from -r requirements.txt (line 54)) (0.3.2)\n"
     ]
    },
    {
     "name": "stdout",
     "output_type": "stream",
     "text": [
      "Requirement already satisfied: distlib==0.3.1 in /Users/natalaurina/anaconda3/lib/python3.7/site-packages (from -r requirements.txt (line 55)) (0.3.1)\n",
      "Requirement already satisfied: distributed==2.1.0 in /Users/natalaurina/anaconda3/lib/python3.7/site-packages (from -r requirements.txt (line 56)) (2.1.0)\n",
      "Requirement already satisfied: docutils==0.14 in /Users/natalaurina/anaconda3/lib/python3.7/site-packages (from -r requirements.txt (line 57)) (0.14)\n",
      "Requirement already satisfied: efficientnet==1.1.0 in /Users/natalaurina/anaconda3/lib/python3.7/site-packages (from -r requirements.txt (line 58)) (1.1.0)\n",
      "Requirement already satisfied: entrypoints==0.3 in /Users/natalaurina/anaconda3/lib/python3.7/site-packages (from -r requirements.txt (line 59)) (0.3)\n",
      "Requirement already satisfied: ephem==3.7.7.0 in /Users/natalaurina/anaconda3/lib/python3.7/site-packages (from -r requirements.txt (line 60)) (3.7.7.0)\n",
      "Requirement already satisfied: et-xmlfile==1.0.1 in /Users/natalaurina/anaconda3/lib/python3.7/site-packages (from -r requirements.txt (line 61)) (1.0.1)\n",
      "Requirement already satisfied: fastcache==1.1.0 in /Users/natalaurina/anaconda3/lib/python3.7/site-packages (from -r requirements.txt (line 62)) (1.1.0)\n",
      "Requirement already satisfied: fbprophet==0.5 in /Users/natalaurina/anaconda3/lib/python3.7/site-packages (from -r requirements.txt (line 63)) (0.5)\n",
      "Requirement already satisfied: filelock==3.0.12 in /Users/natalaurina/anaconda3/lib/python3.7/site-packages (from -r requirements.txt (line 64)) (3.0.12)\n",
      "Requirement already satisfied: Flask==1.1.1 in /Users/natalaurina/anaconda3/lib/python3.7/site-packages (from -r requirements.txt (line 65)) (1.1.1)\n",
      "Requirement already satisfied: flatbuffers==1.12 in /Users/natalaurina/anaconda3/lib/python3.7/site-packages (from -r requirements.txt (line 66)) (1.12)\n",
      "Requirement already satisfied: future==0.17.1 in /Users/natalaurina/anaconda3/lib/python3.7/site-packages (from -r requirements.txt (line 67)) (0.17.1)\n",
      "Requirement already satisfied: gast==0.3.3 in /Users/natalaurina/.local/lib/python3.7/site-packages (from -r requirements.txt (line 68)) (0.3.3)\n",
      "Requirement already satisfied: geographiclib==1.50 in /Users/natalaurina/anaconda3/lib/python3.7/site-packages (from -r requirements.txt (line 69)) (1.50)\n",
      "Requirement already satisfied: geopy==1.21.0 in /Users/natalaurina/anaconda3/lib/python3.7/site-packages (from -r requirements.txt (line 70)) (1.21.0)\n",
      "Requirement already satisfied: gevent==1.4.0 in /Users/natalaurina/anaconda3/lib/python3.7/site-packages (from -r requirements.txt (line 71)) (1.4.0)\n",
      "Requirement already satisfied: glob2==0.7 in /Users/natalaurina/anaconda3/lib/python3.7/site-packages (from -r requirements.txt (line 72)) (0.7)\n",
      "Requirement already satisfied: gmpy2==2.0.8 in /Users/natalaurina/anaconda3/lib/python3.7/site-packages (from -r requirements.txt (line 73)) (2.0.8)\n",
      "Requirement already satisfied: google-auth==1.19.2 in /Users/natalaurina/anaconda3/lib/python3.7/site-packages (from -r requirements.txt (line 74)) (1.19.2)\n",
      "Requirement already satisfied: google-auth-oauthlib==0.4.1 in /Users/natalaurina/anaconda3/lib/python3.7/site-packages (from -r requirements.txt (line 75)) (0.4.1)\n",
      "Requirement already satisfied: google-pasta==0.2.0 in /Users/natalaurina/.local/lib/python3.7/site-packages (from -r requirements.txt (line 76)) (0.2.0)\n",
      "Requirement already satisfied: googleapis-common-protos==1.52.0 in /Users/natalaurina/anaconda3/lib/python3.7/site-packages (from -r requirements.txt (line 77)) (1.52.0)\n",
      "Requirement already satisfied: graphviz==0.14 in /Users/natalaurina/anaconda3/lib/python3.7/site-packages (from -r requirements.txt (line 78)) (0.14)\n",
      "Requirement already satisfied: greenlet==0.4.15 in /Users/natalaurina/anaconda3/lib/python3.7/site-packages (from -r requirements.txt (line 79)) (0.4.15)\n",
      "Requirement already satisfied: grpcio==1.29.0 in /Users/natalaurina/.local/lib/python3.7/site-packages (from -r requirements.txt (line 80)) (1.29.0)\n",
      "Requirement already satisfied: h5py==2.10.0 in /Users/natalaurina/.local/lib/python3.7/site-packages (from -r requirements.txt (line 81)) (2.10.0)\n",
      "Requirement already satisfied: heapdict==1.0.0 in /Users/natalaurina/anaconda3/lib/python3.7/site-packages (from -r requirements.txt (line 82)) (1.0.0)\n",
      "Requirement already satisfied: holidays==0.9.11 in /Users/natalaurina/anaconda3/lib/python3.7/site-packages (from -r requirements.txt (line 83)) (0.9.11)\n",
      "Requirement already satisfied: html5lib==1.0.1 in /Users/natalaurina/anaconda3/lib/python3.7/site-packages (from -r requirements.txt (line 84)) (1.0.1)\n",
      "Requirement already satisfied: htmlmin==0.1.12 in /Users/natalaurina/anaconda3/lib/python3.7/site-packages (from -r requirements.txt (line 85)) (0.1.12)\n",
      "Requirement already satisfied: idna==2.10 in /Users/natalaurina/anaconda3/lib/python3.7/site-packages (from -r requirements.txt (line 86)) (2.10)\n",
      "Requirement already satisfied: imageio==2.5.0 in /Users/natalaurina/anaconda3/lib/python3.7/site-packages (from -r requirements.txt (line 87)) (2.5.0)\n",
      "Requirement already satisfied: imagesize==1.1.0 in /Users/natalaurina/anaconda3/lib/python3.7/site-packages (from -r requirements.txt (line 88)) (1.1.0)\n",
      "Requirement already satisfied: importlib-metadata==1.6.1 in /Users/natalaurina/.local/lib/python3.7/site-packages (from -r requirements.txt (line 89)) (1.6.1)\n",
      "Requirement already satisfied: ipykernel==5.1.1 in /Users/natalaurina/anaconda3/lib/python3.7/site-packages (from -r requirements.txt (line 90)) (5.1.1)\n",
      "Requirement already satisfied: ipython==7.6.1 in /Users/natalaurina/anaconda3/lib/python3.7/site-packages (from -r requirements.txt (line 91)) (7.6.1)\n",
      "Requirement already satisfied: ipython-genutils==0.2.0 in /Users/natalaurina/anaconda3/lib/python3.7/site-packages (from -r requirements.txt (line 92)) (0.2.0)\n",
      "Requirement already satisfied: ipywidgets==7.5.1 in /Users/natalaurina/anaconda3/lib/python3.7/site-packages (from -r requirements.txt (line 93)) (7.5.1)\n",
      "Requirement already satisfied: isort==4.3.21 in /Users/natalaurina/anaconda3/lib/python3.7/site-packages (from -r requirements.txt (line 94)) (4.3.21)\n",
      "Requirement already satisfied: itsdangerous==1.1.0 in /Users/natalaurina/anaconda3/lib/python3.7/site-packages (from -r requirements.txt (line 95)) (1.1.0)\n",
      "Requirement already satisfied: jdcal==1.4.1 in /Users/natalaurina/anaconda3/lib/python3.7/site-packages (from -r requirements.txt (line 96)) (1.4.1)\n",
      "Requirement already satisfied: jedi==0.13.3 in /Users/natalaurina/anaconda3/lib/python3.7/site-packages (from -r requirements.txt (line 97)) (0.13.3)\n",
      "Requirement already satisfied: Jinja2==2.11.1 in /Users/natalaurina/anaconda3/lib/python3.7/site-packages (from -r requirements.txt (line 98)) (2.11.1)\n",
      "Requirement already satisfied: joblib==0.14.1 in /Users/natalaurina/anaconda3/lib/python3.7/site-packages (from -r requirements.txt (line 99)) (0.14.1)\n",
      "Requirement already satisfied: json5==0.8.4 in /Users/natalaurina/anaconda3/lib/python3.7/site-packages (from -r requirements.txt (line 100)) (0.8.4)\n",
      "Requirement already satisfied: jsonschema==3.0.1 in /Users/natalaurina/anaconda3/lib/python3.7/site-packages (from -r requirements.txt (line 101)) (3.0.1)\n",
      "Requirement already satisfied: jupyter==1.0.0 in /Users/natalaurina/anaconda3/lib/python3.7/site-packages (from -r requirements.txt (line 102)) (1.0.0)\n",
      "Requirement already satisfied: jupyter-client==5.3.1 in /Users/natalaurina/anaconda3/lib/python3.7/site-packages (from -r requirements.txt (line 103)) (5.3.1)\n",
      "Requirement already satisfied: jupyter-console==6.0.0 in /Users/natalaurina/anaconda3/lib/python3.7/site-packages (from -r requirements.txt (line 104)) (6.0.0)\n",
      "Requirement already satisfied: jupyter-core==4.5.0 in /Users/natalaurina/anaconda3/lib/python3.7/site-packages (from -r requirements.txt (line 105)) (4.5.0)\n",
      "Requirement already satisfied: jupyterlab==1.0.2 in /Users/natalaurina/anaconda3/lib/python3.7/site-packages (from -r requirements.txt (line 106)) (1.0.2)\n",
      "Requirement already satisfied: jupyterlab-server==1.0.0 in /Users/natalaurina/anaconda3/lib/python3.7/site-packages (from -r requirements.txt (line 107)) (1.0.0)\n",
      "Requirement already satisfied: jupyterthemes==0.20.0 in /Users/natalaurina/anaconda3/lib/python3.7/site-packages (from -r requirements.txt (line 108)) (0.20.0)\n"
     ]
    },
    {
     "name": "stdout",
     "output_type": "stream",
     "text": [
      "Requirement already satisfied: kaggle==1.5.6 in /Users/natalaurina/anaconda3/lib/python3.7/site-packages (from -r requirements.txt (line 109)) (1.5.6)\n",
      "Requirement already satisfied: kaggleDownloader==4.2.1 in /Users/natalaurina/anaconda3/lib/python3.7/site-packages (from -r requirements.txt (line 110)) (4.2.1)\n",
      "Requirement already satisfied: Keras==2.3.1 in /Users/natalaurina/anaconda3/lib/python3.7/site-packages (from -r requirements.txt (line 111)) (2.3.1)\n",
      "Requirement already satisfied: Keras-Applications==1.0.8 in /Users/natalaurina/.local/lib/python3.7/site-packages (from -r requirements.txt (line 112)) (1.0.8)\n",
      "Requirement already satisfied: Keras-Preprocessing==1.1.2 in /Users/natalaurina/.local/lib/python3.7/site-packages (from -r requirements.txt (line 113)) (1.1.2)\n",
      "Requirement already satisfied: keyring==18.0.0 in /Users/natalaurina/anaconda3/lib/python3.7/site-packages (from -r requirements.txt (line 114)) (18.0.0)\n",
      "Requirement already satisfied: kiwisolver==1.1.0 in /Users/natalaurina/anaconda3/lib/python3.7/site-packages (from -r requirements.txt (line 115)) (1.1.0)\n",
      "Requirement already satisfied: lazy-object-proxy==1.4.1 in /Users/natalaurina/anaconda3/lib/python3.7/site-packages (from -r requirements.txt (line 116)) (1.4.1)\n",
      "Requirement already satisfied: lesscpy==0.14.0 in /Users/natalaurina/anaconda3/lib/python3.7/site-packages (from -r requirements.txt (line 117)) (0.14.0)\n",
      "Requirement already satisfied: libarchive-c==2.8 in /Users/natalaurina/anaconda3/lib/python3.7/site-packages (from -r requirements.txt (line 118)) (2.8)\n",
      "Requirement already satisfied: lief==0.9.0 in /Users/natalaurina/anaconda3/lib/python3.7/site-packages (from -r requirements.txt (line 119)) (0.9.0)\n",
      "Requirement already satisfied: llvmlite==0.29.0 in /Users/natalaurina/anaconda3/lib/python3.7/site-packages (from -r requirements.txt (line 120)) (0.29.0)\n",
      "Requirement already satisfied: locket==0.2.0 in /Users/natalaurina/anaconda3/lib/python3.7/site-packages (from -r requirements.txt (line 121)) (0.2.0)\n",
      "Requirement already satisfied: lunardate==0.2.0 in /Users/natalaurina/anaconda3/lib/python3.7/site-packages (from -r requirements.txt (line 122)) (0.2.0)\n",
      "Requirement already satisfied: lxml==4.3.4 in /Users/natalaurina/anaconda3/lib/python3.7/site-packages (from -r requirements.txt (line 123)) (4.3.4)\n",
      "Requirement already satisfied: Markdown==3.2.2 in /Users/natalaurina/.local/lib/python3.7/site-packages (from -r requirements.txt (line 124)) (3.2.2)\n",
      "Requirement already satisfied: MarkupSafe==1.1.1 in /Users/natalaurina/anaconda3/lib/python3.7/site-packages (from -r requirements.txt (line 125)) (1.1.1)\n",
      "Requirement already satisfied: matplotlib==3.1.0 in /Users/natalaurina/anaconda3/lib/python3.7/site-packages (from -r requirements.txt (line 126)) (3.1.0)\n",
      "Requirement already satisfied: mccabe==0.6.1 in /Users/natalaurina/anaconda3/lib/python3.7/site-packages (from -r requirements.txt (line 127)) (0.6.1)\n",
      "Requirement already satisfied: missingno==0.4.2 in /Users/natalaurina/anaconda3/lib/python3.7/site-packages (from -r requirements.txt (line 128)) (0.4.2)\n",
      "Requirement already satisfied: mistune==0.8.4 in /Users/natalaurina/anaconda3/lib/python3.7/site-packages (from -r requirements.txt (line 129)) (0.8.4)\n",
      "Requirement already satisfied: mkl-fft==1.0.12 in /Users/natalaurina/anaconda3/lib/python3.7/site-packages (from -r requirements.txt (line 130)) (1.0.12)\n",
      "Requirement already satisfied: mkl-random==1.0.2 in /Users/natalaurina/anaconda3/lib/python3.7/site-packages (from -r requirements.txt (line 131)) (1.0.2)\n",
      "Requirement already satisfied: mkl-service==2.0.2 in /Users/natalaurina/anaconda3/lib/python3.7/site-packages (from -r requirements.txt (line 132)) (2.0.2)\n",
      "Requirement already satisfied: mlens==0.2.3 in /Users/natalaurina/anaconda3/lib/python3.7/site-packages (from -r requirements.txt (line 133)) (0.2.3)\n",
      "Requirement already satisfied: mlxtend==0.17.3 in /Users/natalaurina/anaconda3/lib/python3.7/site-packages (from -r requirements.txt (line 134)) (0.17.3)\n",
      "Requirement already satisfied: mobilenet-v3==0.1.4 in /Users/natalaurina/anaconda3/lib/python3.7/site-packages (from -r requirements.txt (line 135)) (0.1.4)\n",
      "Requirement already satisfied: mock==3.0.5 in /Users/natalaurina/anaconda3/lib/python3.7/site-packages (from -r requirements.txt (line 136)) (3.0.5)\n",
      "Requirement already satisfied: more-itertools==7.0.0 in /Users/natalaurina/anaconda3/lib/python3.7/site-packages (from -r requirements.txt (line 137)) (7.0.0)\n",
      "Requirement already satisfied: mpmath==1.1.0 in /Users/natalaurina/anaconda3/lib/python3.7/site-packages (from -r requirements.txt (line 138)) (1.1.0)\n",
      "Requirement already satisfied: msgpack==0.6.1 in /Users/natalaurina/anaconda3/lib/python3.7/site-packages (from -r requirements.txt (line 139)) (0.6.1)\n",
      "Requirement already satisfied: multipledispatch==0.6.0 in /Users/natalaurina/anaconda3/lib/python3.7/site-packages (from -r requirements.txt (line 140)) (0.6.0)\n",
      "Requirement already satisfied: navigator-updater==0.2.1 in /Users/natalaurina/anaconda3/lib/python3.7/site-packages (from -r requirements.txt (line 141)) (0.2.1)\n",
      "Requirement already satisfied: nbconvert==5.5.0 in /Users/natalaurina/anaconda3/lib/python3.7/site-packages (from -r requirements.txt (line 142)) (5.5.0)\n",
      "Requirement already satisfied: nbformat==4.4.0 in /Users/natalaurina/anaconda3/lib/python3.7/site-packages (from -r requirements.txt (line 143)) (4.4.0)\n",
      "Requirement already satisfied: networkx==2.3 in /Users/natalaurina/anaconda3/lib/python3.7/site-packages (from -r requirements.txt (line 144)) (2.3)\n",
      "Requirement already satisfied: nltk==3.2.4 in /Users/natalaurina/anaconda3/lib/python3.7/site-packages (from -r requirements.txt (line 145)) (3.2.4)\n",
      "Requirement already satisfied: nose==1.3.7 in /Users/natalaurina/anaconda3/lib/python3.7/site-packages (from -r requirements.txt (line 146)) (1.3.7)\n",
      "Requirement already satisfied: notebook==6.0.0 in /Users/natalaurina/anaconda3/lib/python3.7/site-packages (from -r requirements.txt (line 147)) (6.0.0)\n",
      "Requirement already satisfied: numba==0.44.1 in /Users/natalaurina/anaconda3/lib/python3.7/site-packages (from -r requirements.txt (line 148)) (0.44.1)\n",
      "Requirement already satisfied: numexpr==2.6.9 in /Users/natalaurina/anaconda3/lib/python3.7/site-packages (from -r requirements.txt (line 149)) (2.6.9)\n",
      "Requirement already satisfied: numpy==1.18.5 in /Users/natalaurina/.local/lib/python3.7/site-packages (from -r requirements.txt (line 150)) (1.18.5)\n",
      "Requirement already satisfied: numpydoc==0.9.1 in /Users/natalaurina/anaconda3/lib/python3.7/site-packages (from -r requirements.txt (line 151)) (0.9.1)\n",
      "Requirement already satisfied: oauthlib==3.1.0 in /Users/natalaurina/anaconda3/lib/python3.7/site-packages (from -r requirements.txt (line 152)) (3.1.0)\n",
      "Requirement already satisfied: olefile==0.46 in /Users/natalaurina/anaconda3/lib/python3.7/site-packages (from -r requirements.txt (line 153)) (0.46)\n",
      "Requirement already satisfied: opencv-contrib-python==4.2.0.32 in /Users/natalaurina/anaconda3/lib/python3.7/site-packages (from -r requirements.txt (line 154)) (4.2.0.32)\n",
      "Requirement already satisfied: opencv-python==4.2.0.32 in /Users/natalaurina/anaconda3/lib/python3.7/site-packages (from -r requirements.txt (line 155)) (4.2.0.32)\n",
      "Requirement already satisfied: openpyxl==2.6.2 in /Users/natalaurina/anaconda3/lib/python3.7/site-packages (from -r requirements.txt (line 156)) (2.6.2)\n",
      "Requirement already satisfied: opt-einsum==3.3.0 in /Users/natalaurina/anaconda3/lib/python3.7/site-packages (from -r requirements.txt (line 157)) (3.3.0)\n",
      "Requirement already satisfied: packaging==19.0 in /Users/natalaurina/anaconda3/lib/python3.7/site-packages (from -r requirements.txt (line 158)) (19.0)\n",
      "Requirement already satisfied: pandas==0.25.3 in /Users/natalaurina/anaconda3/lib/python3.7/site-packages (from -r requirements.txt (line 159)) (0.25.3)\n",
      "Requirement already satisfied: pandas-profiling==2.5.0 in /Users/natalaurina/anaconda3/lib/python3.7/site-packages (from -r requirements.txt (line 160)) (2.5.0)\n",
      "Requirement already satisfied: pandocfilters==1.4.2 in /Users/natalaurina/anaconda3/lib/python3.7/site-packages (from -r requirements.txt (line 161)) (1.4.2)\n",
      "Requirement already satisfied: parso==0.5.0 in /Users/natalaurina/anaconda3/lib/python3.7/site-packages (from -r requirements.txt (line 162)) (0.5.0)\n"
     ]
    },
    {
     "name": "stdout",
     "output_type": "stream",
     "text": [
      "Requirement already satisfied: partd==1.0.0 in /Users/natalaurina/anaconda3/lib/python3.7/site-packages (from -r requirements.txt (line 163)) (1.0.0)\n",
      "Requirement already satisfied: path.py==12.0.1 in /Users/natalaurina/anaconda3/lib/python3.7/site-packages (from -r requirements.txt (line 164)) (12.0.1)\n",
      "Requirement already satisfied: pathlib2==2.3.4 in /Users/natalaurina/anaconda3/lib/python3.7/site-packages (from -r requirements.txt (line 165)) (2.3.4)\n",
      "Requirement already satisfied: patsy==0.5.1 in /Users/natalaurina/anaconda3/lib/python3.7/site-packages (from -r requirements.txt (line 166)) (0.5.1)\n",
      "Requirement already satisfied: pbr==5.4.5 in /Users/natalaurina/anaconda3/lib/python3.7/site-packages (from -r requirements.txt (line 167)) (5.4.5)\n",
      "Requirement already satisfied: pdfminer==20191125 in /Users/natalaurina/anaconda3/lib/python3.7/site-packages (from -r requirements.txt (line 168)) (20191125)\n",
      "Requirement already satisfied: pep8==1.7.1 in /Users/natalaurina/anaconda3/lib/python3.7/site-packages (from -r requirements.txt (line 169)) (1.7.1)\n",
      "Requirement already satisfied: pexpect==4.7.0 in /Users/natalaurina/anaconda3/lib/python3.7/site-packages (from -r requirements.txt (line 170)) (4.7.0)\n",
      "Requirement already satisfied: phik==0.9.9 in /Users/natalaurina/anaconda3/lib/python3.7/site-packages (from -r requirements.txt (line 171)) (0.9.9)\n",
      "Requirement already satisfied: pickle5==0.0.11 in /Users/natalaurina/anaconda3/lib/python3.7/site-packages (from -r requirements.txt (line 172)) (0.0.11)\n",
      "Requirement already satisfied: pickleshare==0.7.5 in /Users/natalaurina/anaconda3/lib/python3.7/site-packages (from -r requirements.txt (line 173)) (0.7.5)\n",
      "Requirement already satisfied: Pillow==6.1.0 in /Users/natalaurina/anaconda3/lib/python3.7/site-packages (from -r requirements.txt (line 174)) (6.1.0)\n",
      "Requirement already satisfied: pkginfo==1.5.0.1 in /Users/natalaurina/anaconda3/lib/python3.7/site-packages (from -r requirements.txt (line 175)) (1.5.0.1)\n",
      "Requirement already satisfied: plotly==4.4.1 in /Users/natalaurina/anaconda3/lib/python3.7/site-packages (from -r requirements.txt (line 176)) (4.4.1)\n",
      "Requirement already satisfied: pluggy==0.12.0 in /Users/natalaurina/anaconda3/lib/python3.7/site-packages (from -r requirements.txt (line 177)) (0.12.0)\n",
      "Requirement already satisfied: ply==3.11 in /Users/natalaurina/anaconda3/lib/python3.7/site-packages (from -r requirements.txt (line 178)) (3.11)\n",
      "Requirement already satisfied: prep==0.1.10 in /Users/natalaurina/anaconda3/lib/python3.7/site-packages (from -r requirements.txt (line 179)) (0.1.10)\n",
      "Requirement already satisfied: preprocessing==0.1.13 in /Users/natalaurina/anaconda3/lib/python3.7/site-packages (from -r requirements.txt (line 180)) (0.1.13)\n",
      "Requirement already satisfied: prometheus-client==0.7.1 in /Users/natalaurina/anaconda3/lib/python3.7/site-packages (from -r requirements.txt (line 181)) (0.7.1)\n",
      "Requirement already satisfied: promise==2.3 in /Users/natalaurina/anaconda3/lib/python3.7/site-packages (from -r requirements.txt (line 182)) (2.3)\n",
      "Requirement already satisfied: prompt-toolkit==2.0.9 in /Users/natalaurina/anaconda3/lib/python3.7/site-packages (from -r requirements.txt (line 183)) (2.0.9)\n",
      "Requirement already satisfied: protobuf==3.12.2 in /Users/natalaurina/.local/lib/python3.7/site-packages (from -r requirements.txt (line 184)) (3.12.2)\n",
      "Requirement already satisfied: psutil==5.6.3 in /Users/natalaurina/anaconda3/lib/python3.7/site-packages (from -r requirements.txt (line 185)) (5.6.3)\n",
      "Requirement already satisfied: ptyprocess==0.6.0 in /Users/natalaurina/anaconda3/lib/python3.7/site-packages (from -r requirements.txt (line 186)) (0.6.0)\n",
      "Requirement already satisfied: py==1.8.0 in /Users/natalaurina/anaconda3/lib/python3.7/site-packages (from -r requirements.txt (line 187)) (1.8.0)\n",
      "Requirement already satisfied: pyasn1==0.4.8 in /Users/natalaurina/anaconda3/lib/python3.7/site-packages (from -r requirements.txt (line 188)) (0.4.8)\n",
      "Requirement already satisfied: pyasn1-modules==0.2.8 in /Users/natalaurina/anaconda3/lib/python3.7/site-packages (from -r requirements.txt (line 189)) (0.2.8)\n",
      "Requirement already satisfied: pycodestyle==2.5.0 in /Users/natalaurina/anaconda3/lib/python3.7/site-packages (from -r requirements.txt (line 190)) (2.5.0)\n",
      "Requirement already satisfied: pycosat==0.6.3 in /Users/natalaurina/anaconda3/lib/python3.7/site-packages (from -r requirements.txt (line 191)) (0.6.3)\n",
      "Requirement already satisfied: pycparser==2.19 in /Users/natalaurina/anaconda3/lib/python3.7/site-packages (from -r requirements.txt (line 192)) (2.19)\n",
      "Requirement already satisfied: pycrypto==2.6.1 in /Users/natalaurina/anaconda3/lib/python3.7/site-packages (from -r requirements.txt (line 193)) (2.6.1)\n",
      "Requirement already satisfied: pycryptodome==3.9.8 in /Users/natalaurina/anaconda3/lib/python3.7/site-packages (from -r requirements.txt (line 194)) (3.9.8)\n",
      "Requirement already satisfied: pycurl==7.43.0.3 in /Users/natalaurina/anaconda3/lib/python3.7/site-packages (from -r requirements.txt (line 195)) (7.43.0.3)\n",
      "Requirement already satisfied: pydotplus==2.0.2 in /Users/natalaurina/anaconda3/lib/python3.7/site-packages (from -r requirements.txt (line 196)) (2.0.2)\n",
      "Requirement already satisfied: pyflakes==2.1.1 in /Users/natalaurina/anaconda3/lib/python3.7/site-packages (from -r requirements.txt (line 197)) (2.1.1)\n",
      "Requirement already satisfied: Pygments==2.4.2 in /Users/natalaurina/anaconda3/lib/python3.7/site-packages (from -r requirements.txt (line 198)) (2.4.2)\n",
      "Requirement already satisfied: pylint==2.3.1 in /Users/natalaurina/anaconda3/lib/python3.7/site-packages (from -r requirements.txt (line 199)) (2.3.1)\n",
      "Requirement already satisfied: PyMeeus==0.3.6 in /Users/natalaurina/anaconda3/lib/python3.7/site-packages (from -r requirements.txt (line 200)) (0.3.6)\n",
      "Requirement already satisfied: pymystem3==0.2.0 in /Users/natalaurina/anaconda3/lib/python3.7/site-packages (from -r requirements.txt (line 201)) (0.2.0)\n",
      "Requirement already satisfied: pyodbc==4.0.26 in /Users/natalaurina/anaconda3/lib/python3.7/site-packages (from -r requirements.txt (line 202)) (4.0.26)\n",
      "Requirement already satisfied: pyOpenSSL==19.0.0 in /Users/natalaurina/anaconda3/lib/python3.7/site-packages (from -r requirements.txt (line 203)) (19.0.0)\n",
      "Requirement already satisfied: pyparsing==2.4.0 in /Users/natalaurina/anaconda3/lib/python3.7/site-packages (from -r requirements.txt (line 204)) (2.4.0)\n",
      "Requirement already satisfied: PyQt5==5.12.3 in /Users/natalaurina/anaconda3/lib/python3.7/site-packages (from -r requirements.txt (line 205)) (5.12.3)\n",
      "Requirement already satisfied: PyQt5-sip==12.8.0 in /Users/natalaurina/anaconda3/lib/python3.7/site-packages (from -r requirements.txt (line 206)) (12.8.0)\n",
      "Requirement already satisfied: PyQtWebEngine==5.12.1 in /Users/natalaurina/anaconda3/lib/python3.7/site-packages (from -r requirements.txt (line 207)) (5.12.1)\n",
      "Requirement already satisfied: pyrsistent==0.14.11 in /Users/natalaurina/anaconda3/lib/python3.7/site-packages (from -r requirements.txt (line 208)) (0.14.11)\n",
      "Requirement already satisfied: PySocks==1.7.0 in /Users/natalaurina/anaconda3/lib/python3.7/site-packages (from -r requirements.txt (line 209)) (1.7.0)\n",
      "Requirement already satisfied: pystan==2.19.1.1 in /Users/natalaurina/anaconda3/lib/python3.7/site-packages (from -r requirements.txt (line 210)) (2.19.1.1)\n",
      "Requirement already satisfied: pytest==5.0.1 in /Users/natalaurina/anaconda3/lib/python3.7/site-packages (from -r requirements.txt (line 211)) (5.0.1)\n",
      "Requirement already satisfied: pytest-arraydiff==0.3 in /Users/natalaurina/anaconda3/lib/python3.7/site-packages (from -r requirements.txt (line 212)) (0.3)\n",
      "Requirement already satisfied: pytest-astropy==0.5.0 in /Users/natalaurina/anaconda3/lib/python3.7/site-packages (from -r requirements.txt (line 213)) (0.5.0)\n",
      "Requirement already satisfied: pytest-doctestplus==0.3.0 in /Users/natalaurina/anaconda3/lib/python3.7/site-packages (from -r requirements.txt (line 214)) (0.3.0)\n",
      "Requirement already satisfied: pytest-openfiles==0.3.2 in /Users/natalaurina/anaconda3/lib/python3.7/site-packages (from -r requirements.txt (line 215)) (0.3.2)\n",
      "Requirement already satisfied: pytest-pylint==0.15.1 in /Users/natalaurina/anaconda3/lib/python3.7/site-packages (from -r requirements.txt (line 216)) (0.15.1)\n"
     ]
    },
    {
     "name": "stdout",
     "output_type": "stream",
     "text": [
      "Requirement already satisfied: pytest-remotedata==0.3.1 in /Users/natalaurina/anaconda3/lib/python3.7/site-packages (from -r requirements.txt (line 217)) (0.3.1)\n",
      "Requirement already satisfied: python-dateutil==2.8.0 in /Users/natalaurina/anaconda3/lib/python3.7/site-packages (from -r requirements.txt (line 218)) (2.8.0)\n",
      "Requirement already satisfied: python-Levenshtein==0.12.0 in /Users/natalaurina/anaconda3/lib/python3.7/site-packages (from -r requirements.txt (line 219)) (0.12.0)\n",
      "Requirement already satisfied: python-slugify==4.0.0 in /Users/natalaurina/anaconda3/lib/python3.7/site-packages (from -r requirements.txt (line 220)) (4.0.0)\n",
      "Requirement already satisfied: pytz==2019.1 in /Users/natalaurina/anaconda3/lib/python3.7/site-packages (from -r requirements.txt (line 221)) (2019.1)\n",
      "Requirement already satisfied: PyWavelets==1.0.3 in /Users/natalaurina/anaconda3/lib/python3.7/site-packages (from -r requirements.txt (line 222)) (1.0.3)\n",
      "Requirement already satisfied: PyYAML==5.1.1 in /Users/natalaurina/anaconda3/lib/python3.7/site-packages (from -r requirements.txt (line 223)) (5.1.1)\n",
      "Requirement already satisfied: pyzmq==18.0.0 in /Users/natalaurina/anaconda3/lib/python3.7/site-packages (from -r requirements.txt (line 224)) (18.0.0)\n",
      "Requirement already satisfied: QtAwesome==0.5.7 in /Users/natalaurina/anaconda3/lib/python3.7/site-packages (from -r requirements.txt (line 225)) (0.5.7)\n",
      "Requirement already satisfied: qtconsole==4.5.1 in /Users/natalaurina/anaconda3/lib/python3.7/site-packages (from -r requirements.txt (line 226)) (4.5.1)\n",
      "Requirement already satisfied: QtPy==1.8.0 in /Users/natalaurina/anaconda3/lib/python3.7/site-packages (from -r requirements.txt (line 227)) (1.8.0)\n",
      "Requirement already satisfied: requests==2.24.0 in /Users/natalaurina/anaconda3/lib/python3.7/site-packages (from -r requirements.txt (line 228)) (2.24.0)\n",
      "Requirement already satisfied: requests-oauthlib==1.3.0 in /Users/natalaurina/anaconda3/lib/python3.7/site-packages (from -r requirements.txt (line 229)) (1.3.0)\n",
      "Requirement already satisfied: retrying==1.3.3 in /Users/natalaurina/anaconda3/lib/python3.7/site-packages (from -r requirements.txt (line 230)) (1.3.3)\n",
      "Requirement already satisfied: rope==0.14.0 in /Users/natalaurina/anaconda3/lib/python3.7/site-packages (from -r requirements.txt (line 231)) (0.14.0)\n",
      "Requirement already satisfied: rsa==4.6 in /Users/natalaurina/anaconda3/lib/python3.7/site-packages (from -r requirements.txt (line 232)) (4.6)\n",
      "Requirement already satisfied: ruamel-yaml==0.15.46 in /Users/natalaurina/anaconda3/lib/python3.7/site-packages (from -r requirements.txt (line 233)) (0.15.46)\n",
      "Requirement already satisfied: scikit-image==0.15.0 in /Users/natalaurina/anaconda3/lib/python3.7/site-packages (from -r requirements.txt (line 234)) (0.15.0)\n",
      "Requirement already satisfied: scikit-learn==0.21.2 in /Users/natalaurina/anaconda3/lib/python3.7/site-packages (from -r requirements.txt (line 235)) (0.21.2)\n",
      "Requirement already satisfied: scipy==1.4.1 in /Users/natalaurina/anaconda3/lib/python3.7/site-packages (from -r requirements.txt (line 236)) (1.4.1)\n",
      "Requirement already satisfied: seaborn==0.9.0 in /Users/natalaurina/anaconda3/lib/python3.7/site-packages (from -r requirements.txt (line 237)) (0.9.0)\n",
      "Requirement already satisfied: Send2Trash==1.5.0 in /Users/natalaurina/anaconda3/lib/python3.7/site-packages (from -r requirements.txt (line 238)) (1.5.0)\n",
      "Requirement already satisfied: setuptools-git==1.2 in /Users/natalaurina/anaconda3/lib/python3.7/site-packages (from -r requirements.txt (line 239)) (1.2)\n",
      "Requirement already satisfied: simplegeneric==0.8.1 in /Users/natalaurina/anaconda3/lib/python3.7/site-packages (from -r requirements.txt (line 240)) (0.8.1)\n",
      "Requirement already satisfied: singledispatch==3.4.0.3 in /Users/natalaurina/anaconda3/lib/python3.7/site-packages (from -r requirements.txt (line 241)) (3.4.0.3)\n",
      "Requirement already satisfied: six==1.15.0 in /Users/natalaurina/.local/lib/python3.7/site-packages (from -r requirements.txt (line 242)) (1.15.0)\n",
      "Requirement already satisfied: sklearn==0.0 in /Users/natalaurina/anaconda3/lib/python3.7/site-packages (from -r requirements.txt (line 243)) (0.0)\n",
      "Requirement already satisfied: snowballstemmer==1.9.0 in /Users/natalaurina/anaconda3/lib/python3.7/site-packages (from -r requirements.txt (line 244)) (1.9.0)\n",
      "Requirement already satisfied: sortedcollections==1.1.2 in /Users/natalaurina/anaconda3/lib/python3.7/site-packages (from -r requirements.txt (line 245)) (1.1.2)\n",
      "Requirement already satisfied: sortedcontainers==2.1.0 in /Users/natalaurina/anaconda3/lib/python3.7/site-packages (from -r requirements.txt (line 246)) (2.1.0)\n",
      "Requirement already satisfied: soupsieve==1.8 in /Users/natalaurina/anaconda3/lib/python3.7/site-packages (from -r requirements.txt (line 247)) (1.8)\n",
      "Requirement already satisfied: Sphinx==2.1.2 in /Users/natalaurina/anaconda3/lib/python3.7/site-packages (from -r requirements.txt (line 248)) (2.1.2)\n",
      "Requirement already satisfied: sphinx-rtd-theme==0.2.4 in /Users/natalaurina/anaconda3/lib/python3.7/site-packages (from -r requirements.txt (line 249)) (0.2.4)\n",
      "Requirement already satisfied: sphinxcontrib-applehelp==1.0.1 in /Users/natalaurina/anaconda3/lib/python3.7/site-packages (from -r requirements.txt (line 250)) (1.0.1)\n",
      "Requirement already satisfied: sphinxcontrib-devhelp==1.0.1 in /Users/natalaurina/anaconda3/lib/python3.7/site-packages (from -r requirements.txt (line 251)) (1.0.1)\n",
      "Requirement already satisfied: sphinxcontrib-htmlhelp==1.0.2 in /Users/natalaurina/anaconda3/lib/python3.7/site-packages (from -r requirements.txt (line 252)) (1.0.2)\n",
      "Requirement already satisfied: sphinxcontrib-jsmath==1.0.1 in /Users/natalaurina/anaconda3/lib/python3.7/site-packages (from -r requirements.txt (line 253)) (1.0.1)\n",
      "Requirement already satisfied: sphinxcontrib-qthelp==1.0.2 in /Users/natalaurina/anaconda3/lib/python3.7/site-packages (from -r requirements.txt (line 254)) (1.0.2)\n",
      "Requirement already satisfied: sphinxcontrib-serializinghtml==1.1.3 in /Users/natalaurina/anaconda3/lib/python3.7/site-packages (from -r requirements.txt (line 255)) (1.1.3)\n",
      "Requirement already satisfied: sphinxcontrib-websupport==1.1.2 in /Users/natalaurina/anaconda3/lib/python3.7/site-packages (from -r requirements.txt (line 256)) (1.1.2)\n",
      "Requirement already satisfied: spyder==3.3.6 in /Users/natalaurina/anaconda3/lib/python3.7/site-packages (from -r requirements.txt (line 257)) (3.3.6)\n",
      "Requirement already satisfied: spyder-kernels==0.5.1 in /Users/natalaurina/anaconda3/lib/python3.7/site-packages (from -r requirements.txt (line 258)) (0.5.1)\n",
      "Requirement already satisfied: SQLAlchemy==1.3.5 in /Users/natalaurina/anaconda3/lib/python3.7/site-packages (from -r requirements.txt (line 259)) (1.3.5)\n",
      "Requirement already satisfied: statsmodels==0.10.0 in /Users/natalaurina/anaconda3/lib/python3.7/site-packages (from -r requirements.txt (line 260)) (0.10.0)\n",
      "Requirement already satisfied: stevedore==3.2.0 in /Users/natalaurina/anaconda3/lib/python3.7/site-packages (from -r requirements.txt (line 261)) (3.2.0)\n",
      "Requirement already satisfied: sympy==1.4 in /Users/natalaurina/anaconda3/lib/python3.7/site-packages (from -r requirements.txt (line 262)) (1.4)\n",
      "Requirement already satisfied: tables==3.5.2 in /Users/natalaurina/anaconda3/lib/python3.7/site-packages (from -r requirements.txt (line 263)) (3.5.2)\n",
      "Requirement already satisfied: tangled-up-in-unicode==0.0.3 in /Users/natalaurina/anaconda3/lib/python3.7/site-packages (from -r requirements.txt (line 264)) (0.0.3)\n",
      "Requirement already satisfied: tblib==1.4.0 in /Users/natalaurina/anaconda3/lib/python3.7/site-packages (from -r requirements.txt (line 265)) (1.4.0)\n",
      "Requirement already satisfied: tensorboard==1.14.0 in /Users/natalaurina/.local/lib/python3.7/site-packages (from -r requirements.txt (line 266)) (1.14.0)\n",
      "Requirement already satisfied: tensorboard-plugin-wit==1.7.0 in /Users/natalaurina/anaconda3/lib/python3.7/site-packages (from -r requirements.txt (line 267)) (1.7.0)\n",
      "Requirement already satisfied: tensorflow@ file:///Users/natalaurina/build_tensorflow/tensorflow-1.14.1-cp37-cp37m-macosx_10_9_x86_64.whl from file:///Users/natalaurina/build_tensorflow/tensorflow-1.14.1-cp37-cp37m-macosx_10_9_x86_64.whl in /Users/natalaurina/.local/lib/python3.7/site-packages (from -r requirements.txt (line 268)) (1.14.1)\n"
     ]
    },
    {
     "name": "stdout",
     "output_type": "stream",
     "text": [
      "Requirement already satisfied: tensorflow-datasets==3.2.1 in /Users/natalaurina/anaconda3/lib/python3.7/site-packages (from -r requirements.txt (line 269)) (3.2.1)\n",
      "Requirement already satisfied: tensorflow-estimator==1.14.0 in /Users/natalaurina/.local/lib/python3.7/site-packages (from -r requirements.txt (line 270)) (1.14.0)\n",
      "Requirement already satisfied: tensorflow-hub==0.8.0 in /Users/natalaurina/anaconda3/lib/python3.7/site-packages (from -r requirements.txt (line 271)) (0.8.0)\n",
      "Requirement already satisfied: tensorflow-metadata==0.22.2 in /Users/natalaurina/anaconda3/lib/python3.7/site-packages (from -r requirements.txt (line 272)) (0.22.2)\n",
      "Requirement already satisfied: termcolor==1.1.0 in /Users/natalaurina/.local/lib/python3.7/site-packages (from -r requirements.txt (line 273)) (1.1.0)\n",
      "Requirement already satisfied: terminado==0.8.2 in /Users/natalaurina/anaconda3/lib/python3.7/site-packages (from -r requirements.txt (line 274)) (0.8.2)\n",
      "Requirement already satisfied: testpath==0.4.2 in /Users/natalaurina/anaconda3/lib/python3.7/site-packages (from -r requirements.txt (line 275)) (0.4.2)\n",
      "Requirement already satisfied: text-unidecode==1.3 in /Users/natalaurina/anaconda3/lib/python3.7/site-packages (from -r requirements.txt (line 276)) (1.3)\n",
      "Requirement already satisfied: tf-slim==1.1.0 in /Users/natalaurina/anaconda3/lib/python3.7/site-packages (from -r requirements.txt (line 277)) (1.1.0)\n",
      "Requirement already satisfied: toolz==0.10.0 in /Users/natalaurina/anaconda3/lib/python3.7/site-packages (from -r requirements.txt (line 278)) (0.10.0)\n",
      "Requirement already satisfied: tornado==6.0.3 in /Users/natalaurina/anaconda3/lib/python3.7/site-packages (from -r requirements.txt (line 279)) (6.0.3)\n",
      "Requirement already satisfied: tqdm==4.42.0 in /Users/natalaurina/anaconda3/lib/python3.7/site-packages (from -r requirements.txt (line 280)) (4.42.0)\n",
      "Requirement already satisfied: traitlets==4.3.2 in /Users/natalaurina/anaconda3/lib/python3.7/site-packages (from -r requirements.txt (line 281)) (4.3.2)\n",
      "Requirement already satisfied: typed-ast==1.4.1 in /Users/natalaurina/anaconda3/lib/python3.7/site-packages (from -r requirements.txt (line 282)) (1.4.1)\n",
      "Requirement already satisfied: unicodecsv==0.14.1 in /Users/natalaurina/anaconda3/lib/python3.7/site-packages (from -r requirements.txt (line 283)) (0.14.1)\n",
      "Requirement already satisfied: urllib3==1.25.10 in /Users/natalaurina/anaconda3/lib/python3.7/site-packages (from -r requirements.txt (line 284)) (1.25.10)\n",
      "Requirement already satisfied: virtualenv==20.0.30 in /Users/natalaurina/anaconda3/lib/python3.7/site-packages (from -r requirements.txt (line 285)) (20.0.30)\n",
      "Requirement already satisfied: virtualenv-clone==0.5.4 in /Users/natalaurina/anaconda3/lib/python3.7/site-packages (from -r requirements.txt (line 286)) (0.5.4)\n",
      "Requirement already satisfied: virtualenvwrapper==4.8.4 in /Users/natalaurina/anaconda3/lib/python3.7/site-packages (from -r requirements.txt (line 287)) (4.8.4)\n",
      "Requirement already satisfied: visions==0.2.2 in /Users/natalaurina/anaconda3/lib/python3.7/site-packages (from -r requirements.txt (line 288)) (0.2.2)\n",
      "Requirement already satisfied: wcwidth==0.1.7 in /Users/natalaurina/anaconda3/lib/python3.7/site-packages (from -r requirements.txt (line 289)) (0.1.7)\n",
      "Requirement already satisfied: webencodings==0.5.1 in /Users/natalaurina/anaconda3/lib/python3.7/site-packages (from -r requirements.txt (line 290)) (0.5.1)\n",
      "Requirement already satisfied: Werkzeug==1.0.1 in /Users/natalaurina/.local/lib/python3.7/site-packages (from -r requirements.txt (line 291)) (1.0.1)\n",
      "Requirement already satisfied: widgetsnbextension==3.5.0 in /Users/natalaurina/anaconda3/lib/python3.7/site-packages (from -r requirements.txt (line 292)) (3.5.0)\n",
      "Requirement already satisfied: wrapt==1.12.1 in /Users/natalaurina/.local/lib/python3.7/site-packages (from -r requirements.txt (line 293)) (1.12.1)\n",
      "Requirement already satisfied: wurlitzer==1.0.2 in /Users/natalaurina/anaconda3/lib/python3.7/site-packages (from -r requirements.txt (line 294)) (1.0.2)\n",
      "Requirement already satisfied: xlrd==1.2.0 in /Users/natalaurina/anaconda3/lib/python3.7/site-packages (from -r requirements.txt (line 295)) (1.2.0)\n",
      "Requirement already satisfied: XlsxWriter==1.1.8 in /Users/natalaurina/anaconda3/lib/python3.7/site-packages (from -r requirements.txt (line 296)) (1.1.8)\n",
      "Requirement already satisfied: xlwings==0.15.8 in /Users/natalaurina/anaconda3/lib/python3.7/site-packages (from -r requirements.txt (line 297)) (0.15.8)\n",
      "Requirement already satisfied: xlwt==1.3.0 in /Users/natalaurina/anaconda3/lib/python3.7/site-packages (from -r requirements.txt (line 298)) (1.3.0)\n",
      "Requirement already satisfied: xmltodict==0.12.0 in /Users/natalaurina/anaconda3/lib/python3.7/site-packages (from -r requirements.txt (line 299)) (0.12.0)\n",
      "Requirement already satisfied: zict==1.0.0 in /Users/natalaurina/anaconda3/lib/python3.7/site-packages (from -r requirements.txt (line 300)) (1.0.0)\n",
      "Requirement already satisfied: zipp==3.1.0 in /Users/natalaurina/.local/lib/python3.7/site-packages (from -r requirements.txt (line 301)) (3.1.0)\n",
      "Requirement already satisfied: setuptools in /Users/natalaurina/.local/lib/python3.7/site-packages (from anaconda-client==1.7.2->-r requirements.txt (line 3)) (47.3.1)\n",
      "Requirement already satisfied: wheel<1.0,>=0.23.0 in /Users/natalaurina/.local/lib/python3.7/site-packages (from astunparse==1.6.3->-r requirements.txt (line 13)) (0.34.2)\n",
      "Note: you may need to restart the kernel to use updated packages.\n"
     ]
    }
   ],
   "source": [
    "pip install -r requirements.txt"
   ]
  },
  {
   "cell_type": "code",
   "execution_count": 15,
   "metadata": {
    "colab": {
     "base_uri": "https://localhost:8080/",
     "height": 156
    },
    "colab_type": "code",
    "id": "lpYIwQYRS2mm",
    "outputId": "a2fba2f9-c33d-4efd-c86e-8a5d0100cb77"
   },
   "outputs": [
    {
     "name": "stdout",
     "output_type": "stream",
     "text": [
      "Requirement already satisfied: mlens in /Users/natalaurina/anaconda3/lib/python3.7/site-packages (0.2.3)\n",
      "Requirement already satisfied: numpy>=1.11 in /Users/natalaurina/.local/lib/python3.7/site-packages (from mlens) (1.18.5)\n",
      "Requirement already satisfied: scipy>=0.17 in /Users/natalaurina/anaconda3/lib/python3.7/site-packages (from mlens) (1.4.1)\n"
     ]
    }
   ],
   "source": [
    "!pip install mlens"
   ]
  },
  {
   "cell_type": "code",
   "execution_count": 21,
   "metadata": {},
   "outputs": [
    {
     "data": {
      "text/html": [
       "<div>\n",
       "<style scoped>\n",
       "    .dataframe tbody tr th:only-of-type {\n",
       "        vertical-align: middle;\n",
       "    }\n",
       "\n",
       "    .dataframe tbody tr th {\n",
       "        vertical-align: top;\n",
       "    }\n",
       "\n",
       "    .dataframe thead th {\n",
       "        text-align: right;\n",
       "    }\n",
       "</style>\n",
       "<table border=\"1\" class=\"dataframe\">\n",
       "  <thead>\n",
       "    <tr style=\"text-align: right;\">\n",
       "      <th></th>\n",
       "      <th>type</th>\n",
       "      <th>fixed acidity</th>\n",
       "      <th>volatile acidity</th>\n",
       "      <th>citric acid</th>\n",
       "      <th>residual sugar</th>\n",
       "      <th>chlorides</th>\n",
       "      <th>free sulfur dioxide</th>\n",
       "      <th>total sulfur dioxide</th>\n",
       "      <th>density</th>\n",
       "      <th>pH</th>\n",
       "      <th>sulphates</th>\n",
       "      <th>alcohol</th>\n",
       "      <th>quality</th>\n",
       "    </tr>\n",
       "  </thead>\n",
       "  <tbody>\n",
       "    <tr>\n",
       "      <th>0</th>\n",
       "      <td>white</td>\n",
       "      <td>7.0</td>\n",
       "      <td>0.27</td>\n",
       "      <td>0.36</td>\n",
       "      <td>20.7</td>\n",
       "      <td>0.045</td>\n",
       "      <td>45.0</td>\n",
       "      <td>170.0</td>\n",
       "      <td>1.0010</td>\n",
       "      <td>3.00</td>\n",
       "      <td>0.45</td>\n",
       "      <td>8.8</td>\n",
       "      <td>6</td>\n",
       "    </tr>\n",
       "    <tr>\n",
       "      <th>1</th>\n",
       "      <td>white</td>\n",
       "      <td>6.3</td>\n",
       "      <td>0.30</td>\n",
       "      <td>0.34</td>\n",
       "      <td>1.6</td>\n",
       "      <td>0.049</td>\n",
       "      <td>14.0</td>\n",
       "      <td>132.0</td>\n",
       "      <td>0.9940</td>\n",
       "      <td>3.30</td>\n",
       "      <td>0.49</td>\n",
       "      <td>9.5</td>\n",
       "      <td>6</td>\n",
       "    </tr>\n",
       "    <tr>\n",
       "      <th>2</th>\n",
       "      <td>white</td>\n",
       "      <td>8.1</td>\n",
       "      <td>0.28</td>\n",
       "      <td>0.40</td>\n",
       "      <td>6.9</td>\n",
       "      <td>0.050</td>\n",
       "      <td>30.0</td>\n",
       "      <td>97.0</td>\n",
       "      <td>0.9951</td>\n",
       "      <td>3.26</td>\n",
       "      <td>0.44</td>\n",
       "      <td>10.1</td>\n",
       "      <td>6</td>\n",
       "    </tr>\n",
       "    <tr>\n",
       "      <th>3</th>\n",
       "      <td>white</td>\n",
       "      <td>7.2</td>\n",
       "      <td>0.23</td>\n",
       "      <td>0.32</td>\n",
       "      <td>8.5</td>\n",
       "      <td>0.058</td>\n",
       "      <td>47.0</td>\n",
       "      <td>186.0</td>\n",
       "      <td>0.9956</td>\n",
       "      <td>3.19</td>\n",
       "      <td>0.40</td>\n",
       "      <td>9.9</td>\n",
       "      <td>6</td>\n",
       "    </tr>\n",
       "    <tr>\n",
       "      <th>4</th>\n",
       "      <td>white</td>\n",
       "      <td>7.2</td>\n",
       "      <td>0.23</td>\n",
       "      <td>0.32</td>\n",
       "      <td>8.5</td>\n",
       "      <td>0.058</td>\n",
       "      <td>47.0</td>\n",
       "      <td>186.0</td>\n",
       "      <td>0.9956</td>\n",
       "      <td>3.19</td>\n",
       "      <td>0.40</td>\n",
       "      <td>9.9</td>\n",
       "      <td>6</td>\n",
       "    </tr>\n",
       "  </tbody>\n",
       "</table>\n",
       "</div>"
      ],
      "text/plain": [
       "    type  fixed acidity  volatile acidity  citric acid  residual sugar  \\\n",
       "0  white            7.0              0.27         0.36            20.7   \n",
       "1  white            6.3              0.30         0.34             1.6   \n",
       "2  white            8.1              0.28         0.40             6.9   \n",
       "3  white            7.2              0.23         0.32             8.5   \n",
       "4  white            7.2              0.23         0.32             8.5   \n",
       "\n",
       "   chlorides  free sulfur dioxide  total sulfur dioxide  density    pH  \\\n",
       "0      0.045                 45.0                 170.0   1.0010  3.00   \n",
       "1      0.049                 14.0                 132.0   0.9940  3.30   \n",
       "2      0.050                 30.0                  97.0   0.9951  3.26   \n",
       "3      0.058                 47.0                 186.0   0.9956  3.19   \n",
       "4      0.058                 47.0                 186.0   0.9956  3.19   \n",
       "\n",
       "   sulphates  alcohol  quality  \n",
       "0       0.45      8.8        6  \n",
       "1       0.49      9.5        6  \n",
       "2       0.44     10.1        6  \n",
       "3       0.40      9.9        6  \n",
       "4       0.40      9.9        6  "
      ]
     },
     "execution_count": 21,
     "metadata": {},
     "output_type": "execute_result"
    }
   ],
   "source": [
    "# %load helpers&EDA/imports_libs.py\n",
    "# Ignore warnings\n",
    "import warnings\n",
    "warnings.filterwarnings('ignore')\n",
    "\n",
    "# Handle table-like data and matrices\n",
    "import numpy as np\n",
    "import pandas as pd\n",
    "\n",
    "# Modelling Algorithms\n",
    "from sklearn.tree import DecisionTreeClassifier\n",
    "from sklearn.linear_model import LogisticRegression, LinearRegression\n",
    "from sklearn.neighbors import KNeighborsClassifier\n",
    "from sklearn.naive_bayes import GaussianNB\n",
    "from sklearn.svm import SVC, LinearSVC\n",
    "from sklearn.ensemble import RandomForestClassifier\n",
    "from sklearn.linear_model import SGDClassifier\n",
    "from sklearn.naive_bayes import MultinomialNB\n",
    "from sklearn.linear_model import Ridge\n",
    "from sklearn.ensemble import RandomForestRegressor\n",
    "from catboost import CatBoostClassifier\n",
    "from catboost import CatBoostRegressor\n",
    "\n",
    "# Modelling Helpers\n",
    "from sklearn.impute import SimpleImputer as Imputer\n",
    "from sklearn.preprocessing import  Normalizer , scale\n",
    "from sklearn.preprocessing import StandardScaler\n",
    "from sklearn.preprocessing import LabelEncoder, OneHotEncoder\n",
    "from sklearn.model_selection import train_test_split , StratifiedKFold\n",
    "from sklearn.model_selection import GridSearchCV\n",
    "from sklearn.model_selection import KFold, cross_validate, cross_val_score\n",
    "from sklearn.feature_selection import RFECV\n",
    "from mlens.ensemble import SuperLearner\n",
    "from sklearn.pipeline import Pipeline\n",
    "\n",
    "# Metrics\n",
    "from sklearn.metrics import auc, roc_curve, roc_auc_score, r2_score\n",
    "from sklearn.metrics import mean_squared_error, mean_absolute_error\n",
    "from sklearn.metrics import classification_report\n",
    "\n",
    "\n",
    "# Visualisation\n",
    "import matplotlib as mpl\n",
    "import matplotlib.pyplot as plt\n",
    "import matplotlib.pylab as pylab\n",
    "import seaborn as sns\n",
    "\n",
    "# Configure visualisations\n",
    "#%matplotlib inline\n",
    "mpl.style.use( 'ggplot' )\n",
    "sns.set_style( 'white' )\n",
    "pylab.rcParams[ 'figure.figsize' ] = 8 , 6\n",
    "from pylab import *\n",
    "s = 1\n",
    "d = 2\n",
    "data = pd.read_csv('winequalityN.csv')\n",
    "data.head()"
   ]
  },
  {
   "cell_type": "code",
   "execution_count": 22,
   "metadata": {},
   "outputs": [],
   "source": [
    "%run helpers&EDA/imports_libs.py"
   ]
  },
  {
   "cell_type": "markdown",
   "metadata": {
    "colab_type": "text",
    "id": "k1sLWa42bIwO"
   },
   "source": [
    "# 1. Понимание бизнеса\n",
    "\n",
    "## 1.1 Цель\n",
    "Предсказать качество португальского вина\n",
    "\n",
    "## 1.2 Описание\n",
    "Эти два набора данных относятся к красному и белому вариантам португальского вина \"Vinho Verde\". Из-за проблем конфиденциальности и логистики доступны только физико-химические (входные данные) и сенсорные (выходные данные) переменные (например, нет данных о сортах винограда, марке вина, цене продажи вина и т. д.).\n",
    "\n",
    "Эти наборы данных можно рассматривать как задачи классификации или регрессии. Классы упорядочены и не сбалансированы (например, нормальных вин гораздо больше, чем отличных или плохих). Алгоритмы обнаружения выбросов могут быть использованы для обнаружения нескольких превосходных или плохих вин.\n",
    "\n",
    "\n",
    "[Описание от Kaggle](https://www.kaggle.com/rajyellow46/wine-quality)"
   ]
  },
  {
   "cell_type": "markdown",
   "metadata": {
    "colab_type": "text",
    "id": "veMjyPOVbIwP"
   },
   "source": [
    "# 2. Data Understanding\n",
    "\n",
    "## 2.1 Import Libraries"
   ]
  },
  {
   "cell_type": "markdown",
   "metadata": {
    "colab_type": "text",
    "id": "XUit2z2-bIwQ"
   },
   "source": [
    "1-фиксированная кислотность \n",
    "2-Летучая кислотность \n",
    "3-лимонная кислота \n",
    "4-остаточный сахар \n",
    "5-хлориды \n",
    "6-свободный диоксид серы \n",
    "7-общий диоксид серы \n",
    "8-Плотность \n",
    "9-рН \n",
    "10-сульфаты \n",
    "11-алкоголь \n",
    "Выходная переменная (на основе сенсорных данных): \n",
    "12-качество (оценка от 0 до 10 баллов)"
   ]
  },
  {
   "cell_type": "markdown",
   "metadata": {
    "colab_type": "text",
    "id": "HX7qB9PidTaT"
   },
   "source": [
    "## 2.2 Вспомогательные функции"
   ]
  },
  {
   "cell_type": "code",
   "execution_count": 2,
   "metadata": {},
   "outputs": [],
   "source": [
    "%run helpers&EDA/help_func.py"
   ]
  },
  {
   "cell_type": "markdown",
   "metadata": {
    "colab_type": "text",
    "id": "ufyvpruAdmMV"
   },
   "source": [
    "## 2.3 Загрузка данных"
   ]
  },
  {
   "cell_type": "code",
   "execution_count": 3,
   "metadata": {
    "colab": {},
    "colab_type": "code",
    "id": "Kz9ejKGybIwX",
    "scrolled": false
   },
   "outputs": [],
   "source": [
    "%run helpers&EDA/download_data.py"
   ]
  },
  {
   "cell_type": "markdown",
   "metadata": {
    "colab_type": "text",
    "id": "h4X_-Xj2d0m7"
   },
   "source": [
    "## 2.4 Статистика и визуализации"
   ]
  },
  {
   "cell_type": "code",
   "execution_count": 4,
   "metadata": {
    "colab": {
     "base_uri": "https://localhost:8080/",
     "height": 221
    },
    "colab_type": "code",
    "id": "G9Lb3N8Md0_p",
    "outputId": "17324695-b49c-4625-995a-72f9cd037e82"
   },
   "outputs": [
    {
     "data": {
      "text/html": [
       "<div>\n",
       "<style scoped>\n",
       "    .dataframe tbody tr th:only-of-type {\n",
       "        vertical-align: middle;\n",
       "    }\n",
       "\n",
       "    .dataframe tbody tr th {\n",
       "        vertical-align: top;\n",
       "    }\n",
       "\n",
       "    .dataframe thead th {\n",
       "        text-align: right;\n",
       "    }\n",
       "</style>\n",
       "<table border=\"1\" class=\"dataframe\">\n",
       "  <thead>\n",
       "    <tr style=\"text-align: right;\">\n",
       "      <th></th>\n",
       "      <th>type</th>\n",
       "      <th>fixed acidity</th>\n",
       "      <th>volatile acidity</th>\n",
       "      <th>citric acid</th>\n",
       "      <th>residual sugar</th>\n",
       "      <th>chlorides</th>\n",
       "      <th>free sulfur dioxide</th>\n",
       "      <th>total sulfur dioxide</th>\n",
       "      <th>density</th>\n",
       "      <th>pH</th>\n",
       "      <th>sulphates</th>\n",
       "      <th>alcohol</th>\n",
       "      <th>quality</th>\n",
       "    </tr>\n",
       "  </thead>\n",
       "  <tbody>\n",
       "    <tr>\n",
       "      <th>0</th>\n",
       "      <td>white</td>\n",
       "      <td>7.0</td>\n",
       "      <td>0.27</td>\n",
       "      <td>0.36</td>\n",
       "      <td>20.7</td>\n",
       "      <td>0.045</td>\n",
       "      <td>45.0</td>\n",
       "      <td>170.0</td>\n",
       "      <td>1.0010</td>\n",
       "      <td>3.00</td>\n",
       "      <td>0.45</td>\n",
       "      <td>8.8</td>\n",
       "      <td>6</td>\n",
       "    </tr>\n",
       "    <tr>\n",
       "      <th>1</th>\n",
       "      <td>white</td>\n",
       "      <td>6.3</td>\n",
       "      <td>0.30</td>\n",
       "      <td>0.34</td>\n",
       "      <td>1.6</td>\n",
       "      <td>0.049</td>\n",
       "      <td>14.0</td>\n",
       "      <td>132.0</td>\n",
       "      <td>0.9940</td>\n",
       "      <td>3.30</td>\n",
       "      <td>0.49</td>\n",
       "      <td>9.5</td>\n",
       "      <td>6</td>\n",
       "    </tr>\n",
       "    <tr>\n",
       "      <th>2</th>\n",
       "      <td>white</td>\n",
       "      <td>8.1</td>\n",
       "      <td>0.28</td>\n",
       "      <td>0.40</td>\n",
       "      <td>6.9</td>\n",
       "      <td>0.050</td>\n",
       "      <td>30.0</td>\n",
       "      <td>97.0</td>\n",
       "      <td>0.9951</td>\n",
       "      <td>3.26</td>\n",
       "      <td>0.44</td>\n",
       "      <td>10.1</td>\n",
       "      <td>6</td>\n",
       "    </tr>\n",
       "    <tr>\n",
       "      <th>3</th>\n",
       "      <td>white</td>\n",
       "      <td>7.2</td>\n",
       "      <td>0.23</td>\n",
       "      <td>0.32</td>\n",
       "      <td>8.5</td>\n",
       "      <td>0.058</td>\n",
       "      <td>47.0</td>\n",
       "      <td>186.0</td>\n",
       "      <td>0.9956</td>\n",
       "      <td>3.19</td>\n",
       "      <td>0.40</td>\n",
       "      <td>9.9</td>\n",
       "      <td>6</td>\n",
       "    </tr>\n",
       "    <tr>\n",
       "      <th>4</th>\n",
       "      <td>white</td>\n",
       "      <td>7.2</td>\n",
       "      <td>0.23</td>\n",
       "      <td>0.32</td>\n",
       "      <td>8.5</td>\n",
       "      <td>0.058</td>\n",
       "      <td>47.0</td>\n",
       "      <td>186.0</td>\n",
       "      <td>0.9956</td>\n",
       "      <td>3.19</td>\n",
       "      <td>0.40</td>\n",
       "      <td>9.9</td>\n",
       "      <td>6</td>\n",
       "    </tr>\n",
       "  </tbody>\n",
       "</table>\n",
       "</div>"
      ],
      "text/plain": [
       "    type  fixed acidity  volatile acidity  citric acid  residual sugar  \\\n",
       "0  white            7.0              0.27         0.36            20.7   \n",
       "1  white            6.3              0.30         0.34             1.6   \n",
       "2  white            8.1              0.28         0.40             6.9   \n",
       "3  white            7.2              0.23         0.32             8.5   \n",
       "4  white            7.2              0.23         0.32             8.5   \n",
       "\n",
       "   chlorides  free sulfur dioxide  total sulfur dioxide  density    pH  \\\n",
       "0      0.045                 45.0                 170.0   1.0010  3.00   \n",
       "1      0.049                 14.0                 132.0   0.9940  3.30   \n",
       "2      0.050                 30.0                  97.0   0.9951  3.26   \n",
       "3      0.058                 47.0                 186.0   0.9956  3.19   \n",
       "4      0.058                 47.0                 186.0   0.9956  3.19   \n",
       "\n",
       "   sulphates  alcohol  quality  \n",
       "0       0.45      8.8        6  \n",
       "1       0.49      9.5        6  \n",
       "2       0.44     10.1        6  \n",
       "3       0.40      9.9        6  \n",
       "4       0.40      9.9        6  "
      ]
     },
     "execution_count": 4,
     "metadata": {},
     "output_type": "execute_result"
    }
   ],
   "source": [
    "data.head()"
   ]
  },
  {
   "cell_type": "markdown",
   "metadata": {
    "colab_type": "text",
    "id": "aQq0yyhAd_Ba"
   },
   "source": [
    "**Описание переменных**\n",
    "\n",
    " - fixed acidity: фиксированная кислотность \n",
    " - volatile acidity: Летучая кислотность \n",
    " - citric acid: лимонная кислота \n",
    " - residual sugar: остаточный сахар \n",
    " - chlorides: хлориды \n",
    " - free sulfur dioxide: свободный диоксид серы \n",
    " - total sulfur dioxide: общий диоксид серы \n",
    " - density: Плотность \n",
    " - pH: рН \n",
    " - sulphates: сульфаты \n",
    " - alcohol: алкоголь \n",
    "\n",
    "\n",
    "   Переменная, которую надо предсказать (на основе принятых перечисленных  выше данных): \n",
    " - quality: качество (оценка от 0 до 10 баллов)\n",
    "\n",
    "\n",
    "[Больше информации на сайте Kaggle]((https://www.kaggle.com/rajyellow46/wine-quality))"
   ]
  },
  {
   "cell_type": "markdown",
   "metadata": {
    "colab_type": "text",
    "id": "75p4hA8jfCkL"
   },
   "source": [
    "### 2.4.1 Далее взглянем на некоторую ключевую информацию о переменных\n",
    "Числовая переменная - это переменная со значениями в области целых или действительных чисел, в то время как категориальная переменная - это переменная, которая может принимать одно из ограниченного и обычно фиксированного числа возможных значений, таких как тип крови.\n",
    "\n",
    "Обратите особое внимание на тип каждой переменной, количество наблюдений и некоторые значения переменных.\n",
    "\n"
   ]
  },
  {
   "cell_type": "code",
   "execution_count": 5,
   "metadata": {
    "colab": {
     "base_uri": "https://localhost:8080/",
     "height": 357
    },
    "colab_type": "code",
    "id": "KtO7NOXhbIwe",
    "outputId": "1db78c36-49fa-4bb8-b0c8-39f6d77193e5",
    "scrolled": true
   },
   "outputs": [
    {
     "name": "stdout",
     "output_type": "stream",
     "text": [
      "<class 'pandas.core.frame.DataFrame'>\n",
      "RangeIndex: 6497 entries, 0 to 6496\n",
      "Data columns (total 13 columns):\n",
      "type                    6497 non-null object\n",
      "fixed acidity           6487 non-null float64\n",
      "volatile acidity        6489 non-null float64\n",
      "citric acid             6494 non-null float64\n",
      "residual sugar          6495 non-null float64\n",
      "chlorides               6495 non-null float64\n",
      "free sulfur dioxide     6497 non-null float64\n",
      "total sulfur dioxide    6497 non-null float64\n",
      "density                 6497 non-null float64\n",
      "pH                      6488 non-null float64\n",
      "sulphates               6493 non-null float64\n",
      "alcohol                 6497 non-null float64\n",
      "quality                 6497 non-null int64\n",
      "dtypes: float64(11), int64(1), object(1)\n",
      "memory usage: 660.0+ KB\n"
     ]
    }
   ],
   "source": [
    "data.info()"
   ]
  },
  {
   "cell_type": "code",
   "execution_count": 6,
   "metadata": {
    "colab": {
     "base_uri": "https://localhost:8080/",
     "height": 421
    },
    "colab_type": "code",
    "id": "CV4AgYdPbIwi",
    "outputId": "53950bda-5251-4b89-acbe-6b5fcb50ad57",
    "scrolled": false
   },
   "outputs": [
    {
     "data": {
      "text/html": [
       "<div>\n",
       "<style scoped>\n",
       "    .dataframe tbody tr th:only-of-type {\n",
       "        vertical-align: middle;\n",
       "    }\n",
       "\n",
       "    .dataframe tbody tr th {\n",
       "        vertical-align: top;\n",
       "    }\n",
       "\n",
       "    .dataframe thead th {\n",
       "        text-align: right;\n",
       "    }\n",
       "</style>\n",
       "<table border=\"1\" class=\"dataframe\">\n",
       "  <thead>\n",
       "    <tr style=\"text-align: right;\">\n",
       "      <th></th>\n",
       "      <th>count</th>\n",
       "      <th>mean</th>\n",
       "      <th>std</th>\n",
       "      <th>min</th>\n",
       "      <th>25%</th>\n",
       "      <th>50%</th>\n",
       "      <th>75%</th>\n",
       "      <th>max</th>\n",
       "    </tr>\n",
       "  </thead>\n",
       "  <tbody>\n",
       "    <tr>\n",
       "      <th>fixed acidity</th>\n",
       "      <td>6487.0</td>\n",
       "      <td>7.216579</td>\n",
       "      <td>1.296750</td>\n",
       "      <td>3.80000</td>\n",
       "      <td>6.40000</td>\n",
       "      <td>7.00000</td>\n",
       "      <td>7.70000</td>\n",
       "      <td>15.90000</td>\n",
       "    </tr>\n",
       "    <tr>\n",
       "      <th>volatile acidity</th>\n",
       "      <td>6489.0</td>\n",
       "      <td>0.339691</td>\n",
       "      <td>0.164649</td>\n",
       "      <td>0.08000</td>\n",
       "      <td>0.23000</td>\n",
       "      <td>0.29000</td>\n",
       "      <td>0.40000</td>\n",
       "      <td>1.58000</td>\n",
       "    </tr>\n",
       "    <tr>\n",
       "      <th>citric acid</th>\n",
       "      <td>6494.0</td>\n",
       "      <td>0.318722</td>\n",
       "      <td>0.145265</td>\n",
       "      <td>0.00000</td>\n",
       "      <td>0.25000</td>\n",
       "      <td>0.31000</td>\n",
       "      <td>0.39000</td>\n",
       "      <td>1.66000</td>\n",
       "    </tr>\n",
       "    <tr>\n",
       "      <th>residual sugar</th>\n",
       "      <td>6495.0</td>\n",
       "      <td>5.444326</td>\n",
       "      <td>4.758125</td>\n",
       "      <td>0.60000</td>\n",
       "      <td>1.80000</td>\n",
       "      <td>3.00000</td>\n",
       "      <td>8.10000</td>\n",
       "      <td>65.80000</td>\n",
       "    </tr>\n",
       "    <tr>\n",
       "      <th>chlorides</th>\n",
       "      <td>6495.0</td>\n",
       "      <td>0.056042</td>\n",
       "      <td>0.035036</td>\n",
       "      <td>0.00900</td>\n",
       "      <td>0.03800</td>\n",
       "      <td>0.04700</td>\n",
       "      <td>0.06500</td>\n",
       "      <td>0.61100</td>\n",
       "    </tr>\n",
       "    <tr>\n",
       "      <th>free sulfur dioxide</th>\n",
       "      <td>6497.0</td>\n",
       "      <td>30.525319</td>\n",
       "      <td>17.749400</td>\n",
       "      <td>1.00000</td>\n",
       "      <td>17.00000</td>\n",
       "      <td>29.00000</td>\n",
       "      <td>41.00000</td>\n",
       "      <td>289.00000</td>\n",
       "    </tr>\n",
       "    <tr>\n",
       "      <th>total sulfur dioxide</th>\n",
       "      <td>6497.0</td>\n",
       "      <td>115.744574</td>\n",
       "      <td>56.521855</td>\n",
       "      <td>6.00000</td>\n",
       "      <td>77.00000</td>\n",
       "      <td>118.00000</td>\n",
       "      <td>156.00000</td>\n",
       "      <td>440.00000</td>\n",
       "    </tr>\n",
       "    <tr>\n",
       "      <th>density</th>\n",
       "      <td>6497.0</td>\n",
       "      <td>0.994697</td>\n",
       "      <td>0.002999</td>\n",
       "      <td>0.98711</td>\n",
       "      <td>0.99234</td>\n",
       "      <td>0.99489</td>\n",
       "      <td>0.99699</td>\n",
       "      <td>1.03898</td>\n",
       "    </tr>\n",
       "    <tr>\n",
       "      <th>pH</th>\n",
       "      <td>6488.0</td>\n",
       "      <td>3.218395</td>\n",
       "      <td>0.160748</td>\n",
       "      <td>2.72000</td>\n",
       "      <td>3.11000</td>\n",
       "      <td>3.21000</td>\n",
       "      <td>3.32000</td>\n",
       "      <td>4.01000</td>\n",
       "    </tr>\n",
       "    <tr>\n",
       "      <th>sulphates</th>\n",
       "      <td>6493.0</td>\n",
       "      <td>0.531215</td>\n",
       "      <td>0.148814</td>\n",
       "      <td>0.22000</td>\n",
       "      <td>0.43000</td>\n",
       "      <td>0.51000</td>\n",
       "      <td>0.60000</td>\n",
       "      <td>2.00000</td>\n",
       "    </tr>\n",
       "    <tr>\n",
       "      <th>alcohol</th>\n",
       "      <td>6497.0</td>\n",
       "      <td>10.491801</td>\n",
       "      <td>1.192712</td>\n",
       "      <td>8.00000</td>\n",
       "      <td>9.50000</td>\n",
       "      <td>10.30000</td>\n",
       "      <td>11.30000</td>\n",
       "      <td>14.90000</td>\n",
       "    </tr>\n",
       "    <tr>\n",
       "      <th>quality</th>\n",
       "      <td>6497.0</td>\n",
       "      <td>5.818378</td>\n",
       "      <td>0.873255</td>\n",
       "      <td>3.00000</td>\n",
       "      <td>5.00000</td>\n",
       "      <td>6.00000</td>\n",
       "      <td>6.00000</td>\n",
       "      <td>9.00000</td>\n",
       "    </tr>\n",
       "  </tbody>\n",
       "</table>\n",
       "</div>"
      ],
      "text/plain": [
       "                       count        mean        std      min       25%  \\\n",
       "fixed acidity         6487.0    7.216579   1.296750  3.80000   6.40000   \n",
       "volatile acidity      6489.0    0.339691   0.164649  0.08000   0.23000   \n",
       "citric acid           6494.0    0.318722   0.145265  0.00000   0.25000   \n",
       "residual sugar        6495.0    5.444326   4.758125  0.60000   1.80000   \n",
       "chlorides             6495.0    0.056042   0.035036  0.00900   0.03800   \n",
       "free sulfur dioxide   6497.0   30.525319  17.749400  1.00000  17.00000   \n",
       "total sulfur dioxide  6497.0  115.744574  56.521855  6.00000  77.00000   \n",
       "density               6497.0    0.994697   0.002999  0.98711   0.99234   \n",
       "pH                    6488.0    3.218395   0.160748  2.72000   3.11000   \n",
       "sulphates             6493.0    0.531215   0.148814  0.22000   0.43000   \n",
       "alcohol               6497.0   10.491801   1.192712  8.00000   9.50000   \n",
       "quality               6497.0    5.818378   0.873255  3.00000   5.00000   \n",
       "\n",
       "                            50%        75%        max  \n",
       "fixed acidity           7.00000    7.70000   15.90000  \n",
       "volatile acidity        0.29000    0.40000    1.58000  \n",
       "citric acid             0.31000    0.39000    1.66000  \n",
       "residual sugar          3.00000    8.10000   65.80000  \n",
       "chlorides               0.04700    0.06500    0.61100  \n",
       "free sulfur dioxide    29.00000   41.00000  289.00000  \n",
       "total sulfur dioxide  118.00000  156.00000  440.00000  \n",
       "density                 0.99489    0.99699    1.03898  \n",
       "pH                      3.21000    3.32000    4.01000  \n",
       "sulphates               0.51000    0.60000    2.00000  \n",
       "alcohol                10.30000   11.30000   14.90000  \n",
       "quality                 6.00000    6.00000    9.00000  "
      ]
     },
     "execution_count": 6,
     "metadata": {},
     "output_type": "execute_result"
    }
   ],
   "source": [
    "data.describe().transpose()"
   ]
  },
  {
   "cell_type": "markdown",
   "metadata": {
    "colab_type": "text",
    "id": "Y1ZLsvd1hbsm"
   },
   "source": [
    "### 2.4.2 Тепловая карта корреляции может дать нам понимание того, какие переменные важны"
   ]
  },
  {
   "cell_type": "code",
   "execution_count": 7,
   "metadata": {},
   "outputs": [
    {
     "data": {
      "image/png": "[encoded data removed]",
      "text/plain": [
       "<Figure size 1080x720 with 2 Axes>"
      ]
     },
     "metadata": {},
     "output_type": "display_data"
    }
   ],
   "source": [
    "%run helpers&EDA/map.py"
   ]
  },
  {
   "cell_type": "markdown",
   "metadata": {
    "colab_type": "text",
    "id": "ZqATdQfDkRqB"
   },
   "source": [
    "### 2.4.3 Давайте подробнее рассмотрим взаимосвязь между процентом алкоголя и качеством вина\n",
    "Начнем с рассмотрения взаимосвязи между процентом алкоголя и качеством вина."
   ]
  },
  {
   "cell_type": "code",
   "execution_count": 8,
   "metadata": {
    "colab": {
     "base_uri": "https://localhost:8080/",
     "height": 191
    },
    "colab_type": "code",
    "id": "xbEqe-mclouH",
    "outputId": "67540a88-8e07-4685-ef4c-821d601fdeda"
   },
   "outputs": [
    {
     "data": {
      "image/png": "[encoded data removed]",
      "text/plain": [
       "<Figure size 1368x144 with 1 Axes>"
      ]
     },
     "metadata": {},
     "output_type": "display_data"
    }
   ],
   "source": [
    "%run helpers&EDA/boxplot.py"
   ]
  },
  {
   "cell_type": "code",
   "execution_count": 9,
   "metadata": {
    "colab": {
     "base_uri": "https://localhost:8080/",
     "height": 441
    },
    "colab_type": "code",
    "id": "22jDmE1zkQ-J",
    "outputId": "de17bac2-dab9-4e20-e71d-920027d18d76"
   },
   "outputs": [
    {
     "data": {
      "image/png": "[encoded data removed]",
      "text/plain": [
       "<Figure size 906.625x432 with 2 Axes>"
      ]
     },
     "metadata": {},
     "output_type": "display_data"
    }
   ],
   "source": [
    "%run helpers&EDA/plot.py"
   ]
  },
  {
   "cell_type": "markdown",
   "metadata": {
    "colab_type": "text",
    "id": "1MfhsrRBl-BF"
   },
   "source": [
    "Рассмотрим графики выше. Различия между выживаемостью для разных значений - это то, что будет использоваться для разделения целевой переменной (в данном случае - выживаемости) в модели. Если бы две линии были примерно одинаковыми, то это не было бы хорошей переменной для нашей прогностической модели."
   ]
  },
  {
   "cell_type": "markdown",
   "metadata": {
    "colab_type": "text",
    "id": "M34UajuLovdU"
   },
   "source": [
    "### 2.4.4 Тип вина\n",
    "Мы также можем посмотреть на категориальную переменную \"тип вина\" и ее связью с качеством\n",
    "\n",
    "- white = белое вина  \n",
    "- red = красное вино\n"
   ]
  },
  {
   "cell_type": "code",
   "execution_count": 10,
   "metadata": {
    "colab": {
     "base_uri": "https://localhost:8080/",
     "height": 225
    },
    "colab_type": "code",
    "id": "cVpOiSwKpHES",
    "outputId": "ecd17dc2-f49c-4a89-e315-e4d8839776f7"
   },
   "outputs": [
    {
     "data": {
      "image/png": "[encoded data removed]",
      "text/plain": [
       "<Figure size 224x216 with 1 Axes>"
      ]
     },
     "metadata": {},
     "output_type": "display_data"
    }
   ],
   "source": [
    "%run helpers&EDA/plot_categ.py"
   ]
  },
  {
   "cell_type": "code",
   "execution_count": null,
   "metadata": {},
   "outputs": [],
   "source": []
  },
  {
   "cell_type": "code",
   "execution_count": null,
   "metadata": {},
   "outputs": [],
   "source": []
  },
  {
   "cell_type": "code",
   "execution_count": null,
   "metadata": {},
   "outputs": [],
   "source": []
  },
  {
   "cell_type": "code",
   "execution_count": null,
   "metadata": {},
   "outputs": [],
   "source": []
  }
 ],
 "metadata": {
  "colab": {
   "collapsed_sections": [
    "Y1ZLsvd1hbsm",
    "ZqATdQfDkRqB",
    "M34UajuLovdU",
    "bzHAhX9SpXIB",
    "GyYZLEHrbI1w",
    "Zy1zAh_-bI2G",
    "ZPv-cILLbI2r",
    "OqifzMzubI2r",
    "KbRtg3KYbI2z",
    "ISJrpCuibI22",
    "1wS2QJlSbI3T",
    "6YHiMMRebI4C"
   ],
   "name": "Wine quality_AML_7_DS-4.ipynb",
   "provenance": [],
   "toc_visible": true
  },
  "kernelspec": {
   "display_name": "Python 3",
   "language": "python",
   "name": "python3"
  },
  "language_info": {
   "codemirror_mode": {
    "name": "ipython",
    "version": 3
   },
   "file_extension": ".py",
   "mimetype": "text/x-python",
   "name": "python",
   "nbconvert_exporter": "python",
   "pygments_lexer": "ipython3",
   "version": "3.7.3"
  }
 },
 "nbformat": 4,
 "nbformat_minor": 1
}

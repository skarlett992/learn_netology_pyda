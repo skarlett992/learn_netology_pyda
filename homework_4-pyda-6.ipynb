{
 "cells": [
  {
   "cell_type": "markdown",
   "metadata": {},
   "source": [
    "# Задание к лекции \"Функции\".\n",
    "Для зачета необходимо правильно выполнить 4 заданий из 6.  \n",
    "Для зачета с отличием – все 6."
   ]
  },
  {
   "cell_type": "markdown",
   "metadata": {},
   "source": [
    "## Задание 1"
   ]
  },
  {
   "cell_type": "markdown",
   "metadata": {},
   "source": [
    "Дан список вида:"
   ]
  },
  {
   "cell_type": "code",
   "execution_count": 1,
   "metadata": {},
   "outputs": [
    {
     "data": {
      "text/plain": [
       "103"
      ]
     },
     "execution_count": 1,
     "metadata": {},
     "output_type": "execute_result"
    }
   ],
   "source": [
    "data = [\n",
    "    [13, 25, 23, 34],\n",
    "    [45, 32, 44, 47],\n",
    "    [12, 33, 23, 95],\n",
    "    [13, 53, 34, 35]\n",
    "]\n",
    "def diag(data):\n",
    "    a = 0\n",
    "    for i,values in enumerate(data):\n",
    "        a+=values[i]\n",
    "    return(a) \n",
    "diag(data)"
   ]
  },
  {
   "cell_type": "markdown",
   "metadata": {},
   "source": [
    "Напишите функцию, которая возвращает сумму элементов на диагонали. Т. е. 13+32+23+35.  \n",
    "Список может быть любой длины, но всегда является \"квадратным\" (количество элементов во вложенных списках равно их количеству)."
   ]
  },
  {
   "cell_type": "markdown",
   "metadata": {},
   "source": [
    "## Задание 2"
   ]
  },
  {
   "cell_type": "markdown",
   "metadata": {},
   "source": [
    "Напишите функцию, возвращающую сумму первых n чисел Фибоначчи (для этого вам может понадобится ознакомиться с рекурсией)."
   ]
  },
  {
   "cell_type": "code",
   "execution_count": 2,
   "metadata": {},
   "outputs": [
    {
     "name": "stdout",
     "output_type": "stream",
     "text": [
      "12\n"
     ]
    }
   ],
   "source": [
    "def fib(n):\n",
    "    seq = [0, 1]\n",
    "    for i in range(2, n + 1):\n",
    "        seq.append(seq[i-1] + seq[i-2])\n",
    "    print(sum(seq))\n",
    "    \n",
    "fib(5)"
   ]
  },
  {
   "cell_type": "markdown",
   "metadata": {},
   "source": [
    "## Задание 3"
   ]
  },
  {
   "cell_type": "code",
   "execution_count": 178,
   "metadata": {},
   "outputs": [
    {
     "name": "stdout",
     "output_type": "stream",
     "text": [
      "Список покупок:\n",
      "Сыр 200 гр\n",
      "Колбаса 300 гр\n",
      "Бекон 300 гр\n",
      "Оливки 100 гр\n",
      "Томаты 200 гр\n",
      "Тесто 1000 гр\n",
      "Лимон 5 шт\n",
      "Вода 1000 мл\n",
      "Сахар 50 гр\n",
      "Лайм 100 гр\n"
     ]
    }
   ],
   "source": [
    "cook_book = {\n",
    "  'салат': [\n",
    "     {'ingridient_name': 'сыр', 'quantity': 50, 'measure': 'гр'},\n",
    "     {'ingridient_name': 'томаты', 'quantity': 20, 'measure': 'гр'},\n",
    "     {'ingridient_name': 'огурцы', 'quantity': 20, 'measure': 'гр'},\n",
    "     {'ingridient_name': 'маслины', 'quantity': 10, 'measure': 'гр'},\n",
    "     {'ingridient_name': 'оливковое масло', 'quantity': 20, 'measure': 'мл'},\n",
    "     {'ingridient_name': 'салат', 'quantity': 10, 'measure': 'гр'},\n",
    "     {'ingridient_name': 'перец', 'quantity': 20, 'measure': 'гр'}\n",
    "    ],\n",
    "  'пицца': [\n",
    "     {'ingridient_name': 'сыр', 'quantity': 20, 'measure': 'гр'},\n",
    "     {'ingridient_name': 'колбаса', 'quantity': 30, 'measure': 'гр'},\n",
    "     {'ingridient_name': 'бекон', 'quantity': 30, 'measure': 'гр'},\n",
    "     {'ingridient_name': 'оливки', 'quantity': 10, 'measure': 'гр'},\n",
    "     {'ingridient_name': 'томаты', 'quantity': 20, 'measure': 'гр'},\n",
    "     {'ingridient_name': 'тесто', 'quantity': 100, 'measure': 'гр'},   \n",
    "    ],\n",
    "  'лимонад': [\n",
    "     {'ingridient_name': 'лимон', 'quantity': 1, 'measure': 'шт'},\n",
    "     {'ingridient_name': 'вода', 'quantity': 200, 'measure': 'мл'},\n",
    "     {'ingridient_name': 'сахар', 'quantity': 10, 'measure': 'гр'},\n",
    "     {'ingridient_name': 'лайм', 'quantity': 20, 'measure': 'гр'},    \n",
    "    ]\n",
    "}\n",
    "\n",
    "def each_ing(cook_book, dishes, n):\n",
    "    proverka = {}\n",
    "    for dish in dishes:\n",
    "        for x in cook_book[dish]:\n",
    "            if x['ingridient_name'] in proverka.keys():\n",
    "                proverka[x['ingridient_name']][0]+=x['quantity']*n\n",
    "            else:\n",
    "                proverka[x['ingridient_name']]=[x['quantity']*n, x['measure']]\n",
    "    return proverka\n",
    "\n",
    "def list_of_pokupok(dict_of_ingrids):\n",
    "    print(f'Список покупок:')\n",
    "    for key, value in dict_of_ingrids.items():\n",
    "        print(f'{key.capitalize()} {value[0]} {value[1]}')\n",
    "        \n",
    "list_of_pokupok(each_ing(cook_book, ['пицца', 'пицца', 'лимонад'], 5))"
   ]
  },
  {
   "cell_type": "markdown",
   "metadata": {},
   "source": [
    "Напишите программу (она может состоять из нескольких функций), которая будет запрашивать у пользователя количество гостей и список блюд, которые будут подаваться каждому гостю. В результате программа должна выдавать список покупок, состоящий из ингредиентов, которые нужно купить в магазине (если ингредиенты повторяются, то их нужно записать одной строкой, а не отдельно).\n",
    "\n",
    "Пример:\n",
    "\n",
    "вызов\\_главной\\_функций()\n",
    "\n",
    "Введите количество гостей: 3  \n",
    "Введите блюда через пробел: пицца пицца лимонад\n",
    "\n",
    "Список покупок:  \n",
    "сыр 120 гр  \n",
    "колбаса 180 гр  \n",
    "бекон 180 гр  \n",
    "оливки 60 гр  \n",
    "томаты 120 гр  \n",
    "тесто 600 гр  \n",
    "лимон 3 шт  \n",
    "вода 600 мл  \n",
    "сахар 30 гр  \n",
    "лайм 60 гр  "
   ]
  },
  {
   "cell_type": "markdown",
   "metadata": {},
   "source": [
    "## Задание 4"
   ]
  },
  {
   "cell_type": "markdown",
   "metadata": {},
   "source": [
    "Вы работаете секретарем и вам постоянно приходят различные документы. Вы должны быть очень внимательны, чтобы не потерять ни один документ. Каталог документов хранится в следующем виде:"
   ]
  },
  {
   "cell_type": "code",
   "execution_count": 234,
   "metadata": {},
   "outputs": [],
   "source": [
    "from itertools import chain\n",
    "documents = [\n",
    "    {'type': 'passport', 'number': '2207 876234', 'name': 'Василий Гупкин'},\n",
    "    {'type': 'invoice', 'number': '11-2', 'name': 'Геннадий Покемонов'},\n",
    "    {'type': 'insurance', 'number': '10006', 'name': 'Аристарх Павлов'}\n",
    "]"
   ]
  },
  {
   "cell_type": "markdown",
   "metadata": {},
   "source": [
    "Перечень полок, на которых находятся документы хранится в следующем виде:"
   ]
  },
  {
   "cell_type": "code",
   "execution_count": 235,
   "metadata": {},
   "outputs": [],
   "source": [
    "directories = {\n",
    "    '1': ['2207 876234', '11-2', '5455 028765'],\n",
    "    '2': ['10006', '5400 028765', '5455 002299'],\n",
    "    '3': []\n",
    "}"
   ]
  },
  {
   "cell_type": "markdown",
   "metadata": {},
   "source": [
    "#p – people – команда, которая спросит номер документа и выведет имя человека, которому он принадлежит"
   ]
  },
  {
   "cell_type": "code",
   "execution_count": 242,
   "metadata": {},
   "outputs": [
    {
     "name": "stdout",
     "output_type": "stream",
     "text": [
      "Введите команду p\n",
      "Введите номер докумена: 2207 876234\n",
      "['Василий Гупкин']\n"
     ]
    }
   ],
   "source": [
    "a = input('Введите команду ', )\n",
    "p = input('Введите номер докумена: ', )\n",
    "def people(a, p):\n",
    "    if a == 'p':\n",
    "        peop = [x['name'] for x in documents if x['number']==p]\n",
    "        if peop ==[]:\n",
    "            peop = 'Такого документа не существует'\n",
    "    else:\n",
    "        peop = 'Такой команды не существует'    \n",
    "    return peop\n",
    "print(people(a, p))\n"
   ]
  },
  {
   "cell_type": "markdown",
   "metadata": {},
   "source": [
    "#s – shelf – команда, которая спросит номер документа и выведет номер полки, на которой он находится\n",
    "#Правильно обработайте ситуацию, когда пользователь будет вводить несуществующий документ"
   ]
  },
  {
   "cell_type": "code",
   "execution_count": 240,
   "metadata": {},
   "outputs": [
    {
     "name": "stdout",
     "output_type": "stream",
     "text": [
      "Введите команду s\n",
      "Введите номер докумена: abra\n",
      "Такого документа не существует\n"
     ]
    }
   ],
   "source": [
    "a = input('Введите команду ', )\n",
    "s = input('Введите номер докумена: ', )\n",
    "def shelf(a, s):\n",
    "    if a=='s':\n",
    "        shelf_ = [x for x in directories.keys() if s in directories[x]]\n",
    "        if len(shelf_) ==0:\n",
    "            shelf_ = 'Такого документа не существует'\n",
    "    else:\n",
    "        shelf_ = 'Такой команды не существует'    \n",
    "    return shelf_\n",
    "print(shelf(a, s))\n"
   ]
  },
  {
   "cell_type": "markdown",
   "metadata": {},
   "source": [
    "#l – list – команда, которая выведет список всех документов в формате\n",
    "#passport \"2207 876234\" \"Василий Гупкин\"  "
   ]
  },
  {
   "cell_type": "code",
   "execution_count": 243,
   "metadata": {},
   "outputs": [
    {
     "name": "stdout",
     "output_type": "stream",
     "text": [
      "Введите команду l\n",
      "passport \"2207 876234\" \"Василий Гупкин\"\n",
      "invoice \"11-2\" \"Геннадий Покемонов\"\n",
      "insurance \"10006\" \"Аристарх Павлов\"\n"
     ]
    }
   ],
   "source": [
    "a = input('Введите команду ', )\n",
    "def list_(a):\n",
    "    if a=='l':\n",
    "        list_l = '\\n'.join([f'''{x['type']} \"{x['number']}\" \"{x['name']}\"''' for x in documents])\n",
    "        return list_l\n",
    "print(list_(a))\n",
    "\n"
   ]
  },
  {
   "cell_type": "markdown",
   "metadata": {},
   "source": [
    "#as – add shelf – команда, которая спросит номер новой полки и добавит ее в перечень'''"
   ]
  },
  {
   "cell_type": "code",
   "execution_count": 259,
   "metadata": {},
   "outputs": [
    {
     "name": "stdout",
     "output_type": "stream",
     "text": [
      "Введите команду as_\n",
      "Введите номер полки\n",
      "7\n",
      " Добавлена новая полка 7\n",
      "<function add_shelf at 0x1048b3510>\n"
     ]
    }
   ],
   "source": [
    "a = input('Введите команду ', )\n",
    "as_ = input('Введите номер полки\\n')\n",
    "def add_shelf(a, as_):\n",
    "    if a=='as_':\n",
    "        if as_ not in directories.keys():\n",
    "            directories[as_] = []\n",
    "            print(f' Добавлена новая полка {as_}')\n",
    "        else:\n",
    "            print('Полка существует')   \n",
    "    return add_shelf\n",
    "print(add_shelf(a, as_))    \n"
   ]
  },
  {
   "cell_type": "markdown",
   "metadata": {},
   "source": [
    "#d – delete – команда, которая спросит номер документа и удалит его из каталога и из перечня полок. \n",
    "#Предусмотрите сценарий, когда пользователь вводит несуществующий документ"
   ]
  },
  {
   "cell_type": "code",
   "execution_count": 233,
   "metadata": {},
   "outputs": [
    {
     "name": "stdout",
     "output_type": "stream",
     "text": [
      "Введите команду d\n",
      "Введите номер документа\n",
      "11-2\n",
      "Данный документ отсутствует в перечне документов\n",
      "Данный документ отсутствует на полках\n",
      "None\n"
     ]
    }
   ],
   "source": [
    "a = input('Введите команду ', )\n",
    "d = input('Введите номер документа\\n')\n",
    "def delete(a, d):\n",
    "    global documents\n",
    "    if a=='d':\n",
    "        new_documents = [x for x in documents if x['number']!=d]\n",
    "        if len(documents) - len(new_documents)>0:\n",
    "            print(f'Документ удален из перечня документов')\n",
    "        else:\n",
    "            print('Данный документ отсутствует в перечне документов')\n",
    "        documents = new_documents\n",
    "        n_deleted = 0\n",
    "        for k in directories.keys():\n",
    "            new_shelf = [x for x in directories[k] if x!=d]\n",
    "            n_deleted += len(directories[k]) - len(new_shelf)\n",
    "            directories[k] = new_shelf\n",
    "        if n_deleted>0:\n",
    "            print(f'Документ удален с полки')\n",
    "        else:\n",
    "            print('Данный документ отсутствует на полках')\n",
    "print(delete(a, d))  "
   ]
  },
  {
   "cell_type": "markdown",
   "metadata": {},
   "source": [
    "#m – move – команда, которая спросит номер документа и целевую полку и переместит его с текущей полки на целевую. \n",
    "#Корректно обработайте кейсы, когда пользователь пытается переместить несуществующий документ или переместить \n",
    "#документ на несуществующую полку "
   ]
  },
  {
   "cell_type": "code",
   "execution_count": 261,
   "metadata": {},
   "outputs": [
    {
     "name": "stdout",
     "output_type": "stream",
     "text": [
      "Введите команду m\n",
      "Введите номер документа \n",
      "11-2\n",
      "Введите номер целевой полки \n",
      "7\n",
      "Успешно\n",
      "None\n"
     ]
    }
   ],
   "source": [
    "a = input('Введите команду ', )\n",
    "m = f'document_number + shelf_name'\n",
    "document_number = input(f\"Введите номер документа \\n\")\n",
    "shelf_name = input(f\"Введите номер целевой полки \\n\")\n",
    "\n",
    "def move(a, m): \n",
    "    global documents\n",
    "    global directories\n",
    "    if a=='m':\n",
    "        cur_dirs = [k for k in directories.keys() if document_number in directories[k]]\n",
    "        if len(cur_dirs) == 0:\n",
    "            print('Данный документ отсутствует в директориях')\n",
    "        elif cur_dirs == [shelf_name]:\n",
    "            print('Данный документ уже находится на необходимой полке')\n",
    "        elif shelf_name not in directories.keys():\n",
    "            print('Данная полка не существует')    \n",
    "        else:\n",
    "            directories = {k: [x for x in v if x != document_number] for k, v in directories.items()}\n",
    "            directories[shelf_name].append(document_number)\n",
    "            print('Успешно')\n",
    "print(move(a, m)) "
   ]
  },
  {
   "cell_type": "markdown",
   "metadata": {},
   "source": [
    "### a – add – команда, которая добавит новый документ в каталог и в перечень полок, \n",
    "#спросив его номер, тип, имя владельца и номер полки, на котором он будет храниться."
   ]
  },
  {
   "cell_type": "code",
   "execution_count": 256,
   "metadata": {},
   "outputs": [
    {
     "name": "stdout",
     "output_type": "stream",
     "text": [
      "Введите команду add\n",
      "Введите тип документа \n",
      "abra\n",
      "Введите номер документа \n",
      "cadabra\n",
      "Введите имя владельца документа \n",
      "k,b\n",
      "Введите номер целевой полки \n",
      "3\n",
      "Document created\n",
      "Document added to shelf\n",
      "None\n"
     ]
    }
   ],
   "source": [
    "a = input('Введите команду ', )\n",
    "add = f'doc_type + doc_num + doc_name + shelf_name'\n",
    "doc_type = input(f\"Введите тип документа \\n\")\n",
    "doc_num = input(f\"Введите номер документа \\n\")\n",
    "doc_name = input(f\"Введите имя владельца документа \\n\")\n",
    "shelf_name = input(f\"Введите номер целевой полки \\n\")\n",
    "global documents\n",
    "def add_(a, add): \n",
    "    global documents\n",
    "    global directories\n",
    "    if a=='add':\n",
    "        new_doc = {'type': doc_type, 'number': doc_num, 'name': doc_name}\n",
    "        if doc_num in [x['number'] for x in documents]:\n",
    "            if new_doc in documents:\n",
    "                if doc_num in chain.from_iterable(directories.values()):\n",
    "                    print('This document already exists')\n",
    "                else:\n",
    "                    if shelf_name in directories.keys():\n",
    "                        directories[shelf_name].append(doc_name)\n",
    "                    else:\n",
    "                        print('This shelf does not exist')\n",
    "            else:\n",
    "                print('Document with this number already exists')\n",
    "        else:\n",
    "            documents.append(new_doc)\n",
    "            print('Document created')\n",
    "            if doc_num not in chain.from_iterable(directories.values()):\n",
    "                if shelf_name in directories.keys():\n",
    "                    directories[shelf_name].append(doc_num)\n",
    "                    print('Document added to shelf')\n",
    "                else:\n",
    "                    print('This shelf does not exist')\n",
    "            else:\n",
    "                print('This document is already on shelfes')\n",
    "print(add_(a, add))"
   ]
  },
  {
   "cell_type": "code",
   "execution_count": 257,
   "metadata": {},
   "outputs": [
    {
     "name": "stdout",
     "output_type": "stream",
     "text": [
      "[{'type': 'passport', 'number': '2207 876234', 'name': 'Василий Гупкин'}, {'type': 'invoice', 'number': '11-2', 'name': 'Геннадий Покемонов'}, {'type': 'insurance', 'number': '10006', 'name': 'Аристарх Павлов'}, {'type': 'abra', 'number': 'cadabra', 'name': 'k,b'}]\n"
     ]
    }
   ],
   "source": [
    "print(documents)"
   ]
  },
  {
   "cell_type": "code",
   "execution_count": 262,
   "metadata": {},
   "outputs": [
    {
     "name": "stdout",
     "output_type": "stream",
     "text": [
      "{'1': ['2207 876234', '5455 028765'], '2': ['10006', '5400 028765', '5455 002299'], '3': ['cadabra'], '7': ['11-2']}\n"
     ]
    }
   ],
   "source": [
    "print(directories)"
   ]
  },
  {
   "cell_type": "code",
   "execution_count": null,
   "metadata": {},
   "outputs": [],
   "source": []
  }
 ],
 "metadata": {
  "kernelspec": {
   "display_name": "Python 3",
   "language": "python",
   "name": "python3"
  },
  "language_info": {
   "codemirror_mode": {
    "name": "ipython",
    "version": 3
   },
   "file_extension": ".py",
   "mimetype": "text/x-python",
   "name": "python",
   "nbconvert_exporter": "python",
   "pygments_lexer": "ipython3",
   "version": "3.7.3"
  }
 },
 "nbformat": 4,
 "nbformat_minor": 2
}

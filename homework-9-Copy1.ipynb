{
 "cells": [
  {
   "cell_type": "markdown",
   "metadata": {},
   "source": [
    "### Центральная предельная теорема\n",
    "В этом задании нужно убедиться, что ЦПТ действительно работает"
   ]
  },
  {
   "cell_type": "code",
   "execution_count": 60,
   "metadata": {},
   "outputs": [],
   "source": [
    "import pandas as pd\n",
    "import numpy as np\n",
    "import matplotlib.pyplot as plt\n",
    "import scipy.stats as sts\n",
    "%matplotlib inline\n",
    "from scipy.stats import norm\n",
    "import random\n",
    "import seaborn\n",
    "from scipy.stats import uniform\n",
    "\n",
    "from numpy.random import choice\n",
    "from scipy.stats import *"
   ]
  },
  {
   "cell_type": "code",
   "execution_count": 65,
   "metadata": {},
   "outputs": [],
   "source": [
    "rv = uniform(loc=2, scale=6)\n",
    "sample = rv.rvs(size=1000)"
   ]
  },
  {
   "cell_type": "code",
   "execution_count": 68,
   "metadata": {},
   "outputs": [
    {
     "data": {
      "image/png": "[encoded data removed]",
      "text/plain": [
       "<Figure size 432x288 with 1 Axes>"
      ]
     },
     "metadata": {
      "needs_background": "light"
     },
     "output_type": "display_data"
    }
   ],
   "source": [
    "x = np.linspace(0,10,100)\n",
    "pdf = rv.pdf(x)\n",
    "plt.hist(sample, density=True, bins=30, label='sample histogram')\n",
    "plt.plot(x, pdf, label='theoretical pdf', alpha=0.5)\n",
    "plt.legend()\n",
    "plt.ylabel('fraction of samples, $f(x)$')\n",
    "plt.xlabel('$x$')\n",
    "plt.show()"
   ]
  },
  {
   "cell_type": "markdown",
   "metadata": {},
   "source": [
    "Создайте случайную величину из любого выбранного вами распределения, для разных значений n сгенерируйте 1000 выборок размера n и постройте гистрограммы средних этих выборок."
   ]
  },
  {
   "cell_type": "code",
   "execution_count": 69,
   "metadata": {},
   "outputs": [],
   "source": [
    "#probas = np.random.random(10)\n",
    "#probas = probas / probas.sum()\n",
    "#values = list(range(10))\n",
    "#values\n",
    "#sample = []\n",
    "#for _ in range(1000):\n",
    "#    sample.append(np.random.choice(values, size=np.random.randint(10,100), p=probas))\n",
    "#sample"
   ]
  },
  {
   "cell_type": "code",
   "execution_count": 70,
   "metadata": {},
   "outputs": [],
   "source": [
    "#means = [x.mean() for x in sample]\n",
    "#means"
   ]
  },
  {
   "cell_type": "code",
   "execution_count": 77,
   "metadata": {},
   "outputs": [],
   "source": [
    "#параметры запуска: размеры выборок и количество повторов генерации\n",
    "n1 = 1000\n",
    "# YOUR CODE HERE\n",
    "\n",
    "samples_count = 1000\n",
    "#массивы для сохранения средних по выборкам\n",
    "a1 = np.array([])\n",
    "\n",
    "for number in range(samples_count):\n",
    "    # на каждом цикле генерируем выборки разных размеров\n",
    "    sample1 = rv.rvs(size=n1)\n",
    "    # YOUR CODE HERE\n",
    "    # считаем среднее по каждой выборке и добавляем в массив средних\n",
    "    a1 = np.append(a1, sample1.mean())\n",
    "    # YOUR CODE HERE"
   ]
  },
  {
   "cell_type": "code",
   "execution_count": 78,
   "metadata": {},
   "outputs": [
    {
     "data": {
      "text/plain": [
       "Text(0.5, 0, '$x$')"
      ]
     },
     "execution_count": 78,
     "metadata": {},
     "output_type": "execute_result"
    },
    {
     "data": {
      "image/png": "[encoded data removed]",
      "text/plain": [
       "<Figure size 432x288 with 1 Axes>"
      ]
     },
     "metadata": {
      "needs_background": "light"
     },
     "output_type": "display_data"
    }
   ],
   "source": [
    "#строим графики\n",
    "#подписи для графиков\n",
    "label_1 = 'sample of ' + str(n1) + ' histogram'\n",
    "plt.hist(a1, density=True, label=label_1)\n",
    "\n",
    "plt.legend()\n",
    "plt.ylabel('samples means')\n",
    "plt.xlabel('$x$')"
   ]
  },
  {
   "cell_type": "code",
   "execution_count": null,
   "metadata": {},
   "outputs": [],
   "source": []
  }
 ],
 "metadata": {
  "kernelspec": {
   "display_name": "Python 3",
   "language": "python",
   "name": "python3"
  },
  "language_info": {
   "codemirror_mode": {
    "name": "ipython",
    "version": 3
   },
   "file_extension": ".py",
   "mimetype": "text/x-python",
   "name": "python",
   "nbconvert_exporter": "python",
   "pygments_lexer": "ipython3",
   "version": "3.7.3"
  }
 },
 "nbformat": 4,
 "nbformat_minor": 2
}
